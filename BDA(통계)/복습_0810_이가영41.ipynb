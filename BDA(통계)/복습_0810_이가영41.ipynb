{
  "cells": [
    {
      "cell_type": "markdown",
      "metadata": {
        "id": "view-in-github",
        "colab_type": "text"
      },
      "source": [
        "<a href=\"https://colab.research.google.com/github/LYZAcell/data_study/blob/main/BDA(%ED%86%B5%EA%B3%84)/%EB%B3%B5%EC%8A%B5_0810_%EC%9D%B4%EA%B0%80%EC%98%8141.ipynb\" target=\"_parent\"><img src=\"https://colab.research.google.com/assets/colab-badge.svg\" alt=\"Open In Colab\"/></a>"
      ]
    },
    {
      "cell_type": "markdown",
      "source": [
        "# EDA 및 T검정(+Z검정)"
      ],
      "metadata": {
        "id": "GRY3E6SMSK4E"
      },
      "id": "GRY3E6SMSK4E"
    },
    {
      "cell_type": "markdown",
      "id": "4c84c3cf",
      "metadata": {
        "id": "4c84c3cf"
      },
      "source": [
        "## 두 모비율의 차이를 검정\n",
        "\n",
        "- 문제\n",
        "    - A회사, B회사 각각 100명 설문조사를 진행했다.\n",
        "    - A에 대한 회사 제품 만족도 50명 응답, B에는 30명이 응답했다.\n",
        "    - 두 회사의 만족도의 비율 차이가 있는지 검정하고 싶다.\n",
        "    \n",
        "    - Z-검정\n",
        "    - 가설 설정\n",
        "    - 귀무가설(H0) : 두 회사의 고객 만족도의 비율 차이는 없다. (pA = pB)\n",
        "    - 대립가설(H1) : 두 회사는 고객 만족도의 비율 차이가 있다. (pA =/ pB)\n",
        "    \n",
        "    - 검정 방법\n",
        "        - 양측 검정\n",
        "        - Z-검정통계량\n",
        "    "
      ]
    },
    {
      "cell_type": "code",
      "execution_count": null,
      "id": "8200208d",
      "metadata": {
        "id": "8200208d"
      },
      "outputs": [],
      "source": [
        "import numpy as np\n",
        "from statsmodels.stats.proportion import proportions_ztest\n",
        "from scipy.stats import norm\n",
        "import seaborn as sns"
      ]
    },
    {
      "cell_type": "code",
      "execution_count": null,
      "id": "11c7f8f5",
      "metadata": {
        "id": "11c7f8f5"
      },
      "outputs": [],
      "source": [
        "# 가상의 데이터 만들기\n",
        "\n",
        "res_a = 50\n",
        "t_a = 100\n",
        "\n",
        "res_b = 30\n",
        "t_b = 100"
      ]
    },
    {
      "cell_type": "code",
      "execution_count": null,
      "id": "0fccf8f5",
      "metadata": {
        "id": "0fccf8f5"
      },
      "outputs": [],
      "source": [
        "# Z-검정을 통한 두 모비율 비교\n",
        "count = np.array([res_a, res_b])\n",
        "t_ab = np.array([t_a, t_b])"
      ]
    },
    {
      "cell_type": "code",
      "execution_count": null,
      "id": "80ed0d8c",
      "metadata": {
        "id": "80ed0d8c"
      },
      "outputs": [],
      "source": [
        "stat, p_value = proportions_ztest(count, t_ab)"
      ]
    },
    {
      "cell_type": "code",
      "execution_count": null,
      "id": "5cc0343a",
      "metadata": {
        "id": "5cc0343a",
        "outputId": "d473cd72-6b66-4ce7-e279-61437a20ba4f"
      },
      "outputs": [
        {
          "data": {
            "text/plain": [
              "2.886751345948129"
            ]
          },
          "execution_count": 12,
          "metadata": {},
          "output_type": "execute_result"
        }
      ],
      "source": [
        "stat"
      ]
    },
    {
      "cell_type": "code",
      "execution_count": null,
      "id": "c284721e",
      "metadata": {
        "id": "c284721e",
        "outputId": "95c6640d-1319-4c4d-d7fd-1c53045431f3"
      },
      "outputs": [
        {
          "data": {
            "text/plain": [
              "0.003892417122778628"
            ]
          },
          "execution_count": 13,
          "metadata": {},
          "output_type": "execute_result"
        }
      ],
      "source": [
        "p_value"
      ]
    },
    {
      "cell_type": "code",
      "execution_count": null,
      "id": "4e2a9558",
      "metadata": {
        "id": "4e2a9558"
      },
      "outputs": [],
      "source": [
        "## 신뢰구간\n",
        "alpha = 0.05\n",
        "z_critical =norm.ppf(1-alpha/2) #신뢰구간 z-값\n",
        "conf__interval = [stat - z_critical, stat+z_critical]"
      ]
    },
    {
      "cell_type": "code",
      "execution_count": null,
      "id": "196f37c2",
      "metadata": {
        "id": "196f37c2",
        "outputId": "cc4a2a15-55fb-4d46-a0b2-6fc26af96122"
      },
      "outputs": [
        {
          "data": {
            "text/plain": [
              "[0.926787361408075, 4.846715330488183]"
            ]
          },
          "execution_count": 15,
          "metadata": {},
          "output_type": "execute_result"
        }
      ],
      "source": [
        "conf__interval"
      ]
    },
    {
      "cell_type": "code",
      "execution_count": null,
      "id": "6597bfb7",
      "metadata": {
        "id": "6597bfb7",
        "outputId": "e0cbd28c-e867-45f9-9ffb-ed7c63f2ec56"
      },
      "outputs": [
        {
          "data": {
            "text/plain": [
              "1.959963984540054"
            ]
          },
          "execution_count": 16,
          "metadata": {},
          "output_type": "execute_result"
        }
      ],
      "source": [
        "z_critical"
      ]
    },
    {
      "cell_type": "markdown",
      "id": "97f6dfaa",
      "metadata": {
        "id": "97f6dfaa"
      },
      "source": [
        "## 데이터셋을 가지고 불러오기"
      ]
    },
    {
      "cell_type": "code",
      "execution_count": null,
      "id": "5794711a",
      "metadata": {
        "id": "5794711a"
      },
      "outputs": [],
      "source": [
        "df= sns.load_dataset('titanic')"
      ]
    },
    {
      "cell_type": "markdown",
      "id": "7ed0eeda",
      "metadata": {
        "id": "7ed0eeda"
      },
      "source": [
        "- 두 모비율의 차이의 검정\n",
        "- 타이타닉 데이터셋에서 남성과 여성의 생존율 차이가 존재할 것이다.\n",
        "\n",
        "    - 가설설정\n",
        "        - 귀무가설 (H0) : 남성과 여성의 생존율 차이가 없다.(p(male) = p(female))\n",
        "        - 대립가설 (H1) : 남성과 여성의 생존율 차이가 있다.(p(male) /= p(female))\n",
        "        \n",
        "    - 데이터셋의 크기, 검정 통계량, Z-검정통계량값"
      ]
    },
    {
      "cell_type": "code",
      "execution_count": null,
      "id": "d4e8e3a6",
      "metadata": {
        "id": "d4e8e3a6"
      },
      "outputs": [],
      "source": [
        "## 남성과, 여성의 생존율을 계산\n",
        "\n",
        "sur_male = df[(df['sex']=='male')& (df['survived']==1)].shape[0]\n",
        "tt_male = df[df['sex']=='male'].shape[0]\n",
        "\n",
        "sur_female = df[(df['sex']=='female')& (df['survived']==1)].shape[0]\n",
        "tt_female = df[df['sex']=='female'].shape[0]\n"
      ]
    },
    {
      "cell_type": "code",
      "execution_count": null,
      "id": "d39f8de9",
      "metadata": {
        "id": "d39f8de9"
      },
      "outputs": [],
      "source": [
        "# Z-검정을 통한 두 모비율 비교\n",
        "count = np.array([sur_male, sur_female])\n",
        "t_ab = np.array([tt_male, tt_female])"
      ]
    },
    {
      "cell_type": "code",
      "execution_count": null,
      "id": "be042ba4",
      "metadata": {
        "id": "be042ba4"
      },
      "outputs": [],
      "source": [
        "stat, p_value = proportions_ztest(count, t_ab)"
      ]
    },
    {
      "cell_type": "code",
      "execution_count": null,
      "id": "337729ee",
      "metadata": {
        "id": "337729ee",
        "outputId": "5bf24684-c3cc-4fab-a012-138f45501cc0"
      },
      "outputs": [
        {
          "name": "stdout",
          "output_type": "stream",
          "text": [
            "Z-statistics : -16.218833930670097, p-value: 3.7117477701134797e-59\n"
          ]
        }
      ],
      "source": [
        "print(f\"Z-statistics : {stat}, p-value: {p_value}\")"
      ]
    },
    {
      "cell_type": "markdown",
      "id": "f1ae027f",
      "metadata": {
        "id": "f1ae027f"
      },
      "source": [
        "- p_value 0.05 훨씬 작은 값\n",
        "- 타이타닉 데이터의 남성과 여성의 생존율의는 차이가 존재한다. 5% 유의수준 가정하에서"
      ]
    },
    {
      "cell_type": "markdown",
      "id": "f1479d10",
      "metadata": {
        "id": "f1479d10"
      },
      "source": [
        "### 두 모평균에 대한 t-검정 (Iris 데이터)\n",
        "- Iris 데이터\n",
        "- Setosa, Versicolor 이 두 종의 평균 꽃받침 길의 차이가 있는지 알고 싶다.\n",
        "\n",
        "    - 가설 설정:\n",
        "        - 귀무가설(H0): Setosa, Versicolor 종의 평균 꽃받침 길이에 차이는 없다. (u_Setosa = u_Versicolor)\n",
        "        - 대립가설(H1): Setosa, Versicolor 종의 평균 꽃받침 길이에 차이는 있다. (u_Setosa /= u_Versicolor)\n",
        "        \n",
        "    - 데이터셋을 보고 소표본\n",
        "    - t-검정\n",
        "    - 진행하자!"
      ]
    },
    {
      "cell_type": "code",
      "execution_count": null,
      "id": "47e3a598",
      "metadata": {
        "id": "47e3a598"
      },
      "outputs": [],
      "source": [
        "from sklearn.datasets import load_iris\n",
        "\n",
        "iris = load_iris()\n",
        "data = iris.data\n",
        "target = iris.target\n"
      ]
    },
    {
      "cell_type": "code",
      "execution_count": null,
      "id": "1dab9858",
      "metadata": {
        "scrolled": true,
        "id": "1dab9858"
      },
      "outputs": [],
      "source": [
        "#데이터 추출\n",
        "setosa_sepal_length = data[target ==0,0]\n",
        "versicolor_sepal_length = data[target ==1,0]"
      ]
    },
    {
      "cell_type": "code",
      "execution_count": null,
      "id": "64cd7f8d",
      "metadata": {
        "id": "64cd7f8d"
      },
      "outputs": [],
      "source": [
        "##ttest\n",
        "from scipy.stats import ttest_ind, t\n",
        "\n",
        "## 두 모 평균에 대한 t-검정\n",
        "t_stat, p_value =ttest_ind(setosa_sepal_length, versicolor_sepal_length)"
      ]
    },
    {
      "cell_type": "code",
      "execution_count": null,
      "id": "753c1c16",
      "metadata": {
        "id": "753c1c16",
        "outputId": "1063a853-0426-4178-e5d0-9dc41e448c21"
      },
      "outputs": [
        {
          "name": "stdout",
          "output_type": "stream",
          "text": [
            "T-statistics : -10.52098626754911, p-value: 8.985235037487079e-18\n"
          ]
        }
      ],
      "source": [
        "print(f\"T-statistics : {t_stat}, p-value: {p_value}\")"
      ]
    },
    {
      "cell_type": "markdown",
      "id": "d32397fc",
      "metadata": {
        "id": "d32397fc"
      },
      "source": [
        "- p-value 유의수준 0.05보다 작다, 귀무가설을 기각하고 두 종의 평균 꽃잎 길이에 유의미한 차이가 있다고 결론지을 수 있다. 5%유의수준하에서"
      ]
    },
    {
      "cell_type": "markdown",
      "id": "e0628e00",
      "metadata": {
        "id": "e0628e00"
      },
      "source": [
        "### wine 데이터셋을 가지고\n",
        "- t-test로 진행하자!"
      ]
    },
    {
      "cell_type": "markdown",
      "id": "a9a580cf",
      "metadata": {
        "id": "a9a580cf"
      },
      "source": [
        "### wine data에서 클래스 0과 클래스 1의 평균 알코올 함량이 차이가 있는지? 검정하자!\n",
        "\n",
        "- 가설 설정\n",
        "    - 귀무가설 (HO) 클래스 0과 클래스 1의 평균 알코올 함량에 차이가 없다. (u_class0 = u_class1)\n",
        "    - 대립가설 (H1) 클래스 0과 클래스 1의 평균 알코올 함량에 차이가 없다. (u_class0 /= u_class1)\n",
        "    \n",
        "    - t-statistic 확인\n",
        "    - p-value\n",
        "    - 가설검정"
      ]
    },
    {
      "cell_type": "code",
      "execution_count": null,
      "id": "3ce8255f",
      "metadata": {
        "id": "3ce8255f"
      },
      "outputs": [],
      "source": [
        "from sklearn.datasets import load_wine"
      ]
    },
    {
      "cell_type": "code",
      "execution_count": null,
      "id": "ba8f7cad",
      "metadata": {
        "id": "ba8f7cad"
      },
      "outputs": [],
      "source": [
        "wine = load_wine()"
      ]
    },
    {
      "cell_type": "code",
      "execution_count": null,
      "id": "6b046f10",
      "metadata": {
        "scrolled": true,
        "id": "6b046f10",
        "outputId": "e42a43d3-a3e6-4c68-91f3-e93d028175c4"
      },
      "outputs": [
        {
          "data": {
            "text/plain": [
              "{'data': array([[1.423e+01, 1.710e+00, 2.430e+00, ..., 1.040e+00, 3.920e+00,\n",
              "         1.065e+03],\n",
              "        [1.320e+01, 1.780e+00, 2.140e+00, ..., 1.050e+00, 3.400e+00,\n",
              "         1.050e+03],\n",
              "        [1.316e+01, 2.360e+00, 2.670e+00, ..., 1.030e+00, 3.170e+00,\n",
              "         1.185e+03],\n",
              "        ...,\n",
              "        [1.327e+01, 4.280e+00, 2.260e+00, ..., 5.900e-01, 1.560e+00,\n",
              "         8.350e+02],\n",
              "        [1.317e+01, 2.590e+00, 2.370e+00, ..., 6.000e-01, 1.620e+00,\n",
              "         8.400e+02],\n",
              "        [1.413e+01, 4.100e+00, 2.740e+00, ..., 6.100e-01, 1.600e+00,\n",
              "         5.600e+02]]),\n",
              " 'target': array([0, 0, 0, 0, 0, 0, 0, 0, 0, 0, 0, 0, 0, 0, 0, 0, 0, 0, 0, 0, 0, 0,\n",
              "        0, 0, 0, 0, 0, 0, 0, 0, 0, 0, 0, 0, 0, 0, 0, 0, 0, 0, 0, 0, 0, 0,\n",
              "        0, 0, 0, 0, 0, 0, 0, 0, 0, 0, 0, 0, 0, 0, 0, 1, 1, 1, 1, 1, 1, 1,\n",
              "        1, 1, 1, 1, 1, 1, 1, 1, 1, 1, 1, 1, 1, 1, 1, 1, 1, 1, 1, 1, 1, 1,\n",
              "        1, 1, 1, 1, 1, 1, 1, 1, 1, 1, 1, 1, 1, 1, 1, 1, 1, 1, 1, 1, 1, 1,\n",
              "        1, 1, 1, 1, 1, 1, 1, 1, 1, 1, 1, 1, 1, 1, 1, 1, 1, 1, 1, 1, 2, 2,\n",
              "        2, 2, 2, 2, 2, 2, 2, 2, 2, 2, 2, 2, 2, 2, 2, 2, 2, 2, 2, 2, 2, 2,\n",
              "        2, 2, 2, 2, 2, 2, 2, 2, 2, 2, 2, 2, 2, 2, 2, 2, 2, 2, 2, 2, 2, 2,\n",
              "        2, 2]),\n",
              " 'frame': None,\n",
              " 'target_names': array(['class_0', 'class_1', 'class_2'], dtype='<U7'),\n",
              " 'DESCR': '.. _wine_dataset:\\n\\nWine recognition dataset\\n------------------------\\n\\n**Data Set Characteristics:**\\n\\n    :Number of Instances: 178\\n    :Number of Attributes: 13 numeric, predictive attributes and the class\\n    :Attribute Information:\\n \\t\\t- Alcohol\\n \\t\\t- Malic acid\\n \\t\\t- Ash\\n\\t\\t- Alcalinity of ash  \\n \\t\\t- Magnesium\\n\\t\\t- Total phenols\\n \\t\\t- Flavanoids\\n \\t\\t- Nonflavanoid phenols\\n \\t\\t- Proanthocyanins\\n\\t\\t- Color intensity\\n \\t\\t- Hue\\n \\t\\t- OD280/OD315 of diluted wines\\n \\t\\t- Proline\\n\\n    - class:\\n            - class_0\\n            - class_1\\n            - class_2\\n\\t\\t\\n    :Summary Statistics:\\n    \\n    ============================= ==== ===== ======= =====\\n                                   Min   Max   Mean     SD\\n    ============================= ==== ===== ======= =====\\n    Alcohol:                      11.0  14.8    13.0   0.8\\n    Malic Acid:                   0.74  5.80    2.34  1.12\\n    Ash:                          1.36  3.23    2.36  0.27\\n    Alcalinity of Ash:            10.6  30.0    19.5   3.3\\n    Magnesium:                    70.0 162.0    99.7  14.3\\n    Total Phenols:                0.98  3.88    2.29  0.63\\n    Flavanoids:                   0.34  5.08    2.03  1.00\\n    Nonflavanoid Phenols:         0.13  0.66    0.36  0.12\\n    Proanthocyanins:              0.41  3.58    1.59  0.57\\n    Colour Intensity:              1.3  13.0     5.1   2.3\\n    Hue:                          0.48  1.71    0.96  0.23\\n    OD280/OD315 of diluted wines: 1.27  4.00    2.61  0.71\\n    Proline:                       278  1680     746   315\\n    ============================= ==== ===== ======= =====\\n\\n    :Missing Attribute Values: None\\n    :Class Distribution: class_0 (59), class_1 (71), class_2 (48)\\n    :Creator: R.A. Fisher\\n    :Donor: Michael Marshall (MARSHALL%PLU@io.arc.nasa.gov)\\n    :Date: July, 1988\\n\\nThis is a copy of UCI ML Wine recognition datasets.\\nhttps://archive.ics.uci.edu/ml/machine-learning-databases/wine/wine.data\\n\\nThe data is the results of a chemical analysis of wines grown in the same\\nregion in Italy by three different cultivators. There are thirteen different\\nmeasurements taken for different constituents found in the three types of\\nwine.\\n\\nOriginal Owners: \\n\\nForina, M. et al, PARVUS - \\nAn Extendible Package for Data Exploration, Classification and Correlation. \\nInstitute of Pharmaceutical and Food Analysis and Technologies,\\nVia Brigata Salerno, 16147 Genoa, Italy.\\n\\nCitation:\\n\\nLichman, M. (2013). UCI Machine Learning Repository\\n[https://archive.ics.uci.edu/ml]. Irvine, CA: University of California,\\nSchool of Information and Computer Science. \\n\\n|details-start|\\n**References**\\n|details-split|\\n\\n(1) S. Aeberhard, D. Coomans and O. de Vel, \\nComparison of Classifiers in High Dimensional Settings, \\nTech. Rep. no. 92-02, (1992), Dept. of Computer Science and Dept. of  \\nMathematics and Statistics, James Cook University of North Queensland. \\n(Also submitted to Technometrics). \\n\\nThe data was used with many others for comparing various \\nclassifiers. The classes are separable, though only RDA \\nhas achieved 100% correct classification. \\n(RDA : 100%, QDA 99.4%, LDA 98.9%, 1NN 96.1% (z-transformed data)) \\n(All results using the leave-one-out technique) \\n\\n(2) S. Aeberhard, D. Coomans and O. de Vel, \\n\"THE CLASSIFICATION PERFORMANCE OF RDA\" \\nTech. Rep. no. 92-01, (1992), Dept. of Computer Science and Dept. of \\nMathematics and Statistics, James Cook University of North Queensland. \\n(Also submitted to Journal of Chemometrics).\\n\\n|details-end|',\n",
              " 'feature_names': ['alcohol',\n",
              "  'malic_acid',\n",
              "  'ash',\n",
              "  'alcalinity_of_ash',\n",
              "  'magnesium',\n",
              "  'total_phenols',\n",
              "  'flavanoids',\n",
              "  'nonflavanoid_phenols',\n",
              "  'proanthocyanins',\n",
              "  'color_intensity',\n",
              "  'hue',\n",
              "  'od280/od315_of_diluted_wines',\n",
              "  'proline']}"
            ]
          },
          "execution_count": 50,
          "metadata": {},
          "output_type": "execute_result"
        }
      ],
      "source": [
        "wine"
      ]
    },
    {
      "cell_type": "code",
      "execution_count": null,
      "id": "0a5a1d9d",
      "metadata": {
        "id": "0a5a1d9d"
      },
      "outputs": [],
      "source": [
        "data=wine.data\n",
        "target = wine.target\n",
        "feature_names=wine.feature_names"
      ]
    },
    {
      "cell_type": "code",
      "execution_count": null,
      "id": "4b0beeab",
      "metadata": {
        "id": "4b0beeab"
      },
      "outputs": [],
      "source": [
        "## 데이터 추출\n",
        "al_cls_0 = data[target==0, feature_names.index('alcohol')] #클래스 0에 알콜\n",
        "al_cls_1 = data[target==1, feature_names.index('alcohol')] #클래스 0에 알콜"
      ]
    },
    {
      "cell_type": "code",
      "execution_count": null,
      "id": "5cce0d41",
      "metadata": {
        "id": "5cce0d41"
      },
      "outputs": [],
      "source": [
        "t_stat, p_value =ttest_ind(al_cls_0, al_cls_1)"
      ]
    },
    {
      "cell_type": "code",
      "execution_count": null,
      "id": "fac27b12",
      "metadata": {
        "id": "fac27b12",
        "outputId": "637c0298-3e38-4682-ab10-7c611c8d6875"
      },
      "outputs": [
        {
          "name": "stdout",
          "output_type": "stream",
          "text": [
            "T-statistics : 16.478551495156527, p-value: 1.9551698789379198e-33\n"
          ]
        }
      ],
      "source": [
        "print(f\"T-statistics : {t_stat}, p-value: {p_value}\")"
      ]
    },
    {
      "cell_type": "markdown",
      "id": "cfb03758",
      "metadata": {
        "id": "cfb03758"
      },
      "source": [
        "### 모 표준편차를 알고 있다는 가정\n",
        "\n",
        "\n",
        "### 두 모평균에 대한 t-검정 (Iris 데이터)\n",
        "- Iris 데이터\n",
        "- Setosa, Versicolor 이 두 종의 평균 꽃받침 길의 차이가 있는지 알고 싶다. (모표준편차를 알고 있다 가정)\n",
        "\n",
        "    - 가설 설정:\n",
        "        - 귀무가설(H0): Setosa, Versicolor 종의 평균 꽃받침 길이에 차이는 없다. (u_Setosa = u_Versicolor)\n",
        "        - 대립가설(H1): Setosa, Versicolor 종의 평균 꽃받침 길이에 차이는 있다. (u_Setosa /= u_Versicolor)\n",
        "        \n",
        "    - 데이터셋을 보고 소표본\n",
        "    - t-검정\n",
        "    - 진행하자!"
      ]
    },
    {
      "cell_type": "code",
      "execution_count": null,
      "id": "6c0dc473",
      "metadata": {
        "id": "6c0dc473"
      },
      "outputs": [],
      "source": [
        "from sklearn.datasets import load_iris\n",
        "\n",
        "iris = load_iris()\n",
        "data = iris.data\n",
        "target = iris.target\n",
        "\n",
        "#데이터 추출\n",
        "setosa_sepal_length = data[target ==0,0]\n",
        "versicolor_sepal_length = data[target ==1,0]\n",
        "\n",
        "# 두 모평균에 대한 z-검정( 모표준편차를 알고 있는 경우 )\n",
        "\n",
        "mean_1 = np.mean(setosa_sepal_length)\n",
        "mean_2 = np.mean(versicolor_sepal_length)\n",
        "\n",
        "std_1 = np.std(setosa_sepal_length)\n",
        "std_2 = np.std(versicolor_sepal_length)\n",
        "\n",
        "n1 = len(setosa_sepal_length)\n",
        "n2 = len(versicolor_sepal_length)"
      ]
    },
    {
      "cell_type": "code",
      "execution_count": null,
      "id": "9e85782a",
      "metadata": {
        "id": "9e85782a"
      },
      "outputs": [],
      "source": [
        "## 모표준편차를 알고 있는 경우\n",
        "z_stat = (mean_1 - mean_2) / np.sqrt(std_1**2/n1 + std_2**2/n2)"
      ]
    },
    {
      "cell_type": "code",
      "execution_count": null,
      "id": "ef6ec5ec",
      "metadata": {
        "id": "ef6ec5ec"
      },
      "outputs": [],
      "source": [
        "## p-value\n",
        "p_value = 2*(1-norm.cdf(abs(z_stat)))"
      ]
    },
    {
      "cell_type": "code",
      "execution_count": null,
      "id": "acd06e9a",
      "metadata": {
        "id": "acd06e9a",
        "outputId": "d9555c43-83c8-41f0-a764-5b2302db4371"
      },
      "outputs": [
        {
          "data": {
            "text/plain": [
              "0.0"
            ]
          },
          "execution_count": 64,
          "metadata": {},
          "output_type": "execute_result"
        }
      ],
      "source": [
        "p_value"
      ]
    },
    {
      "cell_type": "code",
      "execution_count": null,
      "id": "51f43b85",
      "metadata": {
        "id": "51f43b85"
      },
      "outputs": [],
      "source": []
    },
    {
      "cell_type": "code",
      "source": [],
      "metadata": {
        "id": "EvGMPaUjSOOy"
      },
      "id": "EvGMPaUjSOOy",
      "execution_count": null,
      "outputs": []
    }
  ],
  "metadata": {
    "kernelspec": {
      "display_name": "Python 3 (ipykernel)",
      "language": "python",
      "name": "python3"
    },
    "language_info": {
      "codemirror_mode": {
        "name": "ipython",
        "version": 3
      },
      "file_extension": ".py",
      "mimetype": "text/x-python",
      "name": "python",
      "nbconvert_exporter": "python",
      "pygments_lexer": "ipython3",
      "version": "3.8.16"
    },
    "colab": {
      "provenance": [],
      "include_colab_link": true
    }
  },
  "nbformat": 4,
  "nbformat_minor": 5
}