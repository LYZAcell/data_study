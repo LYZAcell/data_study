{
  "nbformat": 4,
  "nbformat_minor": 0,
  "metadata": {
    "colab": {
      "provenance": [],
      "authorship_tag": "ABX9TyN8TncqiQtQ67QazOSv6J8C",
      "include_colab_link": true
    },
    "kernelspec": {
      "name": "python3",
      "display_name": "Python 3"
    },
    "language_info": {
      "name": "python"
    }
  },
  "cells": [
    {
      "cell_type": "markdown",
      "metadata": {
        "id": "view-in-github",
        "colab_type": "text"
      },
      "source": [
        "<a href=\"https://colab.research.google.com/github/LYZAcell/data_study/blob/main/BDA(%ED%86%B5%EA%B3%84)/%EB%B3%B5%EC%8A%B5_%EC%9D%B4%EA%B0%80%EC%98%8141_0824.ipynb\" target=\"_parent\"><img src=\"https://colab.research.google.com/assets/colab-badge.svg\" alt=\"Open In Colab\"/></a>"
      ]
    },
    {
      "cell_type": "markdown",
      "source": [
        "## 적합성, 독립성, 동일성 2\n",
        "- 0817 나간 부분"
      ],
      "metadata": {
        "id": "ufLBo_l80_73"
      }
    },
    {
      "cell_type": "markdown",
      "source": [
        "- **적합도 검정**\n",
        "- 주로 카이제곱을 검정해서 사용한다.\n",
        "- 기대빈도(e.g. 봄,여름,가을,겨울 감기 빈도) -> 관찰된 빈도랑(봄,여름,가을,겨울 중 가을,겨울 감기가 많음) 적합한지 판단\n",
        "- 기대빈도와 관찰된 비녿의 차이를 비교하여 적합성 판단\n",
        "\n",
        "- 귀무가설 (Ho) : 관찰된 데이터 분포 -> 이론적인 분포 (기대빈도)에 적합하다. (1/4 ... )\n",
        "- 대립가설 (H1) : 관찰된 데이터 분포가 -> 이론적인 분포와 적합하지 않다.\n",
        "\n",
        "\n",
        "- 검정 절차:\n",
        "    - 관찰된 빈도와 이론적인 분포로부터 계산된 기대 빈도를 확인한다.\n",
        "    - 각 범주에서 차이를 계산한다. 카이제곱 통계량 구하는 것\n",
        "    - 유의수준, 자유도 임계값 설정해서\n",
        "    - 계산된 카이제곱 통계량이 임계값보다 크다면 귀무가설 기각하고, 그렇지 않으면 채택한다.\n",
        "    \n",
        "- e.g. :\n",
        "    - 주사위를 던지는데 ( 공정한지 아닌지 ) 공정한지를 검정한다. ( 모든 면이 나올 확률이 동일한 것 ) 1/6\n",
        "    - 주사위를 던졌는데 60번 던졌다.\n",
        "    - 1 8번\n",
        "    - 2 10번\n",
        "    - 3 9번\n",
        "    - 4 12번\n",
        "    - 5 11번\n",
        "    - 6 10번\n",
        "    - 기대빈도는 공정한 주사위라면 -> 이론적인 분포 ( 1/6 ) -> 1 10번, 2 10번 ,3 10번 ,4 10번, 5 10번,6 10번\n",
        "    - 관찰된 빈도 위에 있다.\n",
        "    - X2 = sum((관찰빈도 - 기대빈도)제곱 / 기대빈도)\n",
        "    - X2 = (8-10)2/10 + ....\n",
        "    - X2 = 값!\n",
        "    - 이 값이을 검정\n",
        "    - 자유도 6 n-1 = 5, 유의수준 0.05 임계값 = 임계값 -> 값! 임계값 비교해서 적합한지 아닌지, 주사위가 공정하다고 판단할지 아닐지를 확인하는 것"
      ],
      "metadata": {
        "id": "iqOkK6D81T8O"
      }
    },
    {
      "cell_type": "markdown",
      "source": [
        "- **독립성**\n",
        "- 두 범주형 변수 간에 독립적인 관계가 있는지를 검정하는 방법\n",
        "- 카이제곱검정\n",
        "- 가설 설정:\n",
        "    - 귀무가설 (H0) - 두 변수는 독립적이다.\n",
        "    - 대립가설 (H1) - 두 변수는 독립적이지 않다. ( 어떤 상관관계등이 있다.)\n",
        "    \n",
        "- 검정 절차:\n",
        "    - 두 범주형 변수의 교차표 (관찰빈도) 작성\n",
        "    - 기대빈도 계산\n",
        "    - 카이제곱 통계량해서 아래는 동일\n",
        "    \n",
        "- e.g.\n",
        "    - 국어와 수학\n",
        "    - 남자와 여자\n",
        "    - 학교에서 학생들의 성별 ( 남, 여 ), 선호 과목 ( 국어, 수학)의 관계를 조사하려고 한다.\n",
        "    - 남학생 중 국어 선호 : 30\n",
        "    - 남학생 중 수학 선호 : 20\n",
        "    - 여학생 중 국어 선호 : 10\n",
        "    - 여학생 중 수학 선호 : 40\n",
        "    \n",
        "    --\n",
        "    - 성별과 선호 과목간에 독립적인 관계가 있는지 검정!\n",
        "    ----\n",
        "    - 가설 설정:\n",
        "        - 귀무가설 Ho : 성별과 선호 과목 간에는 독립적인 관계가 있다.\n",
        "        - 대립가설 H1 : 성별과 선호 과목 간에는 독립적인 관계가 없다. ( 상관관계 등이 있다. )\n",
        "        \n",
        "    - 교차표를 만들자:\n",
        "        - 국어 수학\n",
        "    - 남자 30  20 = 50\n",
        "    - 여자 10  40 = 50\n",
        "    - 합  40   60\n",
        "    \n",
        "    - 기대빈도\n",
        "        - 국어 수학\n",
        "    - 남자 20  30 = 50\n",
        "    - 여자 20  30 = 50"
      ],
      "metadata": {
        "id": "1O9iv4nc2SH_"
      }
    },
    {
      "cell_type": "markdown",
      "source": [
        "# 0824 진도: 동일성 검정"
      ],
      "metadata": {
        "id": "fwK2hSDX2Zv-"
      }
    },
    {
      "cell_type": "markdown",
      "source": [
        "- 서로 다른 두 개 이상의 모집단에서 특정 범주형 변수의 분포가 동일한 여부 평가하는 통계적인 방법\n",
        "- 두 개 이상의 모집단에서 데이터가 동일한 분포를 따르는지 확인한다 -> 카이제곱검정\n",
        "\n",
        "- 독립성 검정이랑도 좀 비슷한 느낌 -> 차이점 독립성 검정은 하나의 모집단 내에서 두 변수간의 관계를 평가한다.\n",
        "- ***여러 모집단 간에 하나의 변수에 대해 동일한 분포를 가지는지를 평가한다는 점 가장 큰 차이로 볼 수 있다.***\n",
        "\n",
        "\n",
        "----\n",
        "- 귀무가설H0 : 각 모집단에서 범주형 변수의 분포는 동일하다.  \n",
        "- 대립가설H1 : 각 모집단에서 범주형 변수의 분포는 동일하지 않다.\n",
        "\n",
        "---\n",
        "- 검정절차\n",
        "- 교차표 작성\n",
        "- 기대빈도 계산\n",
        "- 카이제곱 통계량\n",
        "- 유의수준, 자유도 따른 임계값 결정\n",
        "- 그 결과 가지고 귀무가설, 대립가설 기각여부 확인!\n",
        "\n",
        "----\n",
        "- 예시\n",
        "- 세 개의 다른 지역 ( 서울, 부산, 대구 ) 특정 의류 브랜드를 선호한다. ( 선호도는 좋다 보통 싫다 )\n",
        "- 서울 : 좋다 : 50명, 보통 30명, 싫다 20명 = 100명\n",
        "- 부산 : 좋다 : 30명, 보통 40명, 싫다 30명 = 100명\n",
        "- 대구 : 좋다 : 40명, 보통 20명, 싫다 40명 = 100명\n",
        "\n",
        "---\n",
        "- Q1 서울, 부산, 대구 선호도 동일하니?\n",
        "- 서울 : 좋다 : 50명, 보통 30명, 싫다 20명 = 100명\n",
        "- 부산 : 좋다 : 30명, 보통 40명, 싫다 30명 = 100명\n",
        "- 대구 : 좋다 : 40명, 보통 20명, 싫다 40명 = 100명\n",
        "    - 총합   120 ,      90,      90  = 300\n",
        "    \n",
        "    \n",
        "---\n",
        "- 기대빈도 (서울총합 * '좋아함' 총합)/ (전체총합) = (100*120)/300 = 40\n",
        "- 기대빈도 좋아함 = 40, 나머지 동일하게 계산 ( 보통, 싫다 )\n",
        "- 보통 30, 싫다 30 기대빈도 = 100 기대빈도"
      ],
      "metadata": {
        "id": "fVWbRFHE2b9q"
      }
    },
    {
      "cell_type": "markdown",
      "source": [
        "## 카이제곱 활용법"
      ],
      "metadata": {
        "id": "NvDZp2yk2fvA"
      }
    },
    {
      "cell_type": "markdown",
      "source": [
        "- 명목형 또는 범주형 데이터를 분석하는데 카이제곱 사용 -> 카이제곱검정 -> 범주형 데이터 분석에서 사용되는 비모수적 통계기법\n",
        "    - 주로 관찰된 빈도와 기대 빈도 차이 분석하는데 사용을 할 수 있다.\n",
        "    \n",
        "- 범주형 데이터 분석의 핏함\n",
        "- 빈도 기반의 평가\n",
        "    - 관찰된 빈도와 기대 빈도의 차이를 측정해서 이 차이를 평가하여 변수들간의 관계나 데이터의 특정 분포에 얼마나 적합한지 판단\n",
        "    \n",
        "    \n",
        "### 카이제곱 분포의 유형\n",
        "- 아래 세 가지 방법은 범주형 데이터를 분석할 때 바라보는 관점에 따라서 방법이 다르게 되는 것\n",
        "    - 분석의 목적이 분명 다를테니 그 목적에 따라 분석하는 방법론도 조금은 달라질 것이다.\n",
        "- 적합도\n",
        "    - 하나의 범주형 데이터 분포가 특정 기대 분포(정규분포나 균일분포 이런 특정 분포)와 일치하는지 확인하는 것\n",
        "- 독립성\n",
        "    - 두 범주형 **변수 간의** 독립성을 평가 -> 성별과 구매, 성별과 성적 서로 독립적인지 평가\n",
        "- 동일성\n",
        "    - 여러 그룹에서(모집단에서) 동일한 분포를 가지는지 평가 -> 지역별 특정 의류 브랜드 선호도 동일한지\n",
        "    \n",
        "### 카이제곱 검정의 특징\n",
        "- 범주형 데이터 최적화 - 명목형 변수간의 관계 적합하다.\n",
        "- 비모수적 - 정규분포인지 어떤 분포인지 모른다-> 분포를 알고 있는 가정이 필요 없고 그냥 간단한 빈도 데이터로 분석 가능하다.\n",
        "- 해석 - p-value , 카이제곱 통계량 쉽게 해석이 가능하다."
      ],
      "metadata": {
        "id": "cDG2Xm7z2i5O"
      }
    },
    {
      "cell_type": "code",
      "source": [
        "## 카이제곱 코드\n",
        "## 패키지 scipy 간단하게 가지고 오면 된다.\n",
        "from scipy.stats import chisquare\n",
        "\n",
        "## 적합도 수행\n",
        "\n",
        "## 데이터가 필요하다.\n",
        "## 관찰된 빈도\n",
        "observed= [8,10,9,12,11,10]\n",
        "\n",
        "## 기대빈도\n",
        "expected = [10,10,10,10,10,10]\n",
        "\n",
        "## 적합도 검정 수행\n",
        "chi2_stat, p_value =chisquare(f_obs=observed, f_exp=expected)"
      ],
      "metadata": {
        "id": "cJLbOs271BcT"
      },
      "execution_count": 1,
      "outputs": []
    },
    {
      "cell_type": "code",
      "source": [
        "print([p_value])"
      ],
      "metadata": {
        "colab": {
          "base_uri": "https://localhost:8080/"
        },
        "id": "r0QqJ2ee2lWN",
        "outputId": "a09bfb97-dbe8-42c2-9fee-9f18ebb339c8"
      },
      "execution_count": 2,
      "outputs": [
        {
          "output_type": "stream",
          "name": "stdout",
          "text": [
            "[0.9625657732472964]\n"
          ]
        }
      ]
    },
    {
      "cell_type": "markdown",
      "source": [
        "-  국어와 수학\n",
        "    - 남자와 여자\n",
        "    - 학교에서 학생들의 성별 ( 남, 여 ), 선호 과목 ( 국어, 수학)의 관계를 조사하려고 한다.\n",
        "    - 남학생 중 국어 선호 : 30\n",
        "    - 남학생 중 수학 선호 : 20\n",
        "    - 여학생 중 국어 선호 : 10\n",
        "    - 여학생 중 수학 선호 : 40"
      ],
      "metadata": {
        "id": "XiXm5rPd2rya"
      }
    },
    {
      "cell_type": "code",
      "source": [
        "## 독립성 코드\n",
        "from scipy.stats import chi2_contingency\n",
        "import numpy as np\n",
        "\n",
        "#교차표(contingency table)\n",
        "data = np.array([[30,20],\n",
        "                [10,40]])\n",
        "\n",
        "chi2_contingency(data)"
      ],
      "metadata": {
        "colab": {
          "base_uri": "https://localhost:8080/"
        },
        "id": "fajKGbhN2oNY",
        "outputId": "5a1f7b70-4c8c-4b4c-cf6b-351ae5030764"
      },
      "execution_count": 3,
      "outputs": [
        {
          "output_type": "execute_result",
          "data": {
            "text/plain": [
              "Chi2ContingencyResult(statistic=15.041666666666668, pvalue=0.00010516355403363114, dof=1, expected_freq=array([[20., 30.],\n",
              "       [20., 30.]]))"
            ]
          },
          "metadata": {},
          "execution_count": 3
        }
      ]
    },
    {
      "cell_type": "code",
      "source": [
        "chi2_stat, p_value, dof, expected =chi2_contingency(data)"
      ],
      "metadata": {
        "id": "NmTs1EFD2tM-"
      },
      "execution_count": 4,
      "outputs": []
    },
    {
      "cell_type": "markdown",
      "source": [
        "- Q1 서울, 부산, 대구 선호도 동일하니?\n",
        "- 서울 : 좋다 : 50명, 보통 30명, 싫다 20명 = 100명\n",
        "- 부산 : 좋다 : 30명, 보통 40명, 싫다 30명 = 100명\n",
        "- 대구 : 좋다 : 40명, 보통 20명, 싫다 40명 = 100명\n",
        "    - 총합   120 ,      90,      90  = 300"
      ],
      "metadata": {
        "id": "G4q-qA8K2xSX"
      }
    },
    {
      "cell_type": "code",
      "source": [
        "## 동일성 코드\n",
        "from scipy.stats import chi2_contingency\n",
        "data = np.array([[50, 30, 20],\n",
        "                [30, 40, 30],\n",
        "                [40, 20, 40]])"
      ],
      "metadata": {
        "id": "sDf8CFS_2vxS"
      },
      "execution_count": 5,
      "outputs": []
    },
    {
      "cell_type": "code",
      "source": [
        "chi2_contingency(data)"
      ],
      "metadata": {
        "colab": {
          "base_uri": "https://localhost:8080/"
        },
        "id": "L3EuWK352y4b",
        "outputId": "a374dc35-51a6-4646-abec-1e42eee37ffb"
      },
      "execution_count": 6,
      "outputs": [
        {
          "output_type": "execute_result",
          "data": {
            "text/plain": [
              "Chi2ContingencyResult(statistic=18.333333333333332, pvalue=0.0010620521289556705, dof=4, expected_freq=array([[40., 30., 30.],\n",
              "       [40., 30., 30.],\n",
              "       [40., 30., 30.]]))"
            ]
          },
          "metadata": {},
          "execution_count": 6
        }
      ]
    },
    {
      "cell_type": "code",
      "source": [],
      "metadata": {
        "id": "pwYP9_jN21AD"
      },
      "execution_count": null,
      "outputs": []
    }
  ]
}