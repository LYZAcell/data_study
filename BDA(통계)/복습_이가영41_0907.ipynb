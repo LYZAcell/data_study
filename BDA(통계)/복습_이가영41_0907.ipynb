{
  "nbformat": 4,
  "nbformat_minor": 0,
  "metadata": {
    "colab": {
      "provenance": [],
      "authorship_tag": "ABX9TyNo18ixNpvUGnsBBbQ/+22W",
      "include_colab_link": true
    },
    "kernelspec": {
      "name": "python3",
      "display_name": "Python 3"
    },
    "language_info": {
      "name": "python"
    }
  },
  "cells": [
    {
      "cell_type": "markdown",
      "metadata": {
        "id": "view-in-github",
        "colab_type": "text"
      },
      "source": [
        "<a href=\"https://colab.research.google.com/github/LYZAcell/data_study/blob/main/BDA(%ED%86%B5%EA%B3%84)/%EB%B3%B5%EC%8A%B5_%EC%9D%B4%EA%B0%80%EC%98%8141_0907.ipynb\" target=\"_parent\"><img src=\"https://colab.research.google.com/assets/colab-badge.svg\" alt=\"Open In Colab\"/></a>"
      ]
    },
    {
      "cell_type": "markdown",
      "source": [
        "# 공지"
      ],
      "metadata": {
        "id": "F0tgDiCbX6Wd"
      }
    },
    {
      "cell_type": "markdown",
      "source": [
        "- 09/07 마지막수업~"
      ],
      "metadata": {
        "id": "OZugkbQ7X8T-"
      }
    },
    {
      "cell_type": "markdown",
      "source": [
        "# 지난주수업"
      ],
      "metadata": {
        "id": "C5DSAPSVcBU_"
      }
    },
    {
      "cell_type": "markdown",
      "source": [
        "## 분산분석\n",
        "- 지난시간 나눠준 PDF 있음"
      ],
      "metadata": {
        "id": "XTMYneXmYHDN"
      }
    },
    {
      "cell_type": "markdown",
      "source": [
        "### 카이제곱이란?\n",
        "- 범주형데이터 분석\n",
        "- 지난시간: 동일성, 독립성, 적합성 검정"
      ],
      "metadata": {
        "id": "Sp-57OWWYlLu"
      }
    },
    {
      "cell_type": "markdown",
      "source": [
        "## 일원분산분석의 개념"
      ],
      "metadata": {
        "id": "ZCA2ZSA6Yp54"
      }
    },
    {
      "cell_type": "markdown",
      "source": [
        "### 분산 분석이란?\n",
        "- ANOVA: 여러집단에 대해 평균의 차이를 검정하는 것.\n",
        "- ex: 경영학 전공자 초봉 분포"
      ],
      "metadata": {
        "id": "07czsO3wY2Be"
      }
    },
    {
      "cell_type": "markdown",
      "source": [
        "## 일원 분산분석?\n",
        "- 반응변수에 영향을 미치는 요인 중 하나의 요인만 고려\n",
        "- 다른 요인이나 조건을 일정하게 유지하여 분석하는 방법\n",
        "- 요인의 수준(처리)가 L개, 각 수준에서 실험의 반복이 M -> 총 LM번의 실험\n",
        "- 완전 무작위(확률화)로 실시해야함\n",
        "\n",
        "- **Y의 변동(평균위주에서) = 설명된변동(요인에 의해) + 설명되지 않은 변동 (무작위 오차항)**\n"
      ],
      "metadata": {
        "id": "uqDIHPBkZQVZ"
      }
    },
    {
      "cell_type": "markdown",
      "source": [
        "- ex: 비료를 주는 양에 따라 배추의 수확량에는 차이가 있는가?\n",
        "- 요인A: 비료\n",
        "- 수준 100g, 150g, 200g"
      ],
      "metadata": {
        "id": "bN-MrTNCZ8TB"
      }
    },
    {
      "cell_type": "markdown",
      "source": [
        "### 일원분산분석의 자료구조\n",
        "- Xij = 데이터의 총평균 + ai+서로 독립인 오차\n",
        "- ai = 비료를 i번째 준 효과 ( i 번째 총평균 - 총평균)\n",
        "- 서로 독립인 오차 : 효과 외의 독립적인 오차들\n",
        "- 귀무가설과 대립가설로보면좋다"
      ],
      "metadata": {
        "id": "_2mMUzWbasUW"
      }
    },
    {
      "cell_type": "markdown",
      "source": [
        "- 가정: l개의 모평균이 모두 같은가?\n",
        "- 자료구조 모형에 의해서 l개의 처리효과는 모두 0 이다를 검정\n",
        "- H0 = 각각의 i 번째 평균이 같다 ( = 비료의 차이가 없다)\n",
        "  - H0 = a1 = a2 = a3 ... = ai\n",
        "- H1= i번째 총평균은 다르다 (비료의 효과가 있다)\n"
      ],
      "metadata": {
        "id": "LIlp8HtRbZg2"
      }
    },
    {
      "cell_type": "markdown",
      "source": [
        "### 분산방법"
      ],
      "metadata": {
        "id": "Dus08qSIcj1F"
      }
    },
    {
      "cell_type": "markdown",
      "source": [
        "1. 일원분산분석의 가설 검정을 위해 먼저 변동을 분해하는 것부터 시작\n",
        "2. 변동의 분해는 총변동(총제곱합)을 수준(처리)간 변동과 수준 내 변동(오차변동)으로 분해\n",
        "3. 총 변동의 자유도는 수준간 변동의 자유도와 오차의 자유도로 분해\n",
        "\n",
        "- Y의 변동(평균주의) = 설명되노 변동(요인에 의해) + 설명되지 않은 변동( 무작위 오차항)\n",
        "\n",
        "- 수준간 변동(요인A의 변동) , 수준 내 변동 (오차 E의 변동)\n",
        "- 요인A는 SSA\n",
        "- 요인E는 SSE\n",
        "  - 설명되지 않는 E는 경향성이 없어야함. 무작위 오차항이어야함. 랜덤해야한다는 것이 중요포인트\n",
        "  - 경향성이 보인다면 하나의 요인 A로 들어가야한다.\n",
        "\n",
        "\n",
        "4. 각요인의 제곱평균(MS)을 구한다\n",
        "  - 제곱평균은 변동(제곱합)을 그 자유도로 나누면 된다.\n",
        "5. 두 제곱평균의 비를 구한다\n",
        "6. 결과를 작성하여 표로 나타낸다\n",
        "\n",
        "- SSA: 수준간 변동\n",
        "- SSE:  수준 내 변동\n",
        "- MSA : 수준간 제곱평균 SSA/ l-1\n",
        "- MSE: 수준내 제곱평균 SSE / l(m-1)"
      ],
      "metadata": {
        "id": "-qHNf5mLdxJq"
      }
    },
    {
      "cell_type": "markdown",
      "source": [
        "### 분산분석 예제\n",
        "- 진통제 종류 반복 관측치 분산분석표 작성\n"
      ],
      "metadata": {
        "id": "THDlvvotd0o4"
      }
    },
    {
      "cell_type": "markdown",
      "source": [
        "### 분산분석 요약"
      ],
      "metadata": {
        "id": "defzyfxScNtG"
      }
    },
    {
      "cell_type": "markdown",
      "source": [
        "- 두개 이상의 집단 간의 평균의 차이를 검정하는 것\n",
        "- 핵심 아이디어: 집단 간 분산, 집단 내 분산으로 분리하여 분석\n",
        "- 이 집단 간 차이가 우연에 의한 것인가? 실제로 유의미한 차이인가?\n",
        "-----\n",
        "- 가정\n",
        "  - 정규성: 각집단의 데이터는 정규분포를 따라야한다 (잊으면 안됨)\n",
        "  - 등분산성: 각 집단의 분산은 서로 같아야한다 (등분산성)\n",
        "  - 독립성: 관찰값들이 독립적으로 추출되어야한다\n",
        "\n",
        "\n",
        "-----\n",
        "- 분산분석의 종류\n",
        "  - **일원분산분석 (One way Anova (Analysis of Variance)**\n",
        "    - 하나의 독립변수 (비료) 집단 간의 평균차이 (배추수확량)\n",
        "  - 이원분산분석\n",
        "  - 반복분산분석\n",
        "  - 그외 사후 분석 등\n"
      ],
      "metadata": {
        "id": "Kbkh7FTJgF2z"
      }
    },
    {
      "cell_type": "markdown",
      "source": [
        "### 분산분석의 과정\n",
        "- 가설 설정:\n",
        "  - 귀무가설 (H0) : 모든 집단의 평균이 같다\n",
        "  - 대립가설 (H1) : 적어도 하나의 집단의 평균이 다르다.\n",
        "\n",
        "- **분산 계산:**\n",
        "  - 집단 내 분산: 각 집단 내의 관측치(데이터)의 변동계산\n",
        "  - 집단 간 분산: 집단 간의 평균 차이에서 오는 변동 계산\n",
        "- **F검정 통계량 계산:**\n",
        "  - F-값: 집단 간 분산을 집단 내 분산으로 나눈 값 F분포를 따른다\n",
        "    -> F값이 크면 귀무가설을 기각할 가능서잉 높다\n",
        "  - p-값: F-값 기반으로 p-값을 계산하며 귀무가설 기각여부를 결정\n",
        "\n",
        "\n",
        "\n",
        "- 결과값 해석\n",
        "  - p value 유의수준(0.05)보다 작으면 귀무가설 기각하고 집단 간 평균 차이가 잇다.\n",
        "  - 크면 반대 평균차이가 없다"
      ],
      "metadata": {
        "id": "0vg24Yp2gMbq"
      }
    },
    {
      "cell_type": "markdown",
      "source": [
        "### if 귀무가설이 기각될 시 -> 사후검정(post-hoc Test)\n",
        "- 귀무가설이 기각된 후 -> 사후 검정을 통해 집단 간의 차이가 있는지 구체적으로 확인한다\n",
        "- 귀무가설 -> 기각되어서 차이가 있는건 ok,좀 더 구체적으로 보고싶어!\n",
        "  - Turkey's HSD : 집단 간 평균차이 모두 비교해서 어떤 집단 차이나는지 확인\n",
        "  - Bonferroni: 여러 가설검정을 수행하여 발생할 수 잇는 오류 조정하는 방법 확인"
      ],
      "metadata": {
        "id": "RXC86qDVhmsc"
      }
    },
    {
      "cell_type": "markdown",
      "source": [
        "### 집단간, 집단 내의 차이를 계산하는 제곱합을 좀 더 딥하게 확인하자!\n",
        "- 총제곱합 (SST)\n",
        "- 집단 간 제곱합(SSB)\n",
        "- 집단 내 제곱합 (SSW)\n",
        "- 분산을 계산하여 F비 계산\n",
        "  - 집단 간 분산 / 집단 내 분산. 각 요인이 오차보다 큰 영향을 미치는지 판단.\n",
        "  - 집단 간 분산 / 집단 내 분산\n"
      ],
      "metadata": {
        "id": "jtUYStOsiR6K"
      }
    },
    {
      "cell_type": "markdown",
      "source": [
        "### F검정 통계량\n",
        "- 분산분석에서 핵심적인 통계량, 집단 간 변동(집단 간 분산)이 집단 내 변동 (집단내 분산, 오차)에 비해 얼마나 큰지 평가\n",
        "- MSB(Mean Square Between-groups):\n",
        "  - 정의: 집단 간 분산은 각 집단의 평균이 전체 평균에서 얼마나 떨어져있는가? 나타내는 분산\n",
        "  - 각 집단의 평균이 전체 평균에서 벗어나는 정도를 측정\n",
        "  - 의미: 만약 각 집단 평균이 전체 평균에서 많이 벗어나있으면 집단간의 차이가 크다는 것을 의미"
      ],
      "metadata": {
        "id": "avSH0wJCinil"
      }
    },
    {
      "cell_type": "markdown",
      "source": [
        "- MSW( Mean Square Within- groups):\n",
        "  - 정의: 집단 내 분산은 각 집단 내에서 개별데이터(관측치)가 집단의 평균에서 얼마나 벗어났는지 나타내는 분산\n",
        "  - 집단 내의 데이터가 얼마나 퍼져있는가 측정\n",
        "  - 의미 : 집단 내 분산은 각 집단의 데이터가 해당 집단 평균에서 벗어나는 정도, 오차변동이라고 할 수 있다.\n"
      ],
      "metadata": {
        "id": "IgjBoFHQjMJo"
      }
    },
    {
      "cell_type": "markdown",
      "source": [
        "- F겁정통계량 해석\n",
        "  - F-값: F값이 크다 -> 집단 간 분산이 집단 내 분산보다 크다. 즉 집단 간의 평균의 차이가 무작오차가 크다는 것\n",
        "  - F값이 1에 가까우면- > 집단 간 분산이 집단 내 분산과 거의 같다. 집단 간 변동의 차이가 오차 변동과 비슷한 수준"
      ],
      "metadata": {
        "id": "bPFODP09jxkF"
      }
    },
    {
      "cell_type": "code",
      "source": [],
      "metadata": {
        "id": "5yr2g9_KYItx"
      },
      "execution_count": null,
      "outputs": []
    },
    {
      "cell_type": "markdown",
      "source": [
        "# 분산분석 코드 (0907)"
      ],
      "metadata": {
        "id": "kES8WgUielog"
      }
    },
    {
      "cell_type": "markdown",
      "source": [
        "## 가정: 가정을 왜 지켜야할까?"
      ],
      "metadata": {
        "id": "G5exDAIUcSrJ"
      }
    },
    {
      "cell_type": "markdown",
      "source": [
        "- 분산분석은 여러 그룹 간의 평균 차이를 비교하기 위한 통계적인 기법\n",
        "- 가정들이 충족이 되어야한다. 이러한 가정이 위배될 경우 -> 등분산성, 정규성, 독립성 -> 가정이 위배가되면 왜곡된 결론을 초래할 수 있음\n",
        "---\n",
        "- 가정에 대한 확인 진행필요\n",
        "- 정규성: 데이터가 정규분포를 따른다는 가정, F통계량 정규분포 가정하고 계산 -> 데이터가 정규분포를 따르지 않으면 F-통계량 값이 왜곡될 수 있다\n",
        "  - 실제로는 유의하지 않는 차이를 유의하다 할 수 있다\n",
        "  - 신뢰구간, pvalue: 오류가 된다. 잘못된 결과로 부정확한 값이 나온다.\n",
        "  - 잘못된 의사결정에 영향이 생길 수 있다.\n",
        "  - 정규분포가 아닌 심한 비대칭성 분포 -> 한쪽으로 치우치면 극단적인 이상치가 나올 가능성이 높다.\n",
        "  "
      ],
      "metadata": {
        "id": "Iw3XXsjBcVXK"
      }
    },
    {
      "cell_type": "markdown",
      "source": [
        "### 등분산성\n",
        "- 모든 그룹의 분산이 동일해야한다는 가정. 즉, **변동성이 같아야한다.**\n",
        "- ANOVA 계산시에 그룹간의 분산을 비교하는 방법. -> 분산이 아예 다르면 F검정이 왜곡되고 p-value값이 부정확해진다\n",
        "- 분산이 크면 더 많은 차이가 있다고 잘못판단할 수 있고, 반대로 분산이 너무 작은 그룹의 차이는 과소평가 될 수 있다"
      ],
      "metadata": {
        "id": "Js82YyDFc2kP"
      }
    },
    {
      "cell_type": "markdown",
      "source": [
        "### 독립성\n",
        "- 관측치가 서로 독립이어야한다.\n",
        "----\n",
        "- 정규분포 등 가정을 충족하지 못하는 경우 -> ** 비모수 검정 필요**\n",
        "- 방금 위에서 언급한 가정을 위배한 경우 잘못된 결정을 내릴 수 있다.\n"
      ],
      "metadata": {
        "id": "4ivJOGFMdYE-"
      }
    },
    {
      "cell_type": "markdown",
      "source": [
        "#### 카이제곱과 분산분석의 차이는?\n",
        "- 카이제곱은 범주형데이터의 관계나 분포로 분석\n",
        "- 분산분석: 여러 그룹간의 평균차이 분석"
      ],
      "metadata": {
        "id": "C8MxcydUd8Q2"
      }
    },
    {
      "cell_type": "markdown",
      "source": [
        "## 하단코드: 일원분산분석\n",
        "- scipy.stats import f_oneway\n",
        "- stat, pvalue = f_oneway(그룹1, 그룹2, 그룹3)\n",
        "- F통계량, pvalue 를 갖고 통계량을 해석해야한다"
      ],
      "metadata": {
        "id": "tAbdaTRgel20"
      }
    },
    {
      "cell_type": "markdown",
      "source": [
        "-----\n",
        "### 일원분산분석에서의 가설 설정\n"
      ],
      "metadata": {
        "id": "0Q0A7WbDe6dK"
      }
    },
    {
      "cell_type": "markdown",
      "source": [
        "- 귀무가설: 모든 그룹의 평균이 동일하다\n",
        "- 대립가설: 적어도 하나의 그룹의 평균이 다르다.\n",
        "\n",
        "---\n",
        "- 비모수 정규분포를 따르지 않는 경우는?\n",
        "- scipy.stats import kruskal\n",
        "- 순위검정방식\n",
        "  - 귀무가설: 모든 그룹의 중위수가 동일하다\n",
        "  - 대립가설: 적어도 하나의 그룹의 중위수가 다르다"
      ],
      "metadata": {
        "id": "RyZ-ebthfpV2"
      }
    },
    {
      "cell_type": "code",
      "source": [
        "import seaborn as sns\n",
        "import pandas as pd\n",
        "import numpy as np\n",
        "import matplotlib.pyplot as plt"
      ],
      "metadata": {
        "id": "FvgWD7ZFX7wF"
      },
      "execution_count": null,
      "outputs": []
    },
    {
      "cell_type": "code",
      "source": [
        "from  scipy import stats\n",
        "import statsmodels.api as sm\n",
        "from statsmodels.formula.api import ols"
      ],
      "metadata": {
        "id": "tSat_mqyfsaU"
      },
      "execution_count": null,
      "outputs": []
    },
    {
      "cell_type": "code",
      "source": [
        "# 테이블 팁 평균\n",
        "tips = sns.load_dataset('tips')\n",
        "tips.day.value_counts()"
      ],
      "metadata": {
        "colab": {
          "base_uri": "https://localhost:8080/",
          "height": 241
        },
        "id": "AZE8c7yGf8DN",
        "outputId": "09961c83-aa1d-408a-b6d4-66d3a143987b"
      },
      "execution_count": null,
      "outputs": [
        {
          "output_type": "execute_result",
          "data": {
            "text/plain": [
              "day\n",
              "Sat     87\n",
              "Sun     76\n",
              "Thur    62\n",
              "Fri     19\n",
              "Name: count, dtype: int64"
            ],
            "text/html": [
              "<div>\n",
              "<style scoped>\n",
              "    .dataframe tbody tr th:only-of-type {\n",
              "        vertical-align: middle;\n",
              "    }\n",
              "\n",
              "    .dataframe tbody tr th {\n",
              "        vertical-align: top;\n",
              "    }\n",
              "\n",
              "    .dataframe thead th {\n",
              "        text-align: right;\n",
              "    }\n",
              "</style>\n",
              "<table border=\"1\" class=\"dataframe\">\n",
              "  <thead>\n",
              "    <tr style=\"text-align: right;\">\n",
              "      <th></th>\n",
              "      <th>count</th>\n",
              "    </tr>\n",
              "    <tr>\n",
              "      <th>day</th>\n",
              "      <th></th>\n",
              "    </tr>\n",
              "  </thead>\n",
              "  <tbody>\n",
              "    <tr>\n",
              "      <th>Sat</th>\n",
              "      <td>87</td>\n",
              "    </tr>\n",
              "    <tr>\n",
              "      <th>Sun</th>\n",
              "      <td>76</td>\n",
              "    </tr>\n",
              "    <tr>\n",
              "      <th>Thur</th>\n",
              "      <td>62</td>\n",
              "    </tr>\n",
              "    <tr>\n",
              "      <th>Fri</th>\n",
              "      <td>19</td>\n",
              "    </tr>\n",
              "  </tbody>\n",
              "</table>\n",
              "</div><br><label><b>dtype:</b> int64</label>"
            ]
          },
          "metadata": {},
          "execution_count": 4
        }
      ]
    },
    {
      "cell_type": "code",
      "source": [
        "# 일원분산분석 :독립변수 1원인 -> 요일이 원인이다 가정.\n",
        "# 요일간의 tip의 평균 차이를 분산분석\n",
        "print(tips.groupby('day')['tip'].describe())"
      ],
      "metadata": {
        "colab": {
          "base_uri": "https://localhost:8080/"
        },
        "id": "KAF_I8t8gELx",
        "outputId": "aab63dcb-23f8-4122-ed4c-ed3f93c02f10"
      },
      "execution_count": null,
      "outputs": [
        {
          "output_type": "stream",
          "name": "stdout",
          "text": [
            "      count      mean       std   min     25%    50%     75%    max\n",
            "day                                                                \n",
            "Thur   62.0  2.771452  1.240223  1.25  2.0000  2.305  3.3625   6.70\n",
            "Fri    19.0  2.734737  1.019577  1.00  1.9600  3.000  3.3650   4.73\n",
            "Sat    87.0  2.993103  1.631014  1.00  2.0000  2.750  3.3700  10.00\n",
            "Sun    76.0  3.255132  1.234880  1.01  2.0375  3.150  4.0000   6.50\n"
          ]
        },
        {
          "output_type": "stream",
          "name": "stderr",
          "text": [
            "<ipython-input-5-dcbf60d18f41>:3: FutureWarning: The default of observed=False is deprecated and will be changed to True in a future version of pandas. Pass observed=False to retain current behavior or observed=True to adopt the future default and silence this warning.\n",
            "  print(tips.groupby('day')['tip'].describe())\n"
          ]
        }
      ]
    },
    {
      "cell_type": "code",
      "source": [
        "# 가정확인: 정규성 검정(샤피로 wilk test)\n",
        "# 각 그룹의 tip 정규성 확인\n",
        "for day in tips['day'].unique():\n",
        "  w, p_value = stats.shapiro(tips[tips['day'] == day]['tip'])\n",
        "  print(f\"{day}요일의 정규성 검정 p-value: {p_value:5f}\")"
      ],
      "metadata": {
        "colab": {
          "base_uri": "https://localhost:8080/"
        },
        "id": "JBZAR_rKgtvr",
        "outputId": "7b7b1660-7807-449a-ef74-d368d3574cbb"
      },
      "execution_count": null,
      "outputs": [
        {
          "output_type": "stream",
          "name": "stdout",
          "text": [
            "Sun요일의 정규성 검정 p-value: 0.026330\n",
            "Sat요일의 정규성 검정 p-value: 0.000000\n",
            "Thur요일의 정규성 검정 p-value: 0.000014\n",
            "Fri요일의 정규성 검정 p-value: 0.849694\n"
          ]
        }
      ]
    },
    {
      "cell_type": "code",
      "source": [
        "# 가정확인2: 등분산성 검정(Levene Test)\n",
        "print('등분산성 검정_ Levene Test')\n",
        "levene_test = stats.levene(tips[tips['day'] == 'Thur']['tip'],\n",
        "                           tips[tips['day'] == 'Fri']['tip'],\n",
        "                           tips[tips['day'] == 'Sat']['tip'],\n",
        "                           tips[tips['day'] == 'Sun']['tip'])\n",
        "print(f'Levene Test p-value: {levene_test.pvalue:5f}')"
      ],
      "metadata": {
        "colab": {
          "base_uri": "https://localhost:8080/"
        },
        "id": "40AmotuEhH9S",
        "outputId": "e80e64eb-7002-46fa-9260-43a95ee95045"
      },
      "execution_count": null,
      "outputs": [
        {
          "output_type": "stream",
          "name": "stdout",
          "text": [
            "등분산성 검정_ Levene Test\n",
            "Levene Test p-value: 0.647282\n"
          ]
        }
      ]
    },
    {
      "cell_type": "code",
      "source": [
        "# 일원분석 ANOVA 실행\n",
        "anova_model = ols('tip ~C(day)', data=tips).fit()\n",
        "anova_table = sm.stats.anova_lm(anova_model, typ=2)\n",
        "print(anova_table)"
      ],
      "metadata": {
        "colab": {
          "base_uri": "https://localhost:8080/"
        },
        "id": "q0OxCpYZhmuK",
        "outputId": "1ec3521a-a7a9-4c8d-ded9-20da122cc5fb"
      },
      "execution_count": null,
      "outputs": [
        {
          "output_type": "stream",
          "name": "stdout",
          "text": [
            "              sum_sq     df         F    PR(>F)\n",
            "C(day)      9.525873    3.0  1.672355  0.173589\n",
            "Residual  455.686604  240.0       NaN       NaN\n"
          ]
        }
      ]
    },
    {
      "cell_type": "code",
      "source": [
        "# 결과해석\n",
        "f_value = anova_table['F'][0]\n",
        "p_value = anova_table['PR(>F)'][0]\n",
        "\n",
        "if p_value < 0.05:\n",
        "  print(f'\\n결과: F(3, N-1) = {f_value:.2f}, p-value = {p_value:.5f}')\n",
        "  print('귀무가설 기각, 대립가설 채택: 요일에 따른 팁차이가 유의미합니다.')\n",
        "else:\n",
        "  print(f'\\n결과: F(3, N-1) = {f_value:.2f}, p-value = {p_value:.5f}')\n",
        "  print('귀무가설 채택: 요일에 따른 팁차이에 의미가 없는 수준입니다.')"
      ],
      "metadata": {
        "colab": {
          "base_uri": "https://localhost:8080/"
        },
        "id": "t8OhjgyViF23",
        "outputId": "fc3bc526-4a41-44b1-9331-7628dbdf4591"
      },
      "execution_count": null,
      "outputs": [
        {
          "output_type": "stream",
          "name": "stdout",
          "text": [
            "\n",
            "결과: F(3, N-1) = 1.67, p-value = 0.17359\n",
            "귀무가설 채택\n"
          ]
        },
        {
          "output_type": "stream",
          "name": "stderr",
          "text": [
            "<ipython-input-11-a99aa093b566>:2: FutureWarning: Series.__getitem__ treating keys as positions is deprecated. In a future version, integer keys will always be treated as labels (consistent with DataFrame behavior). To access a value by position, use `ser.iloc[pos]`\n",
            "  f_value = anova_table['F'][0]\n",
            "<ipython-input-11-a99aa093b566>:3: FutureWarning: Series.__getitem__ treating keys as positions is deprecated. In a future version, integer keys will always be treated as labels (consistent with DataFrame behavior). To access a value by position, use `ser.iloc[pos]`\n",
            "  p_value = anova_table['PR(>F)'][0]\n"
          ]
        }
      ]
    },
    {
      "cell_type": "code",
      "source": [
        "# 사후검정(Turkey's HSD)\n",
        "from statsmodels.stats.multicomp import pairwise_tukeyhsd\n",
        "\n",
        "tukey = pairwise_tukeyhsd(endog = tips['tip'], groups = tips['day'], alpha = 0.05)\n",
        "print(tukey)"
      ],
      "metadata": {
        "colab": {
          "base_uri": "https://localhost:8080/"
        },
        "id": "TjINuh7QjB_D",
        "outputId": "8e5ad42f-b6cb-4c07-ccaf-dbc2e326e77a"
      },
      "execution_count": null,
      "outputs": [
        {
          "output_type": "stream",
          "name": "stdout",
          "text": [
            "Multiple Comparison of Means - Tukey HSD, FWER=0.05\n",
            "===================================================\n",
            "group1 group2 meandiff p-adj   lower  upper  reject\n",
            "---------------------------------------------------\n",
            "   Fri    Sat   0.2584 0.8806 -0.6444 1.1611  False\n",
            "   Fri    Sun   0.5204 0.4558  -0.394 1.4348  False\n",
            "   Fri   Thur   0.0367 0.9996 -0.8981 0.9715  False\n",
            "   Sat    Sun    0.262 0.6204 -0.2977 0.8217  False\n",
            "   Sat   Thur  -0.2217 0.7679 -0.8141 0.3708  False\n",
            "   Sun   Thur  -0.4837 0.1724 -1.0938 0.1264  False\n",
            "---------------------------------------------------\n"
          ]
        }
      ]
    },
    {
      "cell_type": "code",
      "source": [
        "# 현재 정규성이 있는건 Fri만 (가정확인1에서 체크)"
      ],
      "metadata": {
        "id": "kechNXfSjvLs"
      },
      "execution_count": null,
      "outputs": []
    },
    {
      "cell_type": "code",
      "source": [
        "sns.boxplot(x='day')"
      ],
      "metadata": {
        "id": "V1bBlV0hjcGl"
      },
      "execution_count": null,
      "outputs": []
    },
    {
      "cell_type": "markdown",
      "source": [
        "- 표본의수도 꼭 확인해야한다"
      ],
      "metadata": {
        "id": "d6ypgdCSkDzs"
      }
    },
    {
      "cell_type": "code",
      "source": [
        "# 비모수검정\n",
        "from scipy.stats import kruskal\n",
        "\n",
        "kruskal_test = kruskal(\n",
        "    tips[tips['day'] == 'Thur']['tip'],\n",
        "    tips[tips['day'] == 'Fri']['tip'],\n",
        "    tips[tips['day'] == 'Sat']['tip'],\n",
        "    tips[tips['day'] == 'Sun']['tip']\n",
        ")"
      ],
      "metadata": {
        "id": "y-QyaEi8kFy5"
      },
      "execution_count": null,
      "outputs": []
    },
    {
      "cell_type": "code",
      "source": [
        "kruskal_test"
      ],
      "metadata": {
        "colab": {
          "base_uri": "https://localhost:8080/"
        },
        "id": "aRKfUS_UkkpM",
        "outputId": "307dcfe3-731f-4f61-bae1-95b4a73e337a"
      },
      "execution_count": null,
      "outputs": [
        {
          "output_type": "execute_result",
          "data": {
            "text/plain": [
              "KruskalResult(statistic=8.565587588927167, pvalue=0.03566056019447427)"
            ]
          },
          "metadata": {},
          "execution_count": 15
        }
      ]
    },
    {
      "cell_type": "markdown",
      "source": [
        "- pvalue: 0.05미만이면 요일간 팁에 유의미한 분포가 있다판단 -> 0.03이라 유의미성 합격!"
      ],
      "metadata": {
        "id": "6TMgMcPVkrMB"
      }
    },
    {
      "cell_type": "markdown",
      "source": [
        "## 정규분포와 비정규분포에서 pvalue변화\n",
        "\n",
        "## 귀무가설의 한계 - 통계적인 가설검정의 한계\n",
        "- 유의성검정은 귀무가설이 참이라는 조건에서 검정이 이루어진다\n",
        "- 귀무가설이 참이라는 가정하에 통계량을 계산하고, 귀무가설을 기각할지 유지할지 결정\n",
        "- 이때 pvalue는 귀무가설이 참이라는 가정하에 현재 데이터보다 극단적인 결과가 나올 확률을 의미함\n",
        "\n",
        "## 귀무가설이 참이라는 조건의 한계\n",
        "- 귀무가설이 참이라는 가정하에 계산:\n",
        "  - 실제 귀무가설이 참인지 여부를 전혀 고려하지 못한 부분 -> ** 귀무가설이 참일 때 이런 결과가 나올 가능성** 에만 집중\n",
        "  - 귀무가설이 사실 거짓일 경우 이를 어떻게 탐지하나요?\n",
        "  - 검정은 귀무가설을 기각할 충분한 근거가 있는지 판단 -> 이러한 검증이 대립가설이 참임을 증명하지는 않는다.\n",
        "\n",
        "\n",
        "- pvalue의 오해: pvalue가 작다 != 대립가설이 참이다\n",
        "- pvalue는 귀무가설이 참일 때 극단적인 결과가 나올 가능성임. 절대로 대립가설이 참이라는 확률을 계산하는게 아니다\n",
        "- pvalue가 작다고 대립가설이 참인 것이 아님. 다만 귀무가설을 기각할 수 있는 것!!\n",
        "\n",
        "- 유의성 검정의 한계:\n",
        "  - 통계적 검정이 결국 차이가 있다/없다 로 귀결됨 -> 이분법적으로 보기에는 도메인에 따라 효과의 크기나 실질적인 중요성등을 고려하지 않는 부분도 있다\n",
        "  - 정말 작은 차이어도 이게 엄청 유의미할 수 있다\n",
        "  - pvalue가 작으면 유의미하다는 식의 결론이 현실적으로 의미있는 차이와 완벽하게 일치하지는 않는다."
      ],
      "metadata": {
        "id": "JaNGA-tplFje"
      }
    },
    {
      "cell_type": "code",
      "source": [],
      "metadata": {
        "id": "zX1FrUMFlRUP"
      },
      "execution_count": null,
      "outputs": []
    },
    {
      "cell_type": "code",
      "source": [],
      "metadata": {
        "id": "HcsgzPubkpz2"
      },
      "execution_count": null,
      "outputs": []
    }
  ]
}