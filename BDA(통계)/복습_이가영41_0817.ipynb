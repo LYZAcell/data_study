{
  "nbformat": 4,
  "nbformat_minor": 0,
  "metadata": {
    "colab": {
      "provenance": [],
      "authorship_tag": "ABX9TyMczoGu1PfcOmldyg3RjCLT",
      "include_colab_link": true
    },
    "kernelspec": {
      "name": "python3",
      "display_name": "Python 3"
    },
    "language_info": {
      "name": "python"
    }
  },
  "cells": [
    {
      "cell_type": "markdown",
      "metadata": {
        "id": "view-in-github",
        "colab_type": "text"
      },
      "source": [
        "<a href=\"https://colab.research.google.com/github/LYZAcell/data_study/blob/main/BDA(%ED%86%B5%EA%B3%84)/%EB%B3%B5%EC%8A%B5_%EC%9D%B4%EA%B0%80%EC%98%8141_0817.ipynb\" target=\"_parent\"><img src=\"https://colab.research.google.com/assets/colab-badge.svg\" alt=\"Open In Colab\"/></a>"
      ]
    },
    {
      "cell_type": "markdown",
      "source": [
        "# 공지\n",
        "- EDA job 런칭 (데이터 직군 포폴 공유, 요령 등 공유)\n"
      ],
      "metadata": {
        "id": "0JC2Ab-_RwDM"
      }
    },
    {
      "cell_type": "markdown",
      "source": [
        "# 분산분석"
      ],
      "metadata": {
        "id": "RuGAmZp-SJ0v"
      }
    },
    {
      "cell_type": "markdown",
      "source": [
        "## PDF 공유"
      ],
      "metadata": {
        "id": "zSlQsgGtSLJL"
      }
    },
    {
      "cell_type": "markdown",
      "source": [
        "### 두 모분산 차이의 추정\n"
      ],
      "metadata": {
        "id": "_lXIu0LWSM4F"
      }
    },
    {
      "cell_type": "markdown",
      "source": [
        "- 두 모분산 차이를 표본 추출하여 구한 표본분산의 차이로 추정하는 방법\n",
        "- 두 주식의 가격 변동성 차이, 두 교과목 시험 문제 사이의 변별력 차이\n",
        "- A-B의 차이를 0과 비교하는 방법, A/B를 1과 비교하는 방법 등이 있음\n",
        "- 두 모집단의 모표준편차를 알고있는지에 따라 적용되는 신뢰구간식과 검정통계량은 달라진다.\n",
        "\n",
        "#### 두모분산의 추정(비율)\n",
        "- 추정량을 점추정, 구간추정(신뢰한계)으로 구한다\n",
        "- 점 추정치를 구할때는 두 표본분산 중 큰 값을 분자로 놓고 구한다\n",
        "- 수학성적은 학생들간의 차이가 심한데 비해 국어성적은 고르게 분포되어있다. 수학과 국어성적의 분산의 차이(비율)은 어느정도인가? 31명의 수학과 국어 성적을 표본추출하여 조사한결과 각 분산이 23.6, 15.8로 나타났다. 신뢰수준 95%로 두 모분산 비율을 구간추정해보자."
      ],
      "metadata": {
        "id": "YQH9SOUQUV5Y"
      }
    },
    {
      "cell_type": "code",
      "source": [],
      "metadata": {
        "id": "6VYpXdhcSJXt"
      },
      "execution_count": null,
      "outputs": []
    },
    {
      "cell_type": "markdown",
      "source": [
        "### 두 모분산의 검정(비율)"
      ],
      "metadata": {
        "id": "2803Cia_UXAG"
      }
    },
    {
      "cell_type": "markdown",
      "source": [
        "- 좌, 우, 양측검정, 검정통계량과 기각역\n",
        "- 귀무가설과 대립가설을 잘 설정하는 것이 중요하다.\n",
        "- 검정통계량은 두 표본분산 중 큰 값을 분자로 둔다\n",
        "\n",
        "#### 예제\n",
        "- 건설주가 자동차주의 변동성에 비해 심하다는 주장. 10일 간의 종가의 분산이 각각 236.2, 158.5. 유의수준 5%로 건설주의 분산이 자동차주의 분산보다 큰지를 검정해보자\n"
      ],
      "metadata": {
        "id": "KAGUJWIYUbG2"
      }
    },
    {
      "cell_type": "markdown",
      "source": [
        "#### 대응자료 추정"
      ],
      "metadata": {
        "id": "nodCtNHWU2o-"
      }
    },
    {
      "cell_type": "markdown",
      "source": [
        "- 원래는 독립으로 봤으나 대응자료로 추정함. 동일한 표본 대상으로 특정 사건을 전후로 두번 측정하여 얻은 자료를 바탕으로 추정하는 것 (대응 비교)(쌍체비교)"
      ],
      "metadata": {
        "id": "q1f83QGuU45x"
      }
    },
    {
      "cell_type": "code",
      "source": [],
      "metadata": {
        "id": "FHBbnrr9UZa7"
      },
      "execution_count": null,
      "outputs": []
    },
    {
      "cell_type": "markdown",
      "source": [
        "### 적합도 검정의 개념"
      ],
      "metadata": {
        "id": "7lpLR2ASV4ss"
      }
    },
    {
      "cell_type": "markdown",
      "source": [
        "- 분석결과가 제대로된 것인지 평가하기 위해 실제 관측조사한 자료를 토대로 가정된 확률분포가 타당한지 검정\n",
        "- 기존의 타입과 다르게 우리는 지금 범주형 자료 타입으로 넘어왔다"
      ],
      "metadata": {
        "id": "hAzEXJNFV_-k"
      }
    },
    {
      "cell_type": "code",
      "source": [],
      "metadata": {
        "id": "NtAzjc01V7f9"
      },
      "execution_count": null,
      "outputs": []
    },
    {
      "cell_type": "markdown",
      "source": [
        "# 코드"
      ],
      "metadata": {
        "id": "BRnKwHLHX31m"
      }
    },
    {
      "cell_type": "markdown",
      "source": [
        "## 적합성, 독립성, 동일성\n",
        "- 적합도검정\n",
        "- 주로 카이제곱을 검정해서 사용\n",
        "- 기대빈도(e.g.봄, 여름,가을,겨울 감기 빈도) -> 관찰된 빈도랑 (봄,여름,가을,겨울 중 가을.겨울,감기가 많을것이다 판단\n",
        "- 기대 빈도와 관찰된 빈도의 차이를 비교하여 적합성 판단\n",
        "\n",
        "- 귀무가설(H0) : 관찰된 데이터 분포 -> 이론적분포(기대빈도)에 적합하다. (1/4~)\n",
        "- 대립가설(H1): 관찰된 데이터 분포가 -> 이론적인 분포와 적합하지 않다.\n",
        "\n",
        "- 검정절차:\n",
        "  - 관찰된 빈도와 이론적인 분포로부터 계산된 기대빈도를 확인한다.\n",
        "  - 각 범주에서 차이를 계산한다. 카이제곱 통계량을 구하는 것\n",
        "  - 유의수준, 자유도 임계값 설정\n",
        "  - 계산된 카이제곱 통계량이 임계값보다 크다면 귀무가설 기각하고 그렇지 않으면 채택한다.\n",
        "\n",
        "- e.g:\n",
        "  - 주사위를 던지는데 !! 공정한지 아닌지!!를 검정한다.\n",
        "  - 60번 주사위를 던졌을 대 1이 8번, 2가 10번, 3이 9번 4가 12번 5가 11번 6이 10번\n",
        "  - 이런상황에서 기대되는 이론적인 분포라함은 1/6인데 관찰빈도는 살짝 다르다\n",
        "\n",
        "  - X2 = sum((관찰빈도 - 기대빈도)^2 / 기대빈도)\n",
        "  - X2 = (8-10)2/19 + ....\n",
        "  - X2 = value이 값인지 검정\n",
        "  - 자유도 6n-1 = 5, 유의수준 0.05 입계값 = 임계값 -> 값 ! = 임계값 비교해서 적합한지, 주사위가 공정한지 확인\n"
      ],
      "metadata": {
        "id": "3Q_qLL82X54I"
      }
    },
    {
      "cell_type": "markdown",
      "source": [
        "#### 독립성\n",
        "- 틀어지면 모든 가정이 날아감\n",
        "- 두 범주형 변수간에 독립적인관계가 있는지 검정하는 방법\n",
        "- 카이제곱검정\n",
        "- 가설검정:\n",
        "  - 귀무가설(H0) - 두 변수는 독립적이다.\n",
        "  - 대립가설(H1) - 두 변수는 독립적이지 않다(어떤 상관관계들이 있다)\n",
        "\n",
        "- 검정절차 (적합도검정과 좀 다름)\n",
        "  - 적합도 검정이 관찰에 기반한 것에 비해 두 범주형 변수의 교차표(관찰빈도)를 작성하고 기대빈도를 계산하여 카이제곱 통계량 연산 후 동일한 절차를 거친다\n",
        "\n",
        "\n",
        "  - e.g. 국어와 수학, 남자와 여자의 관계 조사 (선호과목과 성별의 관계)\n",
        "    - 국어선호 남자 30\n",
        "    - 수학선호 남자 20\n",
        "    - 국어선호 여자 10\n",
        "    - 수학선호 여자 40\n",
        "    -> 관계검정\n",
        "\n",
        "  - 가설검정\n",
        "    1. 귀무가설: 성별과 선호관계간에는 독립적인 관계가 있다\n",
        "    2. 대립가설 : 성별과 선호과목간에는 독립적인관계가 없다 (상관관계가 있다)\n",
        "\n",
        "    - 교차표 제작\n",
        "      - 남자 30 20 = 50\n",
        "      - 여자 10 40 = 50\n",
        "      - 합 40 60\n",
        "\n",
        "- 기대 빈도 (남자총합 * 국어총합 ) / 전체총합 = (50*40) / 100 = 20\n",
        "- 동일하게 수학도 30 나올 것\n",
        "\n",
        "- 분석결과 신뢰성을 높이고 올바르게 해석하기 위한 과정들. 데이터 특성이 다르니 특성에 맞춰나가는 과정"
      ],
      "metadata": {
        "id": "MaTjDOIGa1bv"
      }
    },
    {
      "cell_type": "code",
      "source": [],
      "metadata": {
        "id": "ZCPR228RX4V4"
      },
      "execution_count": null,
      "outputs": []
    }
  ]
}