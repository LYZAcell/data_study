{
  "nbformat": 4,
  "nbformat_minor": 0,
  "metadata": {
    "colab": {
      "provenance": []
    },
    "kernelspec": {
      "name": "python3",
      "display_name": "Python 3"
    },
    "language_info": {
      "name": "python"
    }
  },
  "cells": [
    {
      "cell_type": "markdown",
      "source": [
        "# 가설검정PPT"
      ],
      "metadata": {
        "id": "c1t3eeQWI26k"
      }
    },
    {
      "cell_type": "markdown",
      "source": [
        "## 1. 모분산의 추정\n",
        "- 모분산 추정에는 자유도가 n-1인 카이제곱 통계량 사용\n",
        "- 점추정 모평균이 90인데 이게 신뢰할만 한가? -> 신뢰한계 구하기\n",
        "- 계산은 카이제곱 활용해서 코드로 쉽게 가능"
      ],
      "metadata": {
        "id": "FEP95Tx_I_rc"
      }
    },
    {
      "cell_type": "markdown",
      "source": [
        "## 2. 통계적 검정\n",
        "- 우리는 일반검정이 아닌 통계 검정을 하는 것\n",
        "- 모집단 - 표본추출 - 표본통계 점정\n",
        "- ex: 중량, 공평한 배심원, 사회현상"
      ],
      "metadata": {
        "id": "Jf_H_1lPJi_K"
      }
    },
    {
      "cell_type": "markdown",
      "source": [
        "### 가설\n",
        "- 두개 이상의 변수 또는 현상간의 관계를 과학적인 조사를 통한 검정 가능한 형태로 서술한 문장 혹은 검정할 목적으로 설정하는 모수에 대한 잠정적인 주장이나 가정\n",
        "- 귀무가설 : 일반, 기존 가설\n",
        "- 대립가설: 연구자의 새로운 주장인 가설 (표본의 결과를 통해대립가설에 대해 어느정도 확신을 가질 수 있는지 확인할 수 있다)\n",
        "\n",
        "- 가설의 분류: 대립가설이 어떻게 설정되는가에 따라 단측가설과 양측 가설로 분류\n",
        "  - 단측가설: 한쪽 방향으로 설정되는 가설. ~은 적다, ~은 높다 _ 정량이다/미달이다/초과다\n",
        "  - 양측가설: ~은 같지 않다, ~은 다르다 _ 인종차별이 있다/없다"
      ],
      "metadata": {
        "id": "5zufDJtRKdw9"
      }
    },
    {
      "cell_type": "markdown",
      "source": [
        "1. 가설설정 : 대립가설을 설정하고 양측검정, 단측검정을 선택한다\n",
        "2. 유의수준 결정: 귀무가설 기각시키고 대립가설을 기각시키지 않을 확률의 크기\n",
        "3. 검정통계량 & 기각역 결정: 검정통계량 Z,y,x^2결정. 귀무가설을 기각할 수 있는 검정통계량의 영역인 기각역 설정\n",
        "4. 검정통계량 연산 : 귀무가설 기각 여부 판단에 적용\n",
        "5. 결론 도출 : 귀각여부 결정"
      ],
      "metadata": {
        "id": "gil8LfRzLNFY"
      }
    },
    {
      "cell_type": "markdown",
      "source": [
        "1. 좌측검정\n",
        "2. 우측검정\n",
        "- 둘은 단측 검정으로 기존과 겹치는 구간을 확인하여 기각여부 확인\n",
        "3. 양측검정\n",
        "- 양측에 겹치는 부분을 확인한다\n",
        "\n",
        "## 제 1종/2종 오류\n",
        "- 1종 오류: 귀무가설이 거짓이지만 귀무가설을 기각하지 못한 경우\n",
        "  - 무죄를 유죄로 오판. 적합품을 부적합하다 판단하는 경우\n",
        "\n",
        "- 2종 오류: 귀무가설이 참이었지만 귀무가설을 기각해버린 경우 (대립가설 채택수준이 되지 않았지만 대립가설이 채택되어버린 경우)\n",
        "  - 유죄를 무죄로 오판. 부적합품이 적합품으로 나감\n",
        "\n",
        "- 비즈니스 도메인에 따라 1종 오류 2종오류 가중치를 정함 (둘은 상보적이라 둘 모두 안전을 확보하기 어려움)"
      ],
      "metadata": {
        "id": "VK67kgjbMsB4"
      }
    },
    {
      "cell_type": "markdown",
      "source": [
        "- 기각역 유의수준 알파(a) 설정\n",
        "- 유의수준에 따라 기각해야함에도 안하면 2종 오류\n",
        "- 우측검정치 1.645는 알아두면 좋음(엄청 많이 씀)\n",
        "- 양측 검정 1.96도 알아두면 좋음 (유의수준 95%)\n",
        "- 모평균과 모분산의 차이에 유의하자\n",
        "\n",
        "\n",
        "- 쌀소비량이 증가했는가 ? -> 증가했는지 -> 단측검정 (우측)\n",
        "- t분포 t >1.72 가설검정\n",
        "- 모분산: 검정통계량 및 기각역 _ 유의수준5% 모분산이 1.25mm 초과하는가?\n",
        "  - 2.16mm 이 평균일 때 분산이 1.25를 넘어가면 문제가 발생. 귀무가설 : 초과하지 않아 문제 없어 대립가설 :문제있어"
      ],
      "metadata": {
        "id": "xf0pmpJMOsRY"
      }
    },
    {
      "cell_type": "code",
      "source": [],
      "metadata": {
        "id": "8EJtJPdsI3wH"
      },
      "execution_count": null,
      "outputs": []
    },
    {
      "cell_type": "markdown",
      "source": [
        "# 코드"
      ],
      "metadata": {
        "id": "9g_5-aJwShjB"
      }
    },
    {
      "cell_type": "markdown",
      "source": [
        "- 강사님의 함수설명"
      ],
      "metadata": {
        "id": "BPbJvXPqAU3g"
      }
    },
    {
      "cell_type": "markdown",
      "source": [
        "### 1. `scipy.stats.ttest_1samp`\n",
        "**설명**: 단일 표본 t-검정으로, 주어진 데이터셋의 평균이 모집단의 특정 평균과 다른지 검정합니다.\n",
        "\n",
        "**하이퍼파라미터**:\n",
        "- `a`: 검정할 데이터 배열.\n",
        "- `popmean`: 모집단의 가설 평균.\n",
        "- `axis`: 계산할 축. 기본값은 0.\n",
        "- `nan_policy`: 'propagate', 'raise', 'omit' 중 선택. 'omit'은 NaN 값을 무시.\n",
        "\n",
        "**예제**:\n",
        "```python\n",
        "t_stat, p_value = stats.ttest_1samp(data, popmean=70)\n",
        "```\n",
        "\n",
        "### 2. `scipy.stats.ttest_ind`\n",
        "**설명**: 독립 표본 t-검정으로, 두 독립적인 그룹의 평균이 동일한지 검정합니다.\n",
        "\n",
        "**하이퍼파라미터**:\n",
        "- `a, b`: 두 그룹의 데이터 배열.\n",
        "- `axis`: 계산할 축. 기본값은 0.\n",
        "- `equal_var`: 두 표본이 동일한 분산을 갖는다고 가정할지 여부. 기본값은 True.\n",
        "- `nan_policy`: 'propagate', 'raise', 'omit' 중 선택.\n",
        "\n",
        "**예제**:\n",
        "```python\n",
        "t_stat, p_value = stats.ttest_ind(group1, group2)\n",
        "```\n",
        "\n",
        "### 3. `scipy.stats.ttest_rel`\n",
        "**설명**: 대응 표본 t-검정으로, 동일한 집단의 두 조건 간의 평균 차이를 검정합니다.\n",
        "\n",
        "**하이퍼파라미터**:\n",
        "- `a, b`: 대응되는 두 조건의 데이터 배열.\n",
        "- `axis`: 계산할 축. 기본값은 0.\n",
        "- `nan_policy`: 'propagate', 'raise', 'omit' 중 선택.\n",
        "\n",
        "**예제**:\n",
        "```python\n",
        "t_stat, p_value = stats.ttest_rel(before, after)\n",
        "```\n",
        "\n",
        "### 4. `scipy.stats.chi2_contingency`\n",
        "**설명**: 카이제곱 검정으로, 범주형 데이터의 두 차원이 독립적인지 검정합니다.\n",
        "\n",
        "**하이퍼파라미터**:\n",
        "- `observed`: 관측된 데이터의 교차표.\n",
        "- `correction`: Yates의 수정 여부. 기본값은 True.\n",
        "- `lambda_`: Box-Cox 변환을 위한 매개변수. 기본값은 None.\n",
        "\n",
        "**출력값**:\n",
        "- `chi2`: 카이제곱 통계량.\n",
        "- `p`: p-값.\n",
        "- `dof`: 자유도.\n",
        "- `expected`: 기대 빈도.\n",
        "\n",
        "**예제**:\n",
        "```python\n",
        "chi2_stat, p_value, dof, expected = chi2_contingency(contingency_table)\n",
        "```\n",
        "\n",
        "### 5. `scipy.stats.f_oneway`\n",
        "**설명**: 일원 분산 분석 (ANOVA)으로, 세 개 이상의 그룹 간의 평균 차이가 유의미한지 검정합니다.\n",
        "\n",
        "**하이퍼파라미터**:\n",
        "- `*args`: 그룹 데이터 배열들.\n",
        "\n",
        "**예제**:\n",
        "```python\n",
        "f_stat, p_value = stats.f_oneway(group1, group2, group3)\n",
        "```\n",
        "\n",
        "### 요약\n",
        "- `ttest_1samp`: 단일 표본 t-검정.\n",
        "- `ttest_ind`: 독립 표본 t-검정.\n",
        "- `ttest_rel`: 대응 표본 t-검정.\n",
        "- `chi2_contingency`: 카이제곱 검정.\n",
        "- `f_oneway`: 일원 분산 분석 (ANOVA).\n"
      ],
      "metadata": {
        "id": "k-Cm4NINyWH1"
      }
    },
    {
      "cell_type": "markdown",
      "source": [
        "## 문제1: 소표본의 t검정(모분산을 모르는 경우)\n",
        "- BDA의 새로운 학습법으로 벌점에 영향을 미친다고 주장한다.\n",
        "- 25명의 학회원에게 새로운 학습법을 적용해서 성적을 보니 성적이 70, 표준편차가 10\n",
        "- 기존의 성적 평균점수가 65\n",
        "- 이 결과가 유의미한가? 유의수준 0.05에서 설정하여 검정해라!"
      ],
      "metadata": {
        "id": "NE-Kj0jXSsTc"
      }
    },
    {
      "cell_type": "code",
      "source": [
        "import numpy as np\n",
        "from scipy import stats\n",
        "import matplotlib.pyplot as plt"
      ],
      "metadata": {
        "id": "Ik3-gROmSh5z"
      },
      "execution_count": null,
      "outputs": []
    },
    {
      "cell_type": "code",
      "source": [
        "np.random.seed(111)\n",
        "sample_mean = 70\n",
        "sample_std = 10\n",
        "n = 25\n",
        "\n",
        "# 귀무가설: 새로운 학습법은 성적에 영향을 끼치지 않는다. 65점이다. 그 이상이 되지 않는다\n",
        "# 대립가설: 새로운 학습법은 성적에 영향을 준다. 65점 이상이다\n",
        "\n",
        "data = np.random.normal(loc = sample_mean, scale = sample_std, size = n)\n",
        "data"
      ],
      "metadata": {
        "colab": {
          "base_uri": "https://localhost:8080/"
        },
        "id": "4j56JMyVTapl",
        "outputId": "be4cc237-fc49-4a4f-c990-c8b129ec0155"
      },
      "execution_count": null,
      "outputs": [
        {
          "output_type": "execute_result",
          "data": {
            "text/plain": [
              "array([58.66161666, 73.84319193, 84.96553776, 66.44617703, 62.12466459,\n",
              "       65.40561092, 69.40831229, 66.45826499, 62.64476945, 58.16060114,\n",
              "       72.38894134, 64.10079738, 55.59414882, 77.73703108, 59.7203267 ,\n",
              "       69.0901375 , 74.92003003, 74.24672201, 82.83048815, 73.15986454,\n",
              "       65.91917798, 69.32052407, 60.47573342, 68.89322598, 75.70594293])"
            ]
          },
          "metadata": {},
          "execution_count": 2
        }
      ]
    },
    {
      "cell_type": "code",
      "source": [
        "# 모평균 검정을 위한 t검정\n",
        "t_stats, p_value = stats.ttest_1samp(data, popmean = 65)"
      ],
      "metadata": {
        "id": "63an2Sp4UDJl"
      },
      "execution_count": null,
      "outputs": []
    },
    {
      "cell_type": "code",
      "source": [
        "print(\"t통계:\",t_stats)\n",
        "# pvalue : 0.03 = 3%기 때문에 95%신뢰수준일 경우 5%보다 작기때문에 대립가설이 차용된다\n",
        "print(\"pvalue:\",p_value)\n"
      ],
      "metadata": {
        "colab": {
          "base_uri": "https://localhost:8080/"
        },
        "id": "gOtlUNJYUVD3",
        "outputId": "943da98c-f678-43db-fd90-7a6dae4ae7c0"
      },
      "execution_count": null,
      "outputs": [
        {
          "output_type": "stream",
          "name": "stdout",
          "text": [
            "t통계: 2.295521358365354\n",
            "pvalue: 0.03074411024414607\n"
          ]
        }
      ]
    },
    {
      "cell_type": "code",
      "source": [],
      "metadata": {
        "id": "z0QeOFYOUYfi"
      },
      "execution_count": null,
      "outputs": []
    }
  ]
}