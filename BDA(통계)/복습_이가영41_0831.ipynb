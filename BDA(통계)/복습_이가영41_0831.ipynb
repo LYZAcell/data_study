{
  "nbformat": 4,
  "nbformat_minor": 0,
  "metadata": {
    "colab": {
      "provenance": [],
      "authorship_tag": "ABX9TyMg7wxIuEoOcx13A5og5r7+",
      "include_colab_link": true
    },
    "kernelspec": {
      "name": "python3",
      "display_name": "Python 3"
    },
    "language_info": {
      "name": "python"
    }
  },
  "cells": [
    {
      "cell_type": "markdown",
      "metadata": {
        "id": "view-in-github",
        "colab_type": "text"
      },
      "source": [
        "<a href=\"https://colab.research.google.com/github/LYZAcell/data_study/blob/main/BDA(%ED%86%B5%EA%B3%84)/%EB%B3%B5%EC%8A%B5_%EC%9D%B4%EA%B0%80%EC%98%8141_0831.ipynb\" target=\"_parent\"><img src=\"https://colab.research.google.com/assets/colab-badge.svg\" alt=\"Open In Colab\"/></a>"
      ]
    },
    {
      "cell_type": "markdown",
      "source": [
        "# 공지"
      ],
      "metadata": {
        "id": "F0tgDiCbX6Wd"
      }
    },
    {
      "cell_type": "markdown",
      "source": [
        "- 9기 모집 중 (~9/2)\n",
        "- 오늘이 18주, 다음주가 끝\n",
        "- 10기에 통계 심화반이 생길 예정. 많관부"
      ],
      "metadata": {
        "id": "OZugkbQ7X8T-"
      }
    },
    {
      "cell_type": "markdown",
      "source": [
        "# 분산분석\n",
        "- 지난시간 나눠준 PDF 있음"
      ],
      "metadata": {
        "id": "XTMYneXmYHDN"
      }
    },
    {
      "cell_type": "markdown",
      "source": [
        "## 카이제곱이란?\n",
        "- 범주형데이터 분석\n",
        "- 지난시간: 동일성, 독립성, 적합성 검정"
      ],
      "metadata": {
        "id": "Sp-57OWWYlLu"
      }
    },
    {
      "cell_type": "markdown",
      "source": [
        "## 일원분산분석의 개념"
      ],
      "metadata": {
        "id": "ZCA2ZSA6Yp54"
      }
    },
    {
      "cell_type": "markdown",
      "source": [
        "## 분산 분석이란?\n",
        "- ANOVA: 여러집단에 대해 평균의 차이를 검정하는 것.\n",
        "- ex: 경영학 전공자 초봉 분포"
      ],
      "metadata": {
        "id": "07czsO3wY2Be"
      }
    },
    {
      "cell_type": "markdown",
      "source": [
        "## 일원 분산분석?\n",
        "- 반응변수에 영향을 미치는 요인 중 하나의 요인만 고려\n",
        "- 다른 요인이나 조건을 일정하게 유지하여 분석하는 방법\n",
        "- 요인의 수준(처리)가 L개, 각 수준에서 실험의 반복이 M -> 총 LM번의 실험\n",
        "- 완전 무작위(확률화)로 실시해야함\n",
        "\n",
        "- **Y의 변동(평균위주에서) = 설명된변동(요인에 의해) + 설명되지 않은 변동 (무작위 오차항)**\n"
      ],
      "metadata": {
        "id": "uqDIHPBkZQVZ"
      }
    },
    {
      "cell_type": "markdown",
      "source": [
        "- ex: 비료를 주는 양에 따라 배추의 수확량에는 차이가 있는가?\n",
        "- 요인A: 비료\n",
        "- 수준 100g, 150g, 200g"
      ],
      "metadata": {
        "id": "bN-MrTNCZ8TB"
      }
    },
    {
      "cell_type": "markdown",
      "source": [
        "### 일원분산분석의 자료구조\n",
        "- Xij = 데이터의 총평균 + ai+서로 독립인 오차\n",
        "- ai = 비료를 i번째 준 효과 ( i 번째 총평균 - 총평균)\n",
        "- 서로 독립인 오차 : 효과 외의 독립적인 오차들\n",
        "- 귀무가설과 대립가설로보면좋다"
      ],
      "metadata": {
        "id": "_2mMUzWbasUW"
      }
    },
    {
      "cell_type": "markdown",
      "source": [
        "- 가정: l개의 모평균이 모두 같은가?\n",
        "- 자료구조 모형에 의해서 l개의 처리효과는 모두 0 이다를 검정\n",
        "- H0 = 각각의 i 번째 평균이 같다 ( = 비료의 차이가 없다)\n",
        "  - H0 = a1 = a2 = a3 ... = ai\n",
        "- H1= i번째 총평균은 다르다 (비료의 효과가 있다)\n"
      ],
      "metadata": {
        "id": "LIlp8HtRbZg2"
      }
    },
    {
      "cell_type": "markdown",
      "source": [
        "### 분산방법"
      ],
      "metadata": {
        "id": "Dus08qSIcj1F"
      }
    },
    {
      "cell_type": "markdown",
      "source": [
        "1. 일원분산분석의 가설 검정을 위해 먼저 변동을 분해하는 것부터 시작\n",
        "2. 변동의 분해는 총변동(총제곱합)을 수준(처리)간 변동과 수준 내 변동(오차변동)으로 분해\n",
        "3. 총 변동의 자유도는 수준간 변동의 자유도와 오차의 자유도로 분해\n",
        "\n",
        "- Y의 변동(평균주의) = 설명되노 변동(요인에 의해) + 설명되지 않은 변동( 무작위 오차항)\n",
        "\n",
        "- 수준간 변동(요인A의 변동) , 수준 내 변동 (오차 E의 변동)\n",
        "- 요인A는 SSA\n",
        "  - A는 경향성이 있는 변수항\n",
        "- 요인E는 SSE\n",
        "  - 설명되지 않는 E는 경향성이 없어야함. 무작위 오차항이어야함. 랜덤해야한다는 것이 중요포인트\n",
        "  - 경향성이 보인다면 하나의 요인 A로 들어가야한다.\n",
        "\n",
        "\n",
        "4. 각요인의 제곱평균(MS)을 구한다\n",
        "  - 제곱평균은 변동(제곱합)을 그 자유도로 나누면 된다.\n",
        "5. 두 제곱평균의 비를 구한다\n",
        "6. 결과를 작성하여 표로 나타낸다\n",
        "\n",
        "- SSA: 수준간 변동\n",
        "- SSE: 수준 내 변동\n",
        "- MSA: 수준간 제곱평균 SSA/ l-1\n",
        "- MSE: 수준내 제곱평균 SSE / l(m-1)"
      ],
      "metadata": {
        "id": "-qHNf5mLdxJq"
      }
    },
    {
      "cell_type": "markdown",
      "source": [
        "### 분산분석 예제\n",
        "- 진통제 종류 반복 관측치 분산분석표 작성\n"
      ],
      "metadata": {
        "id": "THDlvvotd0o4"
      }
    },
    {
      "cell_type": "markdown",
      "source": [
        "# 분산분석 요약"
      ],
      "metadata": {
        "id": "5bHgp_Zreomq"
      }
    },
    {
      "cell_type": "markdown",
      "source": [
        "- 두개 이상의 집단 간의 평균의 차이를 검정하는 것\n",
        "- 핵심 아이디어: 집단 간 분산, 집단 내 분산으로 분리하여 분석\n",
        "- 이 집단 간 차이가 우연에 의한 것인가? 실제로 유의미한 차이인가?\n",
        "-----\n",
        "- 가정\n",
        "  - 정규성: 각집단의 데이터는 정규분포를 따라야한다 (잊으면 안됨)\n",
        "  - 등분산성: 각 집단의 분산은 서로 같아야한다 (등분산성)\n",
        "  - 독립성: 관찰값들이 독립적으로 추출되어야한다\n",
        "\n",
        "\n",
        "-----\n",
        "- 분산분석의 종류\n",
        "  - **일원분산분석 (One way Anova (Analysis of Variance)**\n",
        "    - 하나의 독립변수 (비료) 집단 간의 평균차이 (배추수확량)\n",
        "  - 이원분산분석\n",
        "  - 반복분산분석\n",
        "  - 그외 사후 분석 등\n"
      ],
      "metadata": {
        "id": "Kbkh7FTJgF2z"
      }
    },
    {
      "cell_type": "markdown",
      "source": [
        "### 분산분석의 과정\n",
        "- 가설 설정:\n",
        "  - 귀무가설 (H0) : 모든 집단의 평균이 같다\n",
        "  - 대립가설 (H1) : 적어도 하나의 집단의 평균이 다르다.\n",
        "\n",
        "- **분산 계산:**\n",
        "  - 집단 내 분산: 각 집단 내의 관측치(데이터)의 변동계산\n",
        "  - 집단 간 분산: 집단 간의 평균 차이에서 오는 변동 계산\n",
        "- **F검정 통계량 계산:**\n",
        "  - F-값: 집단 간 분산을 집단 내 분산으로 나눈 값 F분포를 따른다\n",
        "    -> F값이 크면 귀무가설을 기각할 가능서잉 높다\n",
        "  - p-값: F-값 기반으로 p-값을 계산하며 귀무가설 기각여부를 결정\n",
        "\n",
        "\n",
        "\n",
        "- 결과값 해석\n",
        "  - p value 유의수준(0.05)보다 작으면 귀무가설 기각하고 집단 간 평균 차이가 잇다.\n",
        "  - 크면 반대 평균차이가 없다"
      ],
      "metadata": {
        "id": "0vg24Yp2gMbq"
      }
    },
    {
      "cell_type": "markdown",
      "source": [
        "### if 귀무가설이 기각될 시 -> 사후검정(post-hoc Test)\n",
        "- 귀무가설이 기각된 후 -> 사후 검정을 통해 집단 간의 차이가 있는지 구체적으로 확인한다\n",
        "- 귀무가설 -> 기각되어서 차이가 있는건 ok,좀 더 구체적으로 보고싶어!\n",
        "  - Turkey's HSD : 집단 간 평균차이 모두 비교해서 어떤 집단 차이나는지 확인\n",
        "  - Bonferroni: 여러 가설검정을 수행하여 발생할 수 잇는 오류 조정하는 방법 확인"
      ],
      "metadata": {
        "id": "RXC86qDVhmsc"
      }
    },
    {
      "cell_type": "markdown",
      "source": [
        "### 집단간, 집단 내의 차이를 계산하는 제곱합을 좀 더 딥하게 확인하자!\n",
        "- 총제곱합 (SST)\n",
        "- 집단 간 제곱합(SSB)\n",
        "- 집단 내 제곱합 (SSW)\n",
        "- 분산을 계산하여 F비 계산\n",
        "  - 집단 간 분산 / 집단 내 분산. 각 요인이 오차보다 큰 영향을 미치는지 판단.\n",
        "  - 집단 간 분산 / 집단 내 분산\n"
      ],
      "metadata": {
        "id": "jtUYStOsiR6K"
      }
    },
    {
      "cell_type": "markdown",
      "source": [
        "### F검정 통계량\n",
        "- 분산분석에서 핵심적인 통계량, 집단 간 변동(집단 간 분산)이 집단 내 변동 (집단내 분산, 오차)에 비해 얼마나 큰지 평가\n",
        "- MSB(Mean Square Between-groups):\n",
        "  - 정의: 집단 간 분산은 각 집단의 평균이 전체 평균에서 얼마나 떨어져있는가? 나타내는 분산\n",
        "  - 각 집단의 평균이 전체 평균에서 벗어나는 정도를 측정\n",
        "  - 의미: 만약 각 집단 평균이 전체 평균에서 많이 벗어나있으면 집단간의 차이가 크다는 것을 의미"
      ],
      "metadata": {
        "id": "avSH0wJCinil"
      }
    },
    {
      "cell_type": "markdown",
      "source": [
        "- MSW( Mean Square Within- groups):\n",
        "  - 정의: 집단 내 분산은 각 집단 내에서 개별데이터(관측치)가 집단의 평균에서 얼마나 벗어났는지 나타내는 분산\n",
        "  - 집단 내의 데이터가 얼마나 퍼져있는가 측정\n",
        "  - 의미 : 집단 내 분산은 각 집단의 데이터가 해당 집단 평균에서 벗어나는 정도, 오차변동이라고 할 수 있다.\n"
      ],
      "metadata": {
        "id": "IgjBoFHQjMJo"
      }
    },
    {
      "cell_type": "markdown",
      "source": [
        "- F겁정통계량 해석\n",
        "  - F-값: F값이 크다 -> 집단 간 분산이 집단 내 분산보다 크다. 즉 집단 간의 평균의 차이가 무작오차가 크다는 것\n",
        "  - F값이 1에 가까우면- > 집단 간 분산이 집단 내 분산과 거의 같다. 집단 간 변동의 차이가 오차 변동과 비슷한 수준"
      ],
      "metadata": {
        "id": "bPFODP09jxkF"
      }
    },
    {
      "cell_type": "code",
      "source": [],
      "metadata": {
        "id": "5yr2g9_KYItx"
      },
      "execution_count": null,
      "outputs": []
    },
    {
      "cell_type": "markdown",
      "source": [
        "# 분산분석 코드"
      ],
      "metadata": {
        "id": "kES8WgUielog"
      }
    },
    {
      "cell_type": "code",
      "source": [
        "import pandas as pd\n",
        "# 이후 이어서할 예정"
      ],
      "metadata": {
        "id": "FvgWD7ZFX7wF"
      },
      "execution_count": null,
      "outputs": []
    }
  ]
}