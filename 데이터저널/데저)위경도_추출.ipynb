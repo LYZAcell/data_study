{
  "nbformat": 4,
  "nbformat_minor": 0,
  "metadata": {
    "colab": {
      "provenance": [],
      "authorship_tag": "ABX9TyPH+zfp4Wdyhd7EPkxLt/a0",
      "include_colab_link": true
    },
    "kernelspec": {
      "name": "python3",
      "display_name": "Python 3"
    },
    "language_info": {
      "name": "python"
    }
  },
  "cells": [
    {
      "cell_type": "markdown",
      "metadata": {
        "id": "view-in-github",
        "colab_type": "text"
      },
      "source": [
        "<a href=\"https://colab.research.google.com/github/LYZAcell/data_study/blob/main/%EB%8D%B0%EC%9D%B4%ED%84%B0%EC%A0%80%EB%84%90/%EB%8D%B0%EC%A0%80)%EC%9C%84%EA%B2%BD%EB%8F%84_%EC%B6%94%EC%B6%9C.ipynb\" target=\"_parent\"><img src=\"https://colab.research.google.com/assets/colab-badge.svg\" alt=\"Open In Colab\"/></a>"
      ]
    },
    {
      "cell_type": "markdown",
      "source": [
        "# 데이터저널 위경도 추출\n",
        "- 노션 './전처리위경도전.csv' 업로드 후 시작"
      ],
      "metadata": {
        "id": "ARaHKVcu7lS4"
      }
    },
    {
      "cell_type": "markdown",
      "source": [
        "## 라이브러리 설치 및 import"
      ],
      "metadata": {
        "id": "AVd_sqyu70nd"
      }
    },
    {
      "cell_type": "code",
      "source": [
        "pip install requests"
      ],
      "metadata": {
        "colab": {
          "base_uri": "https://localhost:8080/"
        },
        "id": "pDdKvv0C5rw9",
        "outputId": "d7f644b6-485d-4410-ab18-e664a80d7711"
      },
      "execution_count": 5,
      "outputs": [
        {
          "output_type": "stream",
          "name": "stdout",
          "text": [
            "Requirement already satisfied: requests in /usr/local/lib/python3.10/dist-packages (2.32.3)\n",
            "Requirement already satisfied: charset-normalizer<4,>=2 in /usr/local/lib/python3.10/dist-packages (from requests) (3.3.2)\n",
            "Requirement already satisfied: idna<4,>=2.5 in /usr/local/lib/python3.10/dist-packages (from requests) (3.7)\n",
            "Requirement already satisfied: urllib3<3,>=1.21.1 in /usr/local/lib/python3.10/dist-packages (from requests) (2.0.7)\n",
            "Requirement already satisfied: certifi>=2017.4.17 in /usr/local/lib/python3.10/dist-packages (from requests) (2024.7.4)\n"
          ]
        }
      ]
    },
    {
      "cell_type": "code",
      "execution_count": 6,
      "metadata": {
        "id": "by10FOo83e8Y"
      },
      "outputs": [],
      "source": [
        "import pandas as pd\n",
        "import requests"
      ]
    },
    {
      "cell_type": "markdown",
      "source": [
        "## 카카오맵 api 응답확인"
      ],
      "metadata": {
        "id": "zW9qY2iM76Ld"
      }
    },
    {
      "cell_type": "code",
      "source": [
        "# 카카오맵 호출되는지 확인\n",
        "# api 키 권한오류 시 코랩, 로컬 등 링크 허용 필요\n",
        "\n",
        "def test_address(address):\n",
        "  # restapi키\n",
        "  api_key = \"ec7cbcebaedfbf302ed77da39ea7ef3b\"\n",
        "  headers = {\"Authorization\": f\"KakaoAK {api_key}\"}\n",
        "\n",
        "  # API 호출 URL\n",
        "  url = \"https://dapi.kakao.com/v2/local/search/address.json\"\n",
        "\n",
        "  # 요청 파라미터\n",
        "  params = {\"query\": address}\n",
        "\n",
        "  # API 요청\n",
        "  response = requests.get(url, headers=headers, params=params)\n",
        "\n",
        "  if response.status_code == 200:\n",
        "      result = response.json()\n",
        "      if result['documents']:\n",
        "          # 위도와 경도를 추출\n",
        "          x = result['documents'][0]['x']  # 경도\n",
        "          y = result['documents'][0]['y']  # 위도\n",
        "          return x, y\n",
        "      else:\n",
        "          return None\n",
        "  else:\n",
        "      print(f\"Error {response.status_code}: {response.text}\")\n",
        "      return None\n"
      ],
      "metadata": {
        "id": "u9ZiD5sG4lYp"
      },
      "execution_count": 7,
      "outputs": []
    },
    {
      "cell_type": "code",
      "source": [
        "# 사용 예제\n",
        "address = \"서울특별시 강남구 테헤란로 152\"\n",
        "coordinates = test_address(address)\n",
        "\n",
        "if coordinates:\n",
        "    print(f\"주소: {address}\")\n",
        "    print(f\"위도: {coordinates[1]}\")\n",
        "    print(f\"경도: {coordinates[0]}\")\n",
        "else:\n",
        "    print(\"좌표를 찾을 수 없습니다.\")"
      ],
      "metadata": {
        "colab": {
          "base_uri": "https://localhost:8080/"
        },
        "id": "mw5_Xmf07Hl6",
        "outputId": "175883df-f397-4e5a-8fe6-56c393606fc8"
      },
      "execution_count": 9,
      "outputs": [
        {
          "output_type": "stream",
          "name": "stdout",
          "text": [
            "주소: 서울특별시 강남구 테헤란로 152\n",
            "위도: 37.5000242405515\n",
            "경도: 127.036508620542\n"
          ]
        }
      ]
    },
    {
      "cell_type": "markdown",
      "source": [
        "## df 호출"
      ],
      "metadata": {
        "id": "BKLuuv3F786q"
      }
    },
    {
      "cell_type": "code",
      "source": [
        "origin_df = pd.read_csv('./전처리위경도전.csv', encoding = 'cp949')\n",
        "df = origin_df.copy()\n",
        "df.head()"
      ],
      "metadata": {
        "colab": {
          "base_uri": "https://localhost:8080/",
          "height": 311
        },
        "id": "olIJfln04Zv6",
        "outputId": "de0a983c-8781-4ede-b8e3-969ec65024e7"
      },
      "execution_count": 4,
      "outputs": [
        {
          "output_type": "execute_result",
          "data": {
            "text/plain": [
              "       시도명  시군구명        폐교명  폐교연도 학교급구분명 활용현황구분명     건물연면적  \\\n",
              "0  강원특별자치도   강릉시  왕산초 고단분교장  2010   초등학교      대부    771.00   \n",
              "1  강원특별자치도   강릉시  옥계초 남양분교장  2011   초등학교      대부    892.00   \n",
              "2  강원특별자치도   양양군    양양여자중학교  2019    중학교    자체활용  10566.93   \n",
              "3  강원특별자치도   원주시  문막초 취병분교장  2014   초등학교      대부    539.58   \n",
              "4    부산광역시  부산진구     중앙초등학교  2008   초등학교    자체활용   5178.00   \n",
              "\n",
              "                   소재지도로명주소                    소재지지번주소  \n",
              "0                       NaN  강원특별자치도 강릉시 왕산면 고단리 32-18  \n",
              "1                       NaN    강원특별자치도 강릉시 옥계면 남양리 528  \n",
              "2                       NaN    강원특별자치도 양양군 양양읍 서문리 224  \n",
              "3                       NaN    강원특별자치도 원주시 문막읍 취병리 358  \n",
              "4  부산광역시 부산진구 전포대로 209번길 26                        NaN  "
            ],
            "text/html": [
              "\n",
              "  <div id=\"df-63de8814-2a4f-4933-a5cf-20adf1f58f55\" class=\"colab-df-container\">\n",
              "    <div>\n",
              "<style scoped>\n",
              "    .dataframe tbody tr th:only-of-type {\n",
              "        vertical-align: middle;\n",
              "    }\n",
              "\n",
              "    .dataframe tbody tr th {\n",
              "        vertical-align: top;\n",
              "    }\n",
              "\n",
              "    .dataframe thead th {\n",
              "        text-align: right;\n",
              "    }\n",
              "</style>\n",
              "<table border=\"1\" class=\"dataframe\">\n",
              "  <thead>\n",
              "    <tr style=\"text-align: right;\">\n",
              "      <th></th>\n",
              "      <th>시도명</th>\n",
              "      <th>시군구명</th>\n",
              "      <th>폐교명</th>\n",
              "      <th>폐교연도</th>\n",
              "      <th>학교급구분명</th>\n",
              "      <th>활용현황구분명</th>\n",
              "      <th>건물연면적</th>\n",
              "      <th>소재지도로명주소</th>\n",
              "      <th>소재지지번주소</th>\n",
              "    </tr>\n",
              "  </thead>\n",
              "  <tbody>\n",
              "    <tr>\n",
              "      <th>0</th>\n",
              "      <td>강원특별자치도</td>\n",
              "      <td>강릉시</td>\n",
              "      <td>왕산초 고단분교장</td>\n",
              "      <td>2010</td>\n",
              "      <td>초등학교</td>\n",
              "      <td>대부</td>\n",
              "      <td>771.00</td>\n",
              "      <td>NaN</td>\n",
              "      <td>강원특별자치도 강릉시 왕산면 고단리 32-18</td>\n",
              "    </tr>\n",
              "    <tr>\n",
              "      <th>1</th>\n",
              "      <td>강원특별자치도</td>\n",
              "      <td>강릉시</td>\n",
              "      <td>옥계초 남양분교장</td>\n",
              "      <td>2011</td>\n",
              "      <td>초등학교</td>\n",
              "      <td>대부</td>\n",
              "      <td>892.00</td>\n",
              "      <td>NaN</td>\n",
              "      <td>강원특별자치도 강릉시 옥계면 남양리 528</td>\n",
              "    </tr>\n",
              "    <tr>\n",
              "      <th>2</th>\n",
              "      <td>강원특별자치도</td>\n",
              "      <td>양양군</td>\n",
              "      <td>양양여자중학교</td>\n",
              "      <td>2019</td>\n",
              "      <td>중학교</td>\n",
              "      <td>자체활용</td>\n",
              "      <td>10566.93</td>\n",
              "      <td>NaN</td>\n",
              "      <td>강원특별자치도 양양군 양양읍 서문리 224</td>\n",
              "    </tr>\n",
              "    <tr>\n",
              "      <th>3</th>\n",
              "      <td>강원특별자치도</td>\n",
              "      <td>원주시</td>\n",
              "      <td>문막초 취병분교장</td>\n",
              "      <td>2014</td>\n",
              "      <td>초등학교</td>\n",
              "      <td>대부</td>\n",
              "      <td>539.58</td>\n",
              "      <td>NaN</td>\n",
              "      <td>강원특별자치도 원주시 문막읍 취병리 358</td>\n",
              "    </tr>\n",
              "    <tr>\n",
              "      <th>4</th>\n",
              "      <td>부산광역시</td>\n",
              "      <td>부산진구</td>\n",
              "      <td>중앙초등학교</td>\n",
              "      <td>2008</td>\n",
              "      <td>초등학교</td>\n",
              "      <td>자체활용</td>\n",
              "      <td>5178.00</td>\n",
              "      <td>부산광역시 부산진구 전포대로 209번길 26</td>\n",
              "      <td>NaN</td>\n",
              "    </tr>\n",
              "  </tbody>\n",
              "</table>\n",
              "</div>\n",
              "    <div class=\"colab-df-buttons\">\n",
              "\n",
              "  <div class=\"colab-df-container\">\n",
              "    <button class=\"colab-df-convert\" onclick=\"convertToInteractive('df-63de8814-2a4f-4933-a5cf-20adf1f58f55')\"\n",
              "            title=\"Convert this dataframe to an interactive table.\"\n",
              "            style=\"display:none;\">\n",
              "\n",
              "  <svg xmlns=\"http://www.w3.org/2000/svg\" height=\"24px\" viewBox=\"0 -960 960 960\">\n",
              "    <path d=\"M120-120v-720h720v720H120Zm60-500h600v-160H180v160Zm220 220h160v-160H400v160Zm0 220h160v-160H400v160ZM180-400h160v-160H180v160Zm440 0h160v-160H620v160ZM180-180h160v-160H180v160Zm440 0h160v-160H620v160Z\"/>\n",
              "  </svg>\n",
              "    </button>\n",
              "\n",
              "  <style>\n",
              "    .colab-df-container {\n",
              "      display:flex;\n",
              "      gap: 12px;\n",
              "    }\n",
              "\n",
              "    .colab-df-convert {\n",
              "      background-color: #E8F0FE;\n",
              "      border: none;\n",
              "      border-radius: 50%;\n",
              "      cursor: pointer;\n",
              "      display: none;\n",
              "      fill: #1967D2;\n",
              "      height: 32px;\n",
              "      padding: 0 0 0 0;\n",
              "      width: 32px;\n",
              "    }\n",
              "\n",
              "    .colab-df-convert:hover {\n",
              "      background-color: #E2EBFA;\n",
              "      box-shadow: 0px 1px 2px rgba(60, 64, 67, 0.3), 0px 1px 3px 1px rgba(60, 64, 67, 0.15);\n",
              "      fill: #174EA6;\n",
              "    }\n",
              "\n",
              "    .colab-df-buttons div {\n",
              "      margin-bottom: 4px;\n",
              "    }\n",
              "\n",
              "    [theme=dark] .colab-df-convert {\n",
              "      background-color: #3B4455;\n",
              "      fill: #D2E3FC;\n",
              "    }\n",
              "\n",
              "    [theme=dark] .colab-df-convert:hover {\n",
              "      background-color: #434B5C;\n",
              "      box-shadow: 0px 1px 3px 1px rgba(0, 0, 0, 0.15);\n",
              "      filter: drop-shadow(0px 1px 2px rgba(0, 0, 0, 0.3));\n",
              "      fill: #FFFFFF;\n",
              "    }\n",
              "  </style>\n",
              "\n",
              "    <script>\n",
              "      const buttonEl =\n",
              "        document.querySelector('#df-63de8814-2a4f-4933-a5cf-20adf1f58f55 button.colab-df-convert');\n",
              "      buttonEl.style.display =\n",
              "        google.colab.kernel.accessAllowed ? 'block' : 'none';\n",
              "\n",
              "      async function convertToInteractive(key) {\n",
              "        const element = document.querySelector('#df-63de8814-2a4f-4933-a5cf-20adf1f58f55');\n",
              "        const dataTable =\n",
              "          await google.colab.kernel.invokeFunction('convertToInteractive',\n",
              "                                                    [key], {});\n",
              "        if (!dataTable) return;\n",
              "\n",
              "        const docLinkHtml = 'Like what you see? Visit the ' +\n",
              "          '<a target=\"_blank\" href=https://colab.research.google.com/notebooks/data_table.ipynb>data table notebook</a>'\n",
              "          + ' to learn more about interactive tables.';\n",
              "        element.innerHTML = '';\n",
              "        dataTable['output_type'] = 'display_data';\n",
              "        await google.colab.output.renderOutput(dataTable, element);\n",
              "        const docLink = document.createElement('div');\n",
              "        docLink.innerHTML = docLinkHtml;\n",
              "        element.appendChild(docLink);\n",
              "      }\n",
              "    </script>\n",
              "  </div>\n",
              "\n",
              "\n",
              "<div id=\"df-a1ec426f-de68-411e-9c3b-b67d9bfb80ba\">\n",
              "  <button class=\"colab-df-quickchart\" onclick=\"quickchart('df-a1ec426f-de68-411e-9c3b-b67d9bfb80ba')\"\n",
              "            title=\"Suggest charts\"\n",
              "            style=\"display:none;\">\n",
              "\n",
              "<svg xmlns=\"http://www.w3.org/2000/svg\" height=\"24px\"viewBox=\"0 0 24 24\"\n",
              "     width=\"24px\">\n",
              "    <g>\n",
              "        <path d=\"M19 3H5c-1.1 0-2 .9-2 2v14c0 1.1.9 2 2 2h14c1.1 0 2-.9 2-2V5c0-1.1-.9-2-2-2zM9 17H7v-7h2v7zm4 0h-2V7h2v10zm4 0h-2v-4h2v4z\"/>\n",
              "    </g>\n",
              "</svg>\n",
              "  </button>\n",
              "\n",
              "<style>\n",
              "  .colab-df-quickchart {\n",
              "      --bg-color: #E8F0FE;\n",
              "      --fill-color: #1967D2;\n",
              "      --hover-bg-color: #E2EBFA;\n",
              "      --hover-fill-color: #174EA6;\n",
              "      --disabled-fill-color: #AAA;\n",
              "      --disabled-bg-color: #DDD;\n",
              "  }\n",
              "\n",
              "  [theme=dark] .colab-df-quickchart {\n",
              "      --bg-color: #3B4455;\n",
              "      --fill-color: #D2E3FC;\n",
              "      --hover-bg-color: #434B5C;\n",
              "      --hover-fill-color: #FFFFFF;\n",
              "      --disabled-bg-color: #3B4455;\n",
              "      --disabled-fill-color: #666;\n",
              "  }\n",
              "\n",
              "  .colab-df-quickchart {\n",
              "    background-color: var(--bg-color);\n",
              "    border: none;\n",
              "    border-radius: 50%;\n",
              "    cursor: pointer;\n",
              "    display: none;\n",
              "    fill: var(--fill-color);\n",
              "    height: 32px;\n",
              "    padding: 0;\n",
              "    width: 32px;\n",
              "  }\n",
              "\n",
              "  .colab-df-quickchart:hover {\n",
              "    background-color: var(--hover-bg-color);\n",
              "    box-shadow: 0 1px 2px rgba(60, 64, 67, 0.3), 0 1px 3px 1px rgba(60, 64, 67, 0.15);\n",
              "    fill: var(--button-hover-fill-color);\n",
              "  }\n",
              "\n",
              "  .colab-df-quickchart-complete:disabled,\n",
              "  .colab-df-quickchart-complete:disabled:hover {\n",
              "    background-color: var(--disabled-bg-color);\n",
              "    fill: var(--disabled-fill-color);\n",
              "    box-shadow: none;\n",
              "  }\n",
              "\n",
              "  .colab-df-spinner {\n",
              "    border: 2px solid var(--fill-color);\n",
              "    border-color: transparent;\n",
              "    border-bottom-color: var(--fill-color);\n",
              "    animation:\n",
              "      spin 1s steps(1) infinite;\n",
              "  }\n",
              "\n",
              "  @keyframes spin {\n",
              "    0% {\n",
              "      border-color: transparent;\n",
              "      border-bottom-color: var(--fill-color);\n",
              "      border-left-color: var(--fill-color);\n",
              "    }\n",
              "    20% {\n",
              "      border-color: transparent;\n",
              "      border-left-color: var(--fill-color);\n",
              "      border-top-color: var(--fill-color);\n",
              "    }\n",
              "    30% {\n",
              "      border-color: transparent;\n",
              "      border-left-color: var(--fill-color);\n",
              "      border-top-color: var(--fill-color);\n",
              "      border-right-color: var(--fill-color);\n",
              "    }\n",
              "    40% {\n",
              "      border-color: transparent;\n",
              "      border-right-color: var(--fill-color);\n",
              "      border-top-color: var(--fill-color);\n",
              "    }\n",
              "    60% {\n",
              "      border-color: transparent;\n",
              "      border-right-color: var(--fill-color);\n",
              "    }\n",
              "    80% {\n",
              "      border-color: transparent;\n",
              "      border-right-color: var(--fill-color);\n",
              "      border-bottom-color: var(--fill-color);\n",
              "    }\n",
              "    90% {\n",
              "      border-color: transparent;\n",
              "      border-bottom-color: var(--fill-color);\n",
              "    }\n",
              "  }\n",
              "</style>\n",
              "\n",
              "  <script>\n",
              "    async function quickchart(key) {\n",
              "      const quickchartButtonEl =\n",
              "        document.querySelector('#' + key + ' button');\n",
              "      quickchartButtonEl.disabled = true;  // To prevent multiple clicks.\n",
              "      quickchartButtonEl.classList.add('colab-df-spinner');\n",
              "      try {\n",
              "        const charts = await google.colab.kernel.invokeFunction(\n",
              "            'suggestCharts', [key], {});\n",
              "      } catch (error) {\n",
              "        console.error('Error during call to suggestCharts:', error);\n",
              "      }\n",
              "      quickchartButtonEl.classList.remove('colab-df-spinner');\n",
              "      quickchartButtonEl.classList.add('colab-df-quickchart-complete');\n",
              "    }\n",
              "    (() => {\n",
              "      let quickchartButtonEl =\n",
              "        document.querySelector('#df-a1ec426f-de68-411e-9c3b-b67d9bfb80ba button');\n",
              "      quickchartButtonEl.style.display =\n",
              "        google.colab.kernel.accessAllowed ? 'block' : 'none';\n",
              "    })();\n",
              "  </script>\n",
              "</div>\n",
              "\n",
              "    </div>\n",
              "  </div>\n"
            ],
            "application/vnd.google.colaboratory.intrinsic+json": {
              "type": "dataframe",
              "variable_name": "df",
              "summary": "{\n  \"name\": \"df\",\n  \"rows\": 405,\n  \"fields\": [\n    {\n      \"column\": \"\\uc2dc\\ub3c4\\uba85\",\n      \"properties\": {\n        \"dtype\": \"category\",\n        \"num_unique_values\": 16,\n        \"samples\": [\n          \"\\uac15\\uc6d0\\ud2b9\\ubcc4\\uc790\\uce58\\ub3c4\",\n          \"\\ubd80\\uc0b0\\uad11\\uc5ed\\uc2dc\",\n          \"\\ucda9\\uccad\\ubd81\\ub3c4\"\n        ],\n        \"semantic_type\": \"\",\n        \"description\": \"\"\n      }\n    },\n    {\n      \"column\": \"\\uc2dc\\uad70\\uad6c\\uba85\",\n      \"properties\": {\n        \"dtype\": \"category\",\n        \"num_unique_values\": 124,\n        \"samples\": [\n          \"\\uc74c\\uc131\\uad70\",\n          \"\\uae40\\ucc9c\\uc2dc\",\n          \"\\uad70\\uc0b0\\uc2dc\"\n        ],\n        \"semantic_type\": \"\",\n        \"description\": \"\"\n      }\n    },\n    {\n      \"column\": \"\\ud3d0\\uad50\\uba85\",\n      \"properties\": {\n        \"dtype\": \"string\",\n        \"num_unique_values\": 389,\n        \"samples\": [\n          \"\\uac15\\ucc9c\\ucd08\",\n          \"\\ud48d\\uc11c\\ucd08\\ub4f1\\ud559\\uad50\",\n          \"\\uac15\\ud3ec\\ucd08\\ub4f1\\ud559\\uad50\"\n        ],\n        \"semantic_type\": \"\",\n        \"description\": \"\"\n      }\n    },\n    {\n      \"column\": \"\\ud3d0\\uad50\\uc5f0\\ub3c4\",\n      \"properties\": {\n        \"dtype\": \"number\",\n        \"std\": 4,\n        \"min\": 2008,\n        \"max\": 2024,\n        \"num_unique_values\": 17,\n        \"samples\": [\n          2010,\n          2011,\n          2009\n        ],\n        \"semantic_type\": \"\",\n        \"description\": \"\"\n      }\n    },\n    {\n      \"column\": \"\\ud559\\uad50\\uae09\\uad6c\\ubd84\\uba85\",\n      \"properties\": {\n        \"dtype\": \"category\",\n        \"num_unique_values\": 3,\n        \"samples\": [\n          \"\\ucd08\\ub4f1\\ud559\\uad50\",\n          \"\\uc911\\ud559\\uad50\",\n          \"\\uace0\\ub4f1\\ud559\\uad50\"\n        ],\n        \"semantic_type\": \"\",\n        \"description\": \"\"\n      }\n    },\n    {\n      \"column\": \"\\ud65c\\uc6a9\\ud604\\ud669\\uad6c\\ubd84\\uba85\",\n      \"properties\": {\n        \"dtype\": \"category\",\n        \"num_unique_values\": 3,\n        \"samples\": [\n          \"\\ub300\\ubd80\",\n          \"\\uc790\\uccb4\\ud65c\\uc6a9\",\n          \"\\ubbf8\\ud65c\\uc6a9\"\n        ],\n        \"semantic_type\": \"\",\n        \"description\": \"\"\n      }\n    },\n    {\n      \"column\": \"\\uac74\\ubb3c\\uc5f0\\uba74\\uc801\",\n      \"properties\": {\n        \"dtype\": \"number\",\n        \"std\": 3376.29537498885,\n        \"min\": 0.0,\n        \"max\": 26858.0,\n        \"num_unique_values\": 361,\n        \"samples\": [\n          3404.0,\n          1429.64,\n          4093.7\n        ],\n        \"semantic_type\": \"\",\n        \"description\": \"\"\n      }\n    },\n    {\n      \"column\": \"\\uc18c\\uc7ac\\uc9c0\\ub3c4\\ub85c\\uba85\\uc8fc\\uc18c\",\n      \"properties\": {\n        \"dtype\": \"string\",\n        \"num_unique_values\": 332,\n        \"samples\": [\n          \"\\ucda9\\uccad\\ubd81\\ub3c4 \\ubcf4\\uc740\\uad70 \\ub0b4\\ubd81\\uba74 \\ub0a8\\ubd80\\ub85c 6225-19\",\n          \"\\uc804\\ub77c\\ubd81\\ub3c4 \\uad70\\uc0b0\\uc2dc \\ub300\\uc57c\\uba74 \\ubc88\\uc601\\ub85c 1421\",\n          \"\\uacbd\\uc0c1\\ubd81\\ub3c4 \\uae40\\ucc9c\\uc2dc \\uc99d\\uc0b01\\ub85c 163(\\uc99d\\uc0b0\\uba74)\"\n        ],\n        \"semantic_type\": \"\",\n        \"description\": \"\"\n      }\n    },\n    {\n      \"column\": \"\\uc18c\\uc7ac\\uc9c0\\uc9c0\\ubc88\\uc8fc\\uc18c\",\n      \"properties\": {\n        \"dtype\": \"string\",\n        \"num_unique_values\": 363,\n        \"samples\": [\n          \"\\uc804\\ub77c\\ub0a8\\ub3c4 \\uc5ec\\uc218\\uc2dc \\uc0bc\\uc0b0\\uba74 \\ucd08\\ub3c4\\ub9ac \\uc0b0 456\",\n          \"\\uacbd\\uc0c1\\ubd81\\ub3c4 \\uc548\\ub3d9\\uc2dc \\ud48d\\ucc9c\\uba74 \\uad6c\\ub2f4\\ub9ac 544-2\",\n          \"\\ucda9\\uccad\\ubd81\\ub3c4 \\uc74c\\uc131\\uad70 \\uc74c\\uc131\\uc74d \\uc0bc\\uc0dd\\ub9ac 94\"\n        ],\n        \"semantic_type\": \"\",\n        \"description\": \"\"\n      }\n    }\n  ]\n}"
            }
          },
          "metadata": {},
          "execution_count": 4
        }
      ]
    },
    {
      "cell_type": "code",
      "source": [],
      "metadata": {
        "id": "l_ZbuZGV7KTx"
      },
      "execution_count": null,
      "outputs": []
    },
    {
      "cell_type": "code",
      "source": [],
      "metadata": {
        "id": "C_UX9tCv7mGV"
      },
      "execution_count": null,
      "outputs": []
    }
  ]
}