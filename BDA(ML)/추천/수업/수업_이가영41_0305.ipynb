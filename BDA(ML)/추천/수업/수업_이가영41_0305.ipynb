{
  "nbformat": 4,
  "nbformat_minor": 0,
  "metadata": {
    "colab": {
      "provenance": [],
      "authorship_tag": "ABX9TyO0v/0d6cOky0k7Wsc1l1dl",
      "include_colab_link": true
    },
    "kernelspec": {
      "name": "python3",
      "display_name": "Python 3"
    },
    "language_info": {
      "name": "python"
    }
  },
  "cells": [
    {
      "cell_type": "markdown",
      "metadata": {
        "id": "view-in-github",
        "colab_type": "text"
      },
      "source": [
        "<a href=\"https://colab.research.google.com/github/LYZAcell/data_study/blob/main/BDA(ML)/%EA%B3%BC%EC%A0%9C/%EC%88%98%EC%97%85_%EC%9D%B4%EA%B0%80%EC%98%8141_0305.ipynb\" target=\"_parent\"><img src=\"https://colab.research.google.com/assets/colab-badge.svg\" alt=\"Open In Colab\"/></a>"
      ]
    },
    {
      "cell_type": "markdown",
      "source": [
        "# OT\n",
        "- 수요일 21-22시\n",
        "- 추천시스템 알고리즘"
      ],
      "metadata": {
        "id": "1i1tbSmuMk3n"
      }
    },
    {
      "cell_type": "markdown",
      "source": [
        "## 머신러닝\n",
        "- 비즈니스 이해 -> 데이터 이해 -> 데이터 준비 -> 모델링 -> 평가 -> 배포 반복 사이클\n",
        "- 추천사이클만 구현 << 데이터 사이언티스트\n",
        "- 취직이 급하면 SQL에 더 투자하는게 백번 맞다.\n",
        "- 데이터 사이언티스트는 파이썬, SQL, 클라우드 시스템 이해도가 높아야한다.\n",
        "\n",
        "- 과거 데이터셋 기반으로 A/B 테스트 등 진행\n",
        "- 머신러닝을 한다!! 보다는 데이터 사이언티스트 희망 시 이해도를 올리는 작업\n",
        "- 기초 통계, 회귀, 다중회귀분석 , 알고리즘, 선형대수, 다다다다다 공부해야 데이터 가능!\n",
        "\n",
        "- 사이언티스는 전공쪽, 분석가는 비전공자 도메인이어도 충분 (비전공자가 접근 가능한 영역!!)"
      ],
      "metadata": {
        "id": "6UYHCeU8MvGi"
      }
    },
    {
      "cell_type": "markdown",
      "source": [
        "## 추천시스템 기본\n",
        "- 협업필터링 / 콘텐츠 기반 필터링\n",
        "- 협력/콘텐츠 기반 추천\n",
        "\n",
        "- Sparse(희소)행렬\n",
        "- Contextual sequence data _ 실시간 추천\n",
        "\n",
        "- 추천시스템 분석 피피티 참고"
      ],
      "metadata": {
        "id": "v72K567XRKrl"
      }
    },
    {
      "cell_type": "code",
      "execution_count": null,
      "metadata": {
        "id": "yL4NiUVSMgkz"
      },
      "outputs": [],
      "source": []
    },
    {
      "cell_type": "code",
      "source": [],
      "metadata": {
        "id": "eOzb5kwjMt0M"
      },
      "execution_count": null,
      "outputs": []
    }
  ]
}
