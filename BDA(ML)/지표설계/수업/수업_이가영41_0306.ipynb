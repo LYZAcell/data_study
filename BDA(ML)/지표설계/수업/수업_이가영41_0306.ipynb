{
  "nbformat": 4,
  "nbformat_minor": 0,
  "metadata": {
    "colab": {
      "provenance": [],
      "authorship_tag": "ABX9TyNECF6fyIzeiUlOGCtqr3it",
      "include_colab_link": true
    },
    "kernelspec": {
      "name": "python3",
      "display_name": "Python 3"
    },
    "language_info": {
      "name": "python"
    }
  },
  "cells": [
    {
      "cell_type": "markdown",
      "metadata": {
        "id": "view-in-github",
        "colab_type": "text"
      },
      "source": [
        "<a href=\"https://colab.research.google.com/github/LYZAcell/data_study/blob/main/%EC%88%98%EC%97%85_%EC%9D%B4%EA%B0%80%EC%98%8141_0306.ipynb\" target=\"_parent\"><img src=\"https://colab.research.google.com/assets/colab-badge.svg\" alt=\"Open In Colab\"/></a>"
      ]
    },
    {
      "cell_type": "code",
      "execution_count": null,
      "metadata": {
        "id": "45l8g8roZPYq"
      },
      "outputs": [],
      "source": []
    },
    {
      "cell_type": "markdown",
      "source": [
        "# 수업 OT\n",
        "- 목 21-22시\n",
        "- 데이터 분석가에게 추천 != 사이언티스트\n",
        "- 지표설계는 SQL이 필수적. 분석 및 feature 설계 해볼 것"
      ],
      "metadata": {
        "id": "Dy6xzS6wZTDp"
      }
    },
    {
      "cell_type": "code",
      "source": [],
      "metadata": {
        "id": "xEYVOZ2RZYqg"
      },
      "execution_count": null,
      "outputs": []
    },
    {
      "cell_type": "markdown",
      "source": [
        "## KPI란?\n",
        "- key performance indicator != OKR (Objective Key result)\n",
        "- KPI란 조직의 목표를 달성하기 위해 성과를 측정하는 핵심적인 지표를 의미합니다\n",
        "- 다시말해 KPI는 조직이 성공적으로 목표를 이루고 있는지를 판단할 수 있게 해주는 수단입니다\n",
        "\n",
        "\n",
        "- SMART 분석, MAU\n",
        "- 맥킨지 B2B 데이터 구조 변화에 따른 설계 : https://www.mckinsey.com/capabilities/growth-marketing-and-sales/our-insights/commercial-performance-cockpit-a-new-era-for-data-driven-steering#/"
      ],
      "metadata": {
        "id": "6Usg9TlJZZCN"
      }
    },
    {
      "cell_type": "markdown",
      "source": [
        "## 올리브영\n",
        "- 올리브영은 온-오프 매출을 모두 고려해야함\n",
        "- 올리브영 세그먼트: 등급에 따라 관리.\n",
        "\n",
        "https://aws.amazon.com/ko/blogs/tech/oliveyoung-serverless-ranking-system/"
      ],
      "metadata": {
        "id": "riKIhUgmcIUM"
      }
    },
    {
      "cell_type": "code",
      "source": [],
      "metadata": {
        "id": "kk5uqnf-Zf0Y"
      },
      "execution_count": null,
      "outputs": []
    }
  ]
}
