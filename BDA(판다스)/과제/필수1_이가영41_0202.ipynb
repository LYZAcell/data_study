{
  "nbformat": 4,
  "nbformat_minor": 0,
  "metadata": {
    "colab": {
      "provenance": [],
      "authorship_tag": "ABX9TyNzcwV3pZZq/P0SJwaH44Tn",
      "include_colab_link": true
    },
    "kernelspec": {
      "name": "python3",
      "display_name": "Python 3"
    },
    "language_info": {
      "name": "python"
    }
  },
  "cells": [
    {
      "cell_type": "markdown",
      "metadata": {
        "id": "view-in-github",
        "colab_type": "text"
      },
      "source": [
        "<a href=\"https://colab.research.google.com/github/LYZAcell/data_study/blob/main/BDA(%ED%8C%90%EB%8B%A4%EC%8A%A4)/%EA%B3%BC%EC%A0%9C/%ED%95%84%EC%88%981_%EC%9D%B4%EA%B0%80%EC%98%8141_0202.ipynb\" target=\"_parent\"><img src=\"https://colab.research.google.com/assets/colab-badge.svg\" alt=\"Open In Colab\"/></a>"
      ]
    },
    {
      "cell_type": "markdown",
      "source": [
        "# 필수과제1.\n",
        "- 긍정과 부정에 주요 핵심 키워드를 카운팅 하여서 어떤 키워드가 가장 높은 빈도를 차지하는지?\n",
        "- 긍정과 부정 두 개 비교해서 상위 5개 리스트 공유"
      ],
      "metadata": {
        "id": "FjN-nmfVHyUE"
      }
    },
    {
      "cell_type": "code",
      "source": [],
      "metadata": {
        "id": "TmxILtL_Hv4Q"
      },
      "execution_count": null,
      "outputs": []
    },
    {
      "cell_type": "code",
      "execution_count": null,
      "metadata": {
        "id": "cBe7d8O_HYfP"
      },
      "outputs": [],
      "source": []
    }
  ]
}