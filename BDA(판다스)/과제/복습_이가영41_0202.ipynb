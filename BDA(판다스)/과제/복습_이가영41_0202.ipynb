{
  "cells": [
    {
      "cell_type": "markdown",
      "metadata": {
        "id": "view-in-github",
        "colab_type": "text"
      },
      "source": [
        "<a href=\"https://colab.research.google.com/github/LYZAcell/data_study/blob/main/BDA(%ED%8C%90%EB%8B%A4%EC%8A%A4)/%EA%B3%BC%EC%A0%9C/%EB%B3%B5%EC%8A%B5_%EC%9D%B4%EA%B0%80%EC%98%8141_0202.ipynb\" target=\"_parent\"><img src=\"https://colab.research.google.com/assets/colab-badge.svg\" alt=\"Open In Colab\"/></a>"
      ]
    },
    {
      "cell_type": "markdown",
      "id": "61348c45",
      "metadata": {
        "id": "61348c45"
      },
      "source": [
        "---\n",
        "### 문자열 조작 문법\n",
        "- **str.cat** : 문자열\n",
        "- 두 개의 데이터프레임 시리즈, 값 등을 연결할 때\n",
        "- **str.split**: 구분자 기준 나누기\n",
        "- **str.join**: 문자열 리스트 특정 구분자 연결\n",
        "- **str.get**: 리스트나 튜퓰 특정 위치값 추출\n",
        "- **str.slice**: 특정위칭 슬라이싱\n",
        "- **str.slice_replace**: 특정위칭 슬라이싱 부분 대체\n",
        "- **str.extract**: 정규표현식과 일치하는 부분을 추출\n",
        "- **str.extractall**: 정규표현식과 일치하는 모든 부분 추출\n",
        "- **str.replace**: 정규표현식 사용하여 문자열 대체\n",
        "\n",
        "\n",
        "### 문자열 정보 문법\n",
        "- **str.len**: 문자열 길이 반환\n",
        "- **str.count**: 정규표현식과 일치하는 부분 개수 카운팅\n",
        "- **str.startswith**: 시작여부\n",
        "- **str.endswith**: 시작여부\n",
        "- **str.find**: 부분 문자열 처음 나타나는 위치 반환 (rfind)\n",
        "- **str.match**: 정규표현식 일치하는지 여부 반환\n",
        "- **str.contains**: 정규표현식을 포함하는 여부 확인 반환\n"
      ]
    },
    {
      "cell_type": "markdown",
      "id": "933b7df4",
      "metadata": {
        "id": "933b7df4"
      },
      "source": [
        "### 정규표현식"
      ]
    },
    {
      "cell_type": "code",
      "execution_count": null,
      "id": "eec48ca2",
      "metadata": {
        "id": "eec48ca2"
      },
      "outputs": [],
      "source": [
        "import re"
      ]
    },
    {
      "cell_type": "code",
      "execution_count": null,
      "id": "bba23e91",
      "metadata": {
        "id": "bba23e91",
        "outputId": "a4d10a61-98aa-4bc5-c87f-1a2fb556e0ff"
      },
      "outputs": [
        {
          "data": {
            "text/plain": [
              "<re.Match object; span=(0, 2), match='안녕'>"
            ]
          },
          "execution_count": 2,
          "metadata": {},
          "output_type": "execute_result"
        }
      ],
      "source": [
        "re.match('안녕?', '안녕? 반갑습니다!')"
      ]
    },
    {
      "cell_type": "code",
      "execution_count": null,
      "id": "14ba7470",
      "metadata": {
        "id": "14ba7470",
        "outputId": "ac7faf48-be90-40f9-ce57-34dcfeb2783e"
      },
      "outputs": [
        {
          "data": {
            "text/plain": [
              "<re.Match object; span=(5, 7), match='안녕'>"
            ]
          },
          "execution_count": 3,
          "metadata": {},
          "output_type": "execute_result"
        }
      ],
      "source": [
        "re.search('안녕?', '반가워! 안녕?')"
      ]
    },
    {
      "cell_type": "code",
      "execution_count": null,
      "id": "e66d964a",
      "metadata": {
        "id": "e66d964a"
      },
      "outputs": [],
      "source": [
        "re.match('안녕?', '반가워! 안녕?')"
      ]
    },
    {
      "cell_type": "markdown",
      "id": "c08283d0",
      "metadata": {
        "id": "c08283d0"
      },
      "source": [
        "- **정규표현식 패턴들**\n",
        "- [0-9] / d\n",
        "- [a-z]\n",
        "- [A-Z]\n",
        "- [가-힣]\n",
        "- ^ not\n",
        "- *, + 패턴 찾기!"
      ]
    },
    {
      "cell_type": "code",
      "execution_count": null,
      "id": "dd6a0500",
      "metadata": {
        "id": "dd6a0500",
        "outputId": "51e438c5-ab2b-4de3-d94a-84e24babdc06"
      },
      "outputs": [
        {
          "data": {
            "text/plain": [
              "<re.Match object; span=(0, 1), match='1'>"
            ]
          },
          "execution_count": 5,
          "metadata": {},
          "output_type": "execute_result"
        }
      ],
      "source": [
        "re.search('[0-9]','123145315313132132143213m,werwaerasdefasdfas123')"
      ]
    },
    {
      "cell_type": "code",
      "execution_count": null,
      "id": "1396e14d",
      "metadata": {
        "id": "1396e14d",
        "outputId": "4522ea88-6a93-4ddb-ee36-d20079f2a95e"
      },
      "outputs": [
        {
          "data": {
            "text/plain": [
              "<re.Match object; span=(0, 24), match='123145315313132132143213'>"
            ]
          },
          "execution_count": 6,
          "metadata": {},
          "output_type": "execute_result"
        }
      ],
      "source": [
        "re.search('[0-9]+','123145315313132132143213m,werwaerasdefasdfas123')"
      ]
    },
    {
      "cell_type": "code",
      "execution_count": null,
      "id": "20f9c5cf",
      "metadata": {
        "id": "20f9c5cf",
        "outputId": "e2b7b0a0-7855-4873-a5d7-f3e3ed780522"
      },
      "outputs": [
        {
          "data": {
            "text/plain": [
              "<re.Match object; span=(0, 24), match='123145315313132132143213'>"
            ]
          },
          "execution_count": 7,
          "metadata": {},
          "output_type": "execute_result"
        }
      ],
      "source": [
        "re.search('[0-9]*','123145315313132132143213m,werwaerasdefasdfas123')"
      ]
    },
    {
      "cell_type": "markdown",
      "id": "7e011fe0",
      "metadata": {
        "id": "7e011fe0"
      },
      "source": [
        "### 데이터프레임 데이터를 가지고 분석해 보자!\n",
        "- 기존에 배운 정규표현식을 str문법과 응용하여 사용하기!"
      ]
    },
    {
      "cell_type": "code",
      "execution_count": null,
      "id": "2309ae08",
      "metadata": {
        "id": "2309ae08",
        "outputId": "9fc9b4d4-9f4d-4a43-edc5-b5dfdecd769d"
      },
      "outputs": [
        {
          "name": "stdout",
          "output_type": "stream",
          "text": [
            "      name               email                 description\n",
            "0    Alice   alice@example.com  Alice is a Data Scientist.\n",
            "1      Bob     bob@example.com         Bob is an Engineer.\n",
            "2  Charlie  charlie@sample.net        Charlie is a Doctor.\n",
            "3    David   david@website.org          David is a Lawyer.\n",
            "4      Eve      eve@domain.com           Eve is an Artist.\n"
          ]
        }
      ],
      "source": [
        "import pandas as pd\n",
        "\n",
        "# 샘플 데이터프레임 생성\n",
        "data = {\n",
        "    'name': ['Alice', 'Bob', 'Charlie', 'David', 'Eve'],\n",
        "    'email': ['alice@example.com', 'bob@example.com', 'charlie@sample.net', 'david@website.org', 'eve@domain.com'],\n",
        "    'description': ['Alice is a Data Scientist.', 'Bob is an Engineer.', 'Charlie is a Doctor.', 'David is a Lawyer.', 'Eve is an Artist.']\n",
        "}\n",
        "df = pd.DataFrame(data)\n",
        "print(df)"
      ]
    },
    {
      "cell_type": "code",
      "execution_count": null,
      "id": "9efb8e59",
      "metadata": {
        "id": "9efb8e59",
        "outputId": "ebf2a0f5-8c32-4f48-cc34-b493cba9b2f7"
      },
      "outputs": [
        {
          "data": {
            "text/html": [
              "<div>\n",
              "<style scoped>\n",
              "    .dataframe tbody tr th:only-of-type {\n",
              "        vertical-align: middle;\n",
              "    }\n",
              "\n",
              "    .dataframe tbody tr th {\n",
              "        vertical-align: top;\n",
              "    }\n",
              "\n",
              "    .dataframe thead th {\n",
              "        text-align: right;\n",
              "    }\n",
              "</style>\n",
              "<table border=\"1\" class=\"dataframe\">\n",
              "  <thead>\n",
              "    <tr style=\"text-align: right;\">\n",
              "      <th></th>\n",
              "      <th>name</th>\n",
              "      <th>email</th>\n",
              "      <th>description</th>\n",
              "    </tr>\n",
              "  </thead>\n",
              "  <tbody>\n",
              "    <tr>\n",
              "      <th>0</th>\n",
              "      <td>Alice</td>\n",
              "      <td>alice@example.com</td>\n",
              "      <td>Alice is a Data Scientist.</td>\n",
              "    </tr>\n",
              "    <tr>\n",
              "      <th>1</th>\n",
              "      <td>Bob</td>\n",
              "      <td>bob@example.com</td>\n",
              "      <td>Bob is an Engineer.</td>\n",
              "    </tr>\n",
              "    <tr>\n",
              "      <th>2</th>\n",
              "      <td>Charlie</td>\n",
              "      <td>charlie@sample.net</td>\n",
              "      <td>Charlie is a Doctor.</td>\n",
              "    </tr>\n",
              "    <tr>\n",
              "      <th>3</th>\n",
              "      <td>David</td>\n",
              "      <td>david@website.org</td>\n",
              "      <td>David is a Lawyer.</td>\n",
              "    </tr>\n",
              "    <tr>\n",
              "      <th>4</th>\n",
              "      <td>Eve</td>\n",
              "      <td>eve@domain.com</td>\n",
              "      <td>Eve is an Artist.</td>\n",
              "    </tr>\n",
              "  </tbody>\n",
              "</table>\n",
              "</div>"
            ],
            "text/plain": [
              "      name               email                 description\n",
              "0    Alice   alice@example.com  Alice is a Data Scientist.\n",
              "1      Bob     bob@example.com         Bob is an Engineer.\n",
              "2  Charlie  charlie@sample.net        Charlie is a Doctor.\n",
              "3    David   david@website.org          David is a Lawyer.\n",
              "4      Eve      eve@domain.com           Eve is an Artist."
            ]
          },
          "execution_count": 9,
          "metadata": {},
          "output_type": "execute_result"
        }
      ],
      "source": [
        "df"
      ]
    },
    {
      "cell_type": "code",
      "execution_count": null,
      "id": "eb9a618b",
      "metadata": {
        "id": "eb9a618b"
      },
      "outputs": [],
      "source": [
        "## name 특정 문자를 연결할 때 name+email\n",
        "df['name+email']=df['name'].str.cat(df['email'],sep='/')"
      ]
    },
    {
      "cell_type": "code",
      "execution_count": null,
      "id": "582c20ec",
      "metadata": {
        "id": "582c20ec"
      },
      "outputs": [],
      "source": [
        "## 데이터를 나눠서 사용할 수 있다. @ 값을 기준으로 데이터 나누기\n",
        "df[['user_id','domain']]=df['email'].str.split('@', expand=True)"
      ]
    },
    {
      "cell_type": "code",
      "execution_count": null,
      "id": "0c0e3abc",
      "metadata": {
        "id": "0c0e3abc",
        "outputId": "9ce979fc-0654-4a80-bd8c-eeb8722b261f"
      },
      "outputs": [
        {
          "data": {
            "text/plain": [
              "0    A\n",
              "1    B\n",
              "2    C\n",
              "3    D\n",
              "4    E\n",
              "Name: name, dtype: object"
            ]
          },
          "execution_count": 25,
          "metadata": {},
          "output_type": "execute_result"
        }
      ],
      "source": [
        "## get함수를 이용해서 특정 위치의 값들을 가지고 올 수 있다\n",
        "df['name'].str.get(0)"
      ]
    },
    {
      "cell_type": "code",
      "execution_count": null,
      "id": "ff5b7037",
      "metadata": {
        "scrolled": true,
        "id": "ff5b7037",
        "outputId": "9c4c87ca-3da1-46a3-ef34-785c53b84fde"
      },
      "outputs": [
        {
          "data": {
            "text/plain": [
              "0    Ali\n",
              "1    Bob\n",
              "2    Cha\n",
              "3    Dav\n",
              "4    Eve\n",
              "Name: name, dtype: object"
            ]
          },
          "execution_count": 26,
          "metadata": {},
          "output_type": "execute_result"
        }
      ],
      "source": [
        "##slice 로 데이터 추출 할 수 있다.\n",
        "##원하는 데이터를 자유롭게 추출 가능하다!\n",
        "df['name'].str.slice(start=0, stop=3)"
      ]
    },
    {
      "cell_type": "code",
      "execution_count": null,
      "id": "96e6b710",
      "metadata": {
        "id": "96e6b710",
        "outputId": "e291914d-c426-48ee-f45a-e99f9ad4ad4e"
      },
      "outputs": [
        {
          "data": {
            "text/html": [
              "<div>\n",
              "<style scoped>\n",
              "    .dataframe tbody tr th:only-of-type {\n",
              "        vertical-align: middle;\n",
              "    }\n",
              "\n",
              "    .dataframe tbody tr th {\n",
              "        vertical-align: top;\n",
              "    }\n",
              "\n",
              "    .dataframe thead th {\n",
              "        text-align: right;\n",
              "    }\n",
              "</style>\n",
              "<table border=\"1\" class=\"dataframe\">\n",
              "  <thead>\n",
              "    <tr style=\"text-align: right;\">\n",
              "      <th></th>\n",
              "      <th>0</th>\n",
              "    </tr>\n",
              "  </thead>\n",
              "  <tbody>\n",
              "    <tr>\n",
              "      <th>0</th>\n",
              "      <td>example.com</td>\n",
              "    </tr>\n",
              "    <tr>\n",
              "      <th>1</th>\n",
              "      <td>example.com</td>\n",
              "    </tr>\n",
              "    <tr>\n",
              "      <th>2</th>\n",
              "      <td>sample.net</td>\n",
              "    </tr>\n",
              "    <tr>\n",
              "      <th>3</th>\n",
              "      <td>website.org</td>\n",
              "    </tr>\n",
              "    <tr>\n",
              "      <th>4</th>\n",
              "      <td>domain.com</td>\n",
              "    </tr>\n",
              "  </tbody>\n",
              "</table>\n",
              "</div>"
            ],
            "text/plain": [
              "             0\n",
              "0  example.com\n",
              "1  example.com\n",
              "2   sample.net\n",
              "3  website.org\n",
              "4   domain.com"
            ]
          },
          "execution_count": 28,
          "metadata": {},
          "output_type": "execute_result"
        }
      ],
      "source": [
        "## extract 정규표현식 추출\n",
        "\n",
        "df['email'].str.extract(r'@(\\w+\\.\\w+)')"
      ]
    },
    {
      "cell_type": "code",
      "execution_count": null,
      "id": "52644896",
      "metadata": {
        "id": "52644896",
        "outputId": "ed890cde-7953-4757-d6e6-deab371954ab"
      },
      "outputs": [
        {
          "data": {
            "text/html": [
              "<div>\n",
              "<style scoped>\n",
              "    .dataframe tbody tr th:only-of-type {\n",
              "        vertical-align: middle;\n",
              "    }\n",
              "\n",
              "    .dataframe tbody tr th {\n",
              "        vertical-align: top;\n",
              "    }\n",
              "\n",
              "    .dataframe thead th {\n",
              "        text-align: right;\n",
              "    }\n",
              "</style>\n",
              "<table border=\"1\" class=\"dataframe\">\n",
              "  <thead>\n",
              "    <tr style=\"text-align: right;\">\n",
              "      <th></th>\n",
              "      <th></th>\n",
              "      <th>0</th>\n",
              "    </tr>\n",
              "    <tr>\n",
              "      <th></th>\n",
              "      <th>match</th>\n",
              "      <th></th>\n",
              "    </tr>\n",
              "  </thead>\n",
              "  <tbody>\n",
              "    <tr>\n",
              "      <th rowspan=\"5\" valign=\"top\">0</th>\n",
              "      <th>0</th>\n",
              "      <td>Alice</td>\n",
              "    </tr>\n",
              "    <tr>\n",
              "      <th>1</th>\n",
              "      <td>is</td>\n",
              "    </tr>\n",
              "    <tr>\n",
              "      <th>2</th>\n",
              "      <td>a</td>\n",
              "    </tr>\n",
              "    <tr>\n",
              "      <th>3</th>\n",
              "      <td>Data</td>\n",
              "    </tr>\n",
              "    <tr>\n",
              "      <th>4</th>\n",
              "      <td>Scientist</td>\n",
              "    </tr>\n",
              "    <tr>\n",
              "      <th rowspan=\"4\" valign=\"top\">1</th>\n",
              "      <th>0</th>\n",
              "      <td>Bob</td>\n",
              "    </tr>\n",
              "    <tr>\n",
              "      <th>1</th>\n",
              "      <td>is</td>\n",
              "    </tr>\n",
              "    <tr>\n",
              "      <th>2</th>\n",
              "      <td>an</td>\n",
              "    </tr>\n",
              "    <tr>\n",
              "      <th>3</th>\n",
              "      <td>Engineer</td>\n",
              "    </tr>\n",
              "    <tr>\n",
              "      <th rowspan=\"4\" valign=\"top\">2</th>\n",
              "      <th>0</th>\n",
              "      <td>Charlie</td>\n",
              "    </tr>\n",
              "    <tr>\n",
              "      <th>1</th>\n",
              "      <td>is</td>\n",
              "    </tr>\n",
              "    <tr>\n",
              "      <th>2</th>\n",
              "      <td>a</td>\n",
              "    </tr>\n",
              "    <tr>\n",
              "      <th>3</th>\n",
              "      <td>Doctor</td>\n",
              "    </tr>\n",
              "    <tr>\n",
              "      <th rowspan=\"4\" valign=\"top\">3</th>\n",
              "      <th>0</th>\n",
              "      <td>David</td>\n",
              "    </tr>\n",
              "    <tr>\n",
              "      <th>1</th>\n",
              "      <td>is</td>\n",
              "    </tr>\n",
              "    <tr>\n",
              "      <th>2</th>\n",
              "      <td>a</td>\n",
              "    </tr>\n",
              "    <tr>\n",
              "      <th>3</th>\n",
              "      <td>Lawyer</td>\n",
              "    </tr>\n",
              "    <tr>\n",
              "      <th rowspan=\"4\" valign=\"top\">4</th>\n",
              "      <th>0</th>\n",
              "      <td>Eve</td>\n",
              "    </tr>\n",
              "    <tr>\n",
              "      <th>1</th>\n",
              "      <td>is</td>\n",
              "    </tr>\n",
              "    <tr>\n",
              "      <th>2</th>\n",
              "      <td>an</td>\n",
              "    </tr>\n",
              "    <tr>\n",
              "      <th>3</th>\n",
              "      <td>Artist</td>\n",
              "    </tr>\n",
              "  </tbody>\n",
              "</table>\n",
              "</div>"
            ],
            "text/plain": [
              "                 0\n",
              "  match           \n",
              "0 0          Alice\n",
              "  1             is\n",
              "  2              a\n",
              "  3           Data\n",
              "  4      Scientist\n",
              "1 0            Bob\n",
              "  1             is\n",
              "  2             an\n",
              "  3       Engineer\n",
              "2 0        Charlie\n",
              "  1             is\n",
              "  2              a\n",
              "  3         Doctor\n",
              "3 0          David\n",
              "  1             is\n",
              "  2              a\n",
              "  3         Lawyer\n",
              "4 0            Eve\n",
              "  1             is\n",
              "  2             an\n",
              "  3         Artist"
            ]
          },
          "execution_count": 32,
          "metadata": {},
          "output_type": "execute_result"
        }
      ],
      "source": [
        "df['description'].str.extractall(r'(\\w+)')"
      ]
    },
    {
      "cell_type": "code",
      "execution_count": null,
      "id": "4d70c16f",
      "metadata": {
        "id": "4d70c16f",
        "outputId": "40ede8de-d5d5-4c91-efbb-6d4d17745ad1"
      },
      "outputs": [
        {
          "data": {
            "text/plain": [
              "0    Alice are a Data Scientaret.\n",
              "1            Bob are an Engineer.\n",
              "2           Charlie are a Doctor.\n",
              "3             David are a Lawyer.\n",
              "4             Eve are an Artaret.\n",
              "Name: description, dtype: object"
            ]
          },
          "execution_count": 34,
          "metadata": {},
          "output_type": "execute_result"
        }
      ],
      "source": [
        "df['description'].str.replace('is','are')"
      ]
    },
    {
      "cell_type": "code",
      "execution_count": null,
      "id": "dd6f05ea",
      "metadata": {
        "id": "dd6f05ea",
        "outputId": "92803777-3758-4322-d78d-c795b6bd212b"
      },
      "outputs": [
        {
          "data": {
            "text/plain": [
              "0    -1\n",
              "1    -1\n",
              "2    13\n",
              "3    -1\n",
              "4    -1\n",
              "Name: description, dtype: int64"
            ]
          },
          "execution_count": 35,
          "metadata": {},
          "output_type": "execute_result"
        }
      ],
      "source": [
        "df['description'].str.find('Doctor')"
      ]
    },
    {
      "cell_type": "code",
      "execution_count": null,
      "id": "973a249f",
      "metadata": {
        "id": "973a249f",
        "outputId": "bfd3da49-7ade-4575-e089-0bb2ccda7e0f"
      },
      "outputs": [
        {
          "data": {
            "text/plain": [
              "0    False\n",
              "1    False\n",
              "2     True\n",
              "3    False\n",
              "4    False\n",
              "Name: description, dtype: bool"
            ]
          },
          "execution_count": 36,
          "metadata": {},
          "output_type": "execute_result"
        }
      ],
      "source": [
        "df['description'].str.contains('Doctor')"
      ]
    },
    {
      "cell_type": "code",
      "execution_count": null,
      "id": "b75d9304",
      "metadata": {
        "id": "b75d9304",
        "outputId": "f807b07c-2188-49a4-fdd5-08fcf9324e83"
      },
      "outputs": [
        {
          "data": {
            "text/html": [
              "<div>\n",
              "<style scoped>\n",
              "    .dataframe tbody tr th:only-of-type {\n",
              "        vertical-align: middle;\n",
              "    }\n",
              "\n",
              "    .dataframe tbody tr th {\n",
              "        vertical-align: top;\n",
              "    }\n",
              "\n",
              "    .dataframe thead th {\n",
              "        text-align: right;\n",
              "    }\n",
              "</style>\n",
              "<table border=\"1\" class=\"dataframe\">\n",
              "  <thead>\n",
              "    <tr style=\"text-align: right;\">\n",
              "      <th></th>\n",
              "      <th>name</th>\n",
              "      <th>email</th>\n",
              "      <th>description</th>\n",
              "      <th>name+email</th>\n",
              "      <th>user_id</th>\n",
              "      <th>domain</th>\n",
              "    </tr>\n",
              "  </thead>\n",
              "  <tbody>\n",
              "    <tr>\n",
              "      <th>2</th>\n",
              "      <td>Charlie</td>\n",
              "      <td>charlie@sample.net</td>\n",
              "      <td>Charlie is a Doctor.</td>\n",
              "      <td>Charlie/charlie@sample.net</td>\n",
              "      <td>charlie</td>\n",
              "      <td>sample.net</td>\n",
              "    </tr>\n",
              "  </tbody>\n",
              "</table>\n",
              "</div>"
            ],
            "text/plain": [
              "      name               email           description  \\\n",
              "2  Charlie  charlie@sample.net  Charlie is a Doctor.   \n",
              "\n",
              "                   name+email  user_id      domain  \n",
              "2  Charlie/charlie@sample.net  charlie  sample.net  "
            ]
          },
          "execution_count": 38,
          "metadata": {},
          "output_type": "execute_result"
        }
      ],
      "source": [
        "## 불린값으로 나온다~?\n",
        "\n",
        "df[df['description'].str.contains('Doctor')]"
      ]
    },
    {
      "cell_type": "code",
      "execution_count": null,
      "id": "97298228",
      "metadata": {
        "id": "97298228",
        "outputId": "ed4b80c7-cd1e-43b9-e375-43c71397cc71"
      },
      "outputs": [
        {
          "data": {
            "text/html": [
              "<div>\n",
              "<style scoped>\n",
              "    .dataframe tbody tr th:only-of-type {\n",
              "        vertical-align: middle;\n",
              "    }\n",
              "\n",
              "    .dataframe tbody tr th {\n",
              "        vertical-align: top;\n",
              "    }\n",
              "\n",
              "    .dataframe thead th {\n",
              "        text-align: right;\n",
              "    }\n",
              "</style>\n",
              "<table border=\"1\" class=\"dataframe\">\n",
              "  <thead>\n",
              "    <tr style=\"text-align: right;\">\n",
              "      <th></th>\n",
              "      <th>name</th>\n",
              "      <th>email</th>\n",
              "      <th>description</th>\n",
              "      <th>name+email</th>\n",
              "      <th>user_id</th>\n",
              "      <th>domain</th>\n",
              "    </tr>\n",
              "  </thead>\n",
              "  <tbody>\n",
              "    <tr>\n",
              "      <th>2</th>\n",
              "      <td>Charlie</td>\n",
              "      <td>charlie@sample.net</td>\n",
              "      <td>Charlie is a Doctor.</td>\n",
              "      <td>Charlie/charlie@sample.net</td>\n",
              "      <td>charlie</td>\n",
              "      <td>sample.net</td>\n",
              "    </tr>\n",
              "    <tr>\n",
              "      <th>4</th>\n",
              "      <td>Eve</td>\n",
              "      <td>eve@domain.com</td>\n",
              "      <td>Eve is an Artist.</td>\n",
              "      <td>Eve/eve@domain.com</td>\n",
              "      <td>eve</td>\n",
              "      <td>domain.com</td>\n",
              "    </tr>\n",
              "  </tbody>\n",
              "</table>\n",
              "</div>"
            ],
            "text/plain": [
              "      name               email           description  \\\n",
              "2  Charlie  charlie@sample.net  Charlie is a Doctor.   \n",
              "4      Eve      eve@domain.com     Eve is an Artist.   \n",
              "\n",
              "                   name+email  user_id      domain  \n",
              "2  Charlie/charlie@sample.net  charlie  sample.net  \n",
              "4          Eve/eve@domain.com      eve  domain.com  "
            ]
          },
          "execution_count": 44,
          "metadata": {},
          "output_type": "execute_result"
        }
      ],
      "source": [
        "#description 에서 Doctor, Artist\n",
        "# df[()&()|()] 감싸서 들어가야 한다!\n",
        "df[(df['description'].str.contains('Doctor')) | (df['description'].str.contains('Artist'))]"
      ]
    },
    {
      "cell_type": "markdown",
      "id": "e49ab7a1",
      "metadata": {
        "id": "e49ab7a1"
      },
      "source": [
        "- 문자열 데이터를 수치로 변환\n",
        "- 인코딩 작업"
      ]
    },
    {
      "cell_type": "code",
      "execution_count": null,
      "id": "b5682e95",
      "metadata": {
        "id": "b5682e95",
        "outputId": "a9147a36-b4a3-4796-e284-b2c99fedbc6e"
      },
      "outputs": [
        {
          "data": {
            "text/html": [
              "<div>\n",
              "<style scoped>\n",
              "    .dataframe tbody tr th:only-of-type {\n",
              "        vertical-align: middle;\n",
              "    }\n",
              "\n",
              "    .dataframe tbody tr th {\n",
              "        vertical-align: top;\n",
              "    }\n",
              "\n",
              "    .dataframe thead th {\n",
              "        text-align: right;\n",
              "    }\n",
              "</style>\n",
              "<table border=\"1\" class=\"dataframe\">\n",
              "  <thead>\n",
              "    <tr style=\"text-align: right;\">\n",
              "      <th></th>\n",
              "      <th>domain.com</th>\n",
              "      <th>example.com</th>\n",
              "      <th>sample.net</th>\n",
              "      <th>website.org</th>\n",
              "    </tr>\n",
              "  </thead>\n",
              "  <tbody>\n",
              "    <tr>\n",
              "      <th>0</th>\n",
              "      <td>0</td>\n",
              "      <td>1</td>\n",
              "      <td>0</td>\n",
              "      <td>0</td>\n",
              "    </tr>\n",
              "    <tr>\n",
              "      <th>1</th>\n",
              "      <td>0</td>\n",
              "      <td>1</td>\n",
              "      <td>0</td>\n",
              "      <td>0</td>\n",
              "    </tr>\n",
              "    <tr>\n",
              "      <th>2</th>\n",
              "      <td>0</td>\n",
              "      <td>0</td>\n",
              "      <td>1</td>\n",
              "      <td>0</td>\n",
              "    </tr>\n",
              "    <tr>\n",
              "      <th>3</th>\n",
              "      <td>0</td>\n",
              "      <td>0</td>\n",
              "      <td>0</td>\n",
              "      <td>1</td>\n",
              "    </tr>\n",
              "    <tr>\n",
              "      <th>4</th>\n",
              "      <td>1</td>\n",
              "      <td>0</td>\n",
              "      <td>0</td>\n",
              "      <td>0</td>\n",
              "    </tr>\n",
              "  </tbody>\n",
              "</table>\n",
              "</div>"
            ],
            "text/plain": [
              "   domain.com  example.com  sample.net  website.org\n",
              "0           0            1           0            0\n",
              "1           0            1           0            0\n",
              "2           0            0           1            0\n",
              "3           0            0           0            1\n",
              "4           1            0           0            0"
            ]
          },
          "execution_count": 47,
          "metadata": {},
          "output_type": "execute_result"
        }
      ],
      "source": [
        "#One-hot encoding 작업\n",
        "df['domain'].str.get_dummies()"
      ]
    },
    {
      "cell_type": "code",
      "execution_count": null,
      "id": "4303748e",
      "metadata": {
        "id": "4303748e",
        "outputId": "ad995fa0-992c-4c34-800d-f271a1c16d9c"
      },
      "outputs": [
        {
          "data": {
            "text/html": [
              "<div>\n",
              "<style scoped>\n",
              "    .dataframe tbody tr th:only-of-type {\n",
              "        vertical-align: middle;\n",
              "    }\n",
              "\n",
              "    .dataframe tbody tr th {\n",
              "        vertical-align: top;\n",
              "    }\n",
              "\n",
              "    .dataframe thead th {\n",
              "        text-align: right;\n",
              "    }\n",
              "</style>\n",
              "<table border=\"1\" class=\"dataframe\">\n",
              "  <thead>\n",
              "    <tr style=\"text-align: right;\">\n",
              "      <th></th>\n",
              "      <th>name</th>\n",
              "      <th>email</th>\n",
              "      <th>description</th>\n",
              "      <th>name+email</th>\n",
              "      <th>user_id</th>\n",
              "      <th>domain</th>\n",
              "    </tr>\n",
              "  </thead>\n",
              "  <tbody>\n",
              "    <tr>\n",
              "      <th>0</th>\n",
              "      <td>Alice</td>\n",
              "      <td>alice@example.com</td>\n",
              "      <td>Alice is a Data Scientist.</td>\n",
              "      <td>Alice/alice@example.com</td>\n",
              "      <td>alice</td>\n",
              "      <td>example.com</td>\n",
              "    </tr>\n",
              "    <tr>\n",
              "      <th>1</th>\n",
              "      <td>Bob</td>\n",
              "      <td>bob@example.com</td>\n",
              "      <td>Bob is an Engineer.</td>\n",
              "      <td>Bob/bob@example.com</td>\n",
              "      <td>bob</td>\n",
              "      <td>example.com</td>\n",
              "    </tr>\n",
              "    <tr>\n",
              "      <th>2</th>\n",
              "      <td>Charlie</td>\n",
              "      <td>charlie@sample.net</td>\n",
              "      <td>Charlie is a Doctor.</td>\n",
              "      <td>Charlie/charlie@sample.net</td>\n",
              "      <td>charlie</td>\n",
              "      <td>sample.net</td>\n",
              "    </tr>\n",
              "    <tr>\n",
              "      <th>3</th>\n",
              "      <td>David</td>\n",
              "      <td>david@website.org</td>\n",
              "      <td>David is a Lawyer.</td>\n",
              "      <td>David/david@website.org</td>\n",
              "      <td>david</td>\n",
              "      <td>website.org</td>\n",
              "    </tr>\n",
              "    <tr>\n",
              "      <th>4</th>\n",
              "      <td>Eve</td>\n",
              "      <td>eve@domain.com</td>\n",
              "      <td>Eve is an Artist.</td>\n",
              "      <td>Eve/eve@domain.com</td>\n",
              "      <td>eve</td>\n",
              "      <td>domain.com</td>\n",
              "    </tr>\n",
              "  </tbody>\n",
              "</table>\n",
              "</div>"
            ],
            "text/plain": [
              "      name               email                 description  \\\n",
              "0    Alice   alice@example.com  Alice is a Data Scientist.   \n",
              "1      Bob     bob@example.com         Bob is an Engineer.   \n",
              "2  Charlie  charlie@sample.net        Charlie is a Doctor.   \n",
              "3    David   david@website.org          David is a Lawyer.   \n",
              "4      Eve      eve@domain.com           Eve is an Artist.   \n",
              "\n",
              "                   name+email  user_id       domain  \n",
              "0     Alice/alice@example.com    alice  example.com  \n",
              "1         Bob/bob@example.com      bob  example.com  \n",
              "2  Charlie/charlie@sample.net  charlie   sample.net  \n",
              "3     David/david@website.org    david  website.org  \n",
              "4          Eve/eve@domain.com      eve   domain.com  "
            ]
          },
          "execution_count": 48,
          "metadata": {},
          "output_type": "execute_result"
        }
      ],
      "source": [
        "df"
      ]
    },
    {
      "cell_type": "code",
      "execution_count": null,
      "id": "29e4a248",
      "metadata": {
        "id": "29e4a248",
        "outputId": "837e1642-05af-44cd-ad88-0e3760d74471"
      },
      "outputs": [
        {
          "ename": "AttributeError",
          "evalue": "'DataFrame' object has no attribute 'str'",
          "output_type": "error",
          "traceback": [
            "\u001b[0;31m---------------------------------------------------------------------------\u001b[0m",
            "\u001b[0;31mAttributeError\u001b[0m                            Traceback (most recent call last)",
            "Cell \u001b[0;32mIn[50], line 1\u001b[0m\n\u001b[0;32m----> 1\u001b[0m \u001b[43mdf\u001b[49m\u001b[43m[\u001b[49m\u001b[43m[\u001b[49m\u001b[38;5;124;43m'\u001b[39;49m\u001b[38;5;124;43mdomain\u001b[39;49m\u001b[38;5;124;43m'\u001b[39;49m\u001b[43m,\u001b[49m\u001b[38;5;124;43m'\u001b[39;49m\u001b[38;5;124;43muser_id\u001b[39;49m\u001b[38;5;124;43m'\u001b[39;49m\u001b[43m]\u001b[49m\u001b[43m]\u001b[49m\u001b[38;5;241;43m.\u001b[39;49m\u001b[43mstr\u001b[49m\u001b[38;5;241m.\u001b[39mget_dummies()\n",
            "File \u001b[0;32m/opt/anaconda3/envs/bda/lib/python3.8/site-packages/pandas/core/generic.py:5989\u001b[0m, in \u001b[0;36mNDFrame.__getattr__\u001b[0;34m(self, name)\u001b[0m\n\u001b[1;32m   5982\u001b[0m \u001b[38;5;28;01mif\u001b[39;00m (\n\u001b[1;32m   5983\u001b[0m     name \u001b[38;5;129;01mnot\u001b[39;00m \u001b[38;5;129;01min\u001b[39;00m \u001b[38;5;28mself\u001b[39m\u001b[38;5;241m.\u001b[39m_internal_names_set\n\u001b[1;32m   5984\u001b[0m     \u001b[38;5;129;01mand\u001b[39;00m name \u001b[38;5;129;01mnot\u001b[39;00m \u001b[38;5;129;01min\u001b[39;00m \u001b[38;5;28mself\u001b[39m\u001b[38;5;241m.\u001b[39m_metadata\n\u001b[1;32m   5985\u001b[0m     \u001b[38;5;129;01mand\u001b[39;00m name \u001b[38;5;129;01mnot\u001b[39;00m \u001b[38;5;129;01min\u001b[39;00m \u001b[38;5;28mself\u001b[39m\u001b[38;5;241m.\u001b[39m_accessors\n\u001b[1;32m   5986\u001b[0m     \u001b[38;5;129;01mand\u001b[39;00m \u001b[38;5;28mself\u001b[39m\u001b[38;5;241m.\u001b[39m_info_axis\u001b[38;5;241m.\u001b[39m_can_hold_identifiers_and_holds_name(name)\n\u001b[1;32m   5987\u001b[0m ):\n\u001b[1;32m   5988\u001b[0m     \u001b[38;5;28;01mreturn\u001b[39;00m \u001b[38;5;28mself\u001b[39m[name]\n\u001b[0;32m-> 5989\u001b[0m \u001b[38;5;28;01mreturn\u001b[39;00m \u001b[38;5;28;43mobject\u001b[39;49m\u001b[38;5;241;43m.\u001b[39;49m\u001b[38;5;21;43m__getattribute__\u001b[39;49m\u001b[43m(\u001b[49m\u001b[38;5;28;43mself\u001b[39;49m\u001b[43m,\u001b[49m\u001b[43m \u001b[49m\u001b[43mname\u001b[49m\u001b[43m)\u001b[49m\n",
            "\u001b[0;31mAttributeError\u001b[0m: 'DataFrame' object has no attribute 'str'"
          ]
        }
      ],
      "source": [
        "df[['domain','user_id']].str.get_dummies() ## 데이터프레임은 제공하지 않는다.\n",
        "# 시리즈로 꼭 변환해서 str 문법을 사용해야 한다."
      ]
    },
    {
      "cell_type": "code",
      "execution_count": null,
      "id": "5b4121b6",
      "metadata": {
        "id": "5b4121b6"
      },
      "outputs": [],
      "source": [
        "# 시리즈에 맞게 문법 코드를 작성해야 한다.\n",
        "#df[df[['description','user_id']].str.contains('Doctor')]"
      ]
    },
    {
      "cell_type": "code",
      "execution_count": null,
      "id": "61e22984",
      "metadata": {
        "id": "61e22984"
      },
      "outputs": [],
      "source": [
        "#영화 리뷰 데이터로 분석해 보기!\n",
        "df=pd.read_csv('movie_rv.csv')"
      ]
    },
    {
      "cell_type": "code",
      "execution_count": null,
      "id": "ba45e46a",
      "metadata": {
        "id": "ba45e46a",
        "outputId": "248055b3-0549-4292-d5f8-7b13752bb7db"
      },
      "outputs": [
        {
          "data": {
            "text/html": [
              "<div>\n",
              "<style scoped>\n",
              "    .dataframe tbody tr th:only-of-type {\n",
              "        vertical-align: middle;\n",
              "    }\n",
              "\n",
              "    .dataframe tbody tr th {\n",
              "        vertical-align: top;\n",
              "    }\n",
              "\n",
              "    .dataframe thead th {\n",
              "        text-align: right;\n",
              "    }\n",
              "</style>\n",
              "<table border=\"1\" class=\"dataframe\">\n",
              "  <thead>\n",
              "    <tr style=\"text-align: right;\">\n",
              "      <th></th>\n",
              "      <th>0</th>\n",
              "      <th>1</th>\n",
              "    </tr>\n",
              "  </thead>\n",
              "  <tbody>\n",
              "    <tr>\n",
              "      <th>0</th>\n",
              "      <td>아</td>\n",
              "      <td>더빙.. 진짜 짜증나네요 목소리</td>\n",
              "    </tr>\n",
              "    <tr>\n",
              "      <th>1</th>\n",
              "      <td>흠...포스터보고</td>\n",
              "      <td>초딩영화줄....오버연기조차 가볍지 않구나</td>\n",
              "    </tr>\n",
              "    <tr>\n",
              "      <th>2</th>\n",
              "      <td>너무재밓었다그래서보는것을추천한다</td>\n",
              "      <td>None</td>\n",
              "    </tr>\n",
              "    <tr>\n",
              "      <th>3</th>\n",
              "      <td>교도소</td>\n",
              "      <td>이야기구먼 ..솔직히 재미는 없다..평점 조정</td>\n",
              "    </tr>\n",
              "    <tr>\n",
              "      <th>4</th>\n",
              "      <td>사이몬페그의</td>\n",
              "      <td>익살스런 연기가 돋보였던 영화!스파이더맨에서 늙어보이기만 했던 커스틴 던스트가 너무...</td>\n",
              "    </tr>\n",
              "    <tr>\n",
              "      <th>...</th>\n",
              "      <td>...</td>\n",
              "      <td>...</td>\n",
              "    </tr>\n",
              "    <tr>\n",
              "      <th>149995</th>\n",
              "      <td>인간이</td>\n",
              "      <td>문제지.. 소는 뭔죄인가..</td>\n",
              "    </tr>\n",
              "    <tr>\n",
              "      <th>149996</th>\n",
              "      <td>평점이</td>\n",
              "      <td>너무 낮아서...</td>\n",
              "    </tr>\n",
              "    <tr>\n",
              "      <th>149997</th>\n",
              "      <td>이게</td>\n",
              "      <td>뭐요? 한국인은 거들먹거리고 필리핀 혼혈은 착하다?</td>\n",
              "    </tr>\n",
              "    <tr>\n",
              "      <th>149998</th>\n",
              "      <td>청춘</td>\n",
              "      <td>영화의 최고봉.방황과 우울했던 날들의 자화상</td>\n",
              "    </tr>\n",
              "    <tr>\n",
              "      <th>149999</th>\n",
              "      <td>한국</td>\n",
              "      <td>영화 최초로 수간하는 내용이 담긴 영화</td>\n",
              "    </tr>\n",
              "  </tbody>\n",
              "</table>\n",
              "<p>150000 rows × 2 columns</p>\n",
              "</div>"
            ],
            "text/plain": [
              "                        0                                                  1\n",
              "0                       아                                  더빙.. 진짜 짜증나네요 목소리\n",
              "1               흠...포스터보고                            초딩영화줄....오버연기조차 가볍지 않구나\n",
              "2       너무재밓었다그래서보는것을추천한다                                               None\n",
              "3                     교도소                          이야기구먼 ..솔직히 재미는 없다..평점 조정\n",
              "4                  사이몬페그의  익살스런 연기가 돋보였던 영화!스파이더맨에서 늙어보이기만 했던 커스틴 던스트가 너무...\n",
              "...                   ...                                                ...\n",
              "149995                인간이                                    문제지.. 소는 뭔죄인가..\n",
              "149996                평점이                                          너무 낮아서...\n",
              "149997                 이게                       뭐요? 한국인은 거들먹거리고 필리핀 혼혈은 착하다?\n",
              "149998                 청춘                           영화의 최고봉.방황과 우울했던 날들의 자화상\n",
              "149999                 한국                              영화 최초로 수간하는 내용이 담긴 영화\n",
              "\n",
              "[150000 rows x 2 columns]"
            ]
          },
          "execution_count": 57,
          "metadata": {},
          "output_type": "execute_result"
        }
      ],
      "source": [
        "df['document'].str.split(' ', n=1, expand=True)"
      ]
    },
    {
      "cell_type": "code",
      "execution_count": null,
      "id": "d9bb4b22",
      "metadata": {
        "id": "d9bb4b22",
        "outputId": "cf626086-2bf2-4b09-f56c-4d20fe92f59c"
      },
      "outputs": [
        {
          "data": {
            "text/html": [
              "<div>\n",
              "<style scoped>\n",
              "    .dataframe tbody tr th:only-of-type {\n",
              "        vertical-align: middle;\n",
              "    }\n",
              "\n",
              "    .dataframe tbody tr th {\n",
              "        vertical-align: top;\n",
              "    }\n",
              "\n",
              "    .dataframe thead th {\n",
              "        text-align: right;\n",
              "    }\n",
              "</style>\n",
              "<table border=\"1\" class=\"dataframe\">\n",
              "  <thead>\n",
              "    <tr style=\"text-align: right;\">\n",
              "      <th></th>\n",
              "      <th>0</th>\n",
              "      <th>1</th>\n",
              "      <th>2</th>\n",
              "      <th>3</th>\n",
              "    </tr>\n",
              "  </thead>\n",
              "  <tbody>\n",
              "    <tr>\n",
              "      <th>0</th>\n",
              "      <td>아</td>\n",
              "      <td>더빙..</td>\n",
              "      <td>진짜</td>\n",
              "      <td>짜증나네요 목소리</td>\n",
              "    </tr>\n",
              "    <tr>\n",
              "      <th>1</th>\n",
              "      <td>흠...포스터보고</td>\n",
              "      <td>초딩영화줄....오버연기조차</td>\n",
              "      <td>가볍지</td>\n",
              "      <td>않구나</td>\n",
              "    </tr>\n",
              "    <tr>\n",
              "      <th>2</th>\n",
              "      <td>너무재밓었다그래서보는것을추천한다</td>\n",
              "      <td>None</td>\n",
              "      <td>None</td>\n",
              "      <td>None</td>\n",
              "    </tr>\n",
              "    <tr>\n",
              "      <th>3</th>\n",
              "      <td>교도소</td>\n",
              "      <td>이야기구먼</td>\n",
              "      <td>..솔직히</td>\n",
              "      <td>재미는 없다..평점 조정</td>\n",
              "    </tr>\n",
              "    <tr>\n",
              "      <th>4</th>\n",
              "      <td>사이몬페그의</td>\n",
              "      <td>익살스런</td>\n",
              "      <td>연기가</td>\n",
              "      <td>돋보였던 영화!스파이더맨에서 늙어보이기만 했던 커스틴 던스트가 너무나도 이뻐보였다</td>\n",
              "    </tr>\n",
              "    <tr>\n",
              "      <th>...</th>\n",
              "      <td>...</td>\n",
              "      <td>...</td>\n",
              "      <td>...</td>\n",
              "      <td>...</td>\n",
              "    </tr>\n",
              "    <tr>\n",
              "      <th>149995</th>\n",
              "      <td>인간이</td>\n",
              "      <td>문제지..</td>\n",
              "      <td>소는</td>\n",
              "      <td>뭔죄인가..</td>\n",
              "    </tr>\n",
              "    <tr>\n",
              "      <th>149996</th>\n",
              "      <td>평점이</td>\n",
              "      <td>너무</td>\n",
              "      <td>낮아서...</td>\n",
              "      <td>None</td>\n",
              "    </tr>\n",
              "    <tr>\n",
              "      <th>149997</th>\n",
              "      <td>이게</td>\n",
              "      <td>뭐요?</td>\n",
              "      <td>한국인은</td>\n",
              "      <td>거들먹거리고 필리핀 혼혈은 착하다?</td>\n",
              "    </tr>\n",
              "    <tr>\n",
              "      <th>149998</th>\n",
              "      <td>청춘</td>\n",
              "      <td>영화의</td>\n",
              "      <td>최고봉.방황과</td>\n",
              "      <td>우울했던 날들의 자화상</td>\n",
              "    </tr>\n",
              "    <tr>\n",
              "      <th>149999</th>\n",
              "      <td>한국</td>\n",
              "      <td>영화</td>\n",
              "      <td>최초로</td>\n",
              "      <td>수간하는 내용이 담긴 영화</td>\n",
              "    </tr>\n",
              "  </tbody>\n",
              "</table>\n",
              "<p>150000 rows × 4 columns</p>\n",
              "</div>"
            ],
            "text/plain": [
              "                        0                1        2  \\\n",
              "0                       아             더빙..       진짜   \n",
              "1               흠...포스터보고  초딩영화줄....오버연기조차      가볍지   \n",
              "2       너무재밓었다그래서보는것을추천한다             None     None   \n",
              "3                     교도소            이야기구먼    ..솔직히   \n",
              "4                  사이몬페그의             익살스런      연기가   \n",
              "...                   ...              ...      ...   \n",
              "149995                인간이            문제지..       소는   \n",
              "149996                평점이               너무   낮아서...   \n",
              "149997                 이게              뭐요?     한국인은   \n",
              "149998                 청춘              영화의  최고봉.방황과   \n",
              "149999                 한국               영화      최초로   \n",
              "\n",
              "                                                    3  \n",
              "0                                           짜증나네요 목소리  \n",
              "1                                                 않구나  \n",
              "2                                                None  \n",
              "3                                       재미는 없다..평점 조정  \n",
              "4       돋보였던 영화!스파이더맨에서 늙어보이기만 했던 커스틴 던스트가 너무나도 이뻐보였다  \n",
              "...                                               ...  \n",
              "149995                                         뭔죄인가..  \n",
              "149996                                           None  \n",
              "149997                            거들먹거리고 필리핀 혼혈은 착하다?  \n",
              "149998                                   우울했던 날들의 자화상  \n",
              "149999                                 수간하는 내용이 담긴 영화  \n",
              "\n",
              "[150000 rows x 4 columns]"
            ]
          },
          "execution_count": 58,
          "metadata": {},
          "output_type": "execute_result"
        }
      ],
      "source": [
        "df['document'].str.split(' ', n=3, expand=True)"
      ]
    },
    {
      "cell_type": "code",
      "execution_count": null,
      "id": "33c4bb18",
      "metadata": {
        "id": "33c4bb18",
        "outputId": "70d04715-e524-4a60-add7-3d116b0fdd0b"
      },
      "outputs": [
        {
          "data": {
            "text/plain": [
              "[[],\n",
              " [],\n",
              " [],\n",
              " [],\n",
              " [],\n",
              " [],\n",
              " [],\n",
              " [],\n",
              " [],\n",
              " [],\n",
              " [],\n",
              " [],\n",
              " [],\n",
              " [],\n",
              " [],\n",
              " [],\n",
              " [],\n",
              " [],\n",
              " [],\n",
              " [],\n",
              " [],\n",
              " [],\n",
              " [],\n",
              " [],\n",
              " [],\n",
              " [],\n",
              " [],\n",
              " [],\n",
              " [],\n",
              " [],\n",
              " [],\n",
              " [],\n",
              " [],\n",
              " [],\n",
              " ['최고'],\n",
              " [],\n",
              " [],\n",
              " [],\n",
              " [],\n",
              " [],\n",
              " [],\n",
              " [],\n",
              " [],\n",
              " [],\n",
              " [],\n",
              " [],\n",
              " [],\n",
              " [],\n",
              " [],\n",
              " [],\n",
              " [],\n",
              " [],\n",
              " [],\n",
              " [],\n",
              " [],\n",
              " [],\n",
              " ['최고'],\n",
              " [],\n",
              " [],\n",
              " [],\n",
              " [],\n",
              " [],\n",
              " [],\n",
              " [],\n",
              " ['최고'],\n",
              " [],\n",
              " [],\n",
              " [],\n",
              " [],\n",
              " [],\n",
              " [],\n",
              " [],\n",
              " [],\n",
              " [],\n",
              " [],\n",
              " [],\n",
              " [],\n",
              " [],\n",
              " [],\n",
              " [],\n",
              " [],\n",
              " ['최고'],\n",
              " [],\n",
              " [],\n",
              " [],\n",
              " ['최고'],\n",
              " [],\n",
              " [],\n",
              " [],\n",
              " [],\n",
              " [],\n",
              " [],\n",
              " [],\n",
              " [],\n",
              " [],\n",
              " [],\n",
              " [],\n",
              " [],\n",
              " [],\n",
              " [],\n",
              " [],\n",
              " [],\n",
              " [],\n",
              " [],\n",
              " [],\n",
              " [],\n",
              " [],\n",
              " [],\n",
              " [],\n",
              " [],\n",
              " [],\n",
              " [],\n",
              " [],\n",
              " [],\n",
              " [],\n",
              " [],\n",
              " [],\n",
              " [],\n",
              " [],\n",
              " [],\n",
              " [],\n",
              " [],\n",
              " [],\n",
              " [],\n",
              " [],\n",
              " [],\n",
              " [],\n",
              " [],\n",
              " [],\n",
              " [],\n",
              " [],\n",
              " [],\n",
              " [],\n",
              " [],\n",
              " [],\n",
              " [],\n",
              " [],\n",
              " [],\n",
              " [],\n",
              " [],\n",
              " [],\n",
              " [],\n",
              " [],\n",
              " [],\n",
              " [],\n",
              " [],\n",
              " ['최고'],\n",
              " [],\n",
              " [],\n",
              " [],\n",
              " [],\n",
              " [],\n",
              " [],\n",
              " [],\n",
              " [],\n",
              " [],\n",
              " [],\n",
              " [],\n",
              " [],\n",
              " [],\n",
              " [],\n",
              " [],\n",
              " [],\n",
              " [],\n",
              " [],\n",
              " [],\n",
              " [],\n",
              " [],\n",
              " [],\n",
              " [],\n",
              " [],\n",
              " [],\n",
              " [],\n",
              " [],\n",
              " [],\n",
              " [],\n",
              " [],\n",
              " [],\n",
              " [],\n",
              " [],\n",
              " [],\n",
              " ['최고'],\n",
              " [],\n",
              " [],\n",
              " [],\n",
              " [],\n",
              " [],\n",
              " [],\n",
              " [],\n",
              " [],\n",
              " ['최고'],\n",
              " [],\n",
              " [],\n",
              " [],\n",
              " [],\n",
              " [],\n",
              " [],\n",
              " [],\n",
              " [],\n",
              " [],\n",
              " ['최고'],\n",
              " [],\n",
              " [],\n",
              " [],\n",
              " [],\n",
              " [],\n",
              " [],\n",
              " [],\n",
              " [],\n",
              " [],\n",
              " [],\n",
              " [],\n",
              " [],\n",
              " ['최고'],\n",
              " [],\n",
              " [],\n",
              " [],\n",
              " [],\n",
              " [],\n",
              " [],\n",
              " [],\n",
              " [],\n",
              " [],\n",
              " [],\n",
              " [],\n",
              " [],\n",
              " [],\n",
              " [],\n",
              " [],\n",
              " [],\n",
              " [],\n",
              " [],\n",
              " [],\n",
              " [],\n",
              " [],\n",
              " [],\n",
              " [],\n",
              " [],\n",
              " [],\n",
              " [],\n",
              " [],\n",
              " [],\n",
              " [],\n",
              " [],\n",
              " [],\n",
              " [],\n",
              " [],\n",
              " [],\n",
              " [],\n",
              " [],\n",
              " [],\n",
              " [],\n",
              " [],\n",
              " [],\n",
              " [],\n",
              " [],\n",
              " [],\n",
              " [],\n",
              " [],\n",
              " [],\n",
              " [],\n",
              " [],\n",
              " [],\n",
              " [],\n",
              " [],\n",
              " [],\n",
              " [],\n",
              " [],\n",
              " [],\n",
              " [],\n",
              " [],\n",
              " [],\n",
              " [],\n",
              " [],\n",
              " [],\n",
              " [],\n",
              " [],\n",
              " [],\n",
              " [],\n",
              " [],\n",
              " [],\n",
              " [],\n",
              " [],\n",
              " [],\n",
              " [],\n",
              " [],\n",
              " [],\n",
              " [],\n",
              " [],\n",
              " [],\n",
              " [],\n",
              " [],\n",
              " [],\n",
              " [],\n",
              " [],\n",
              " [],\n",
              " [],\n",
              " [],\n",
              " [],\n",
              " [],\n",
              " [],\n",
              " [],\n",
              " [],\n",
              " [],\n",
              " [],\n",
              " ['최고'],\n",
              " [],\n",
              " [],\n",
              " [],\n",
              " [],\n",
              " [],\n",
              " [],\n",
              " [],\n",
              " [],\n",
              " [],\n",
              " [],\n",
              " [],\n",
              " [],\n",
              " [],\n",
              " [],\n",
              " [],\n",
              " [],\n",
              " [],\n",
              " [],\n",
              " [],\n",
              " [],\n",
              " [],\n",
              " [],\n",
              " [],\n",
              " [],\n",
              " [],\n",
              " [],\n",
              " [],\n",
              " [],\n",
              " [],\n",
              " [],\n",
              " [],\n",
              " ['최고'],\n",
              " [],\n",
              " [],\n",
              " [],\n",
              " [],\n",
              " [],\n",
              " [],\n",
              " [],\n",
              " [],\n",
              " [],\n",
              " ['최고'],\n",
              " [],\n",
              " [],\n",
              " [],\n",
              " [],\n",
              " [],\n",
              " [],\n",
              " [],\n",
              " [],\n",
              " [],\n",
              " [],\n",
              " [],\n",
              " [],\n",
              " [],\n",
              " [],\n",
              " ['최고', '최고'],\n",
              " [],\n",
              " [],\n",
              " [],\n",
              " [],\n",
              " [],\n",
              " ['최고'],\n",
              " [],\n",
              " [],\n",
              " [],\n",
              " [],\n",
              " [],\n",
              " [],\n",
              " [],\n",
              " [],\n",
              " [],\n",
              " [],\n",
              " [],\n",
              " [],\n",
              " [],\n",
              " [],\n",
              " [],\n",
              " [],\n",
              " [],\n",
              " [],\n",
              " [],\n",
              " [],\n",
              " [],\n",
              " [],\n",
              " [],\n",
              " [],\n",
              " [],\n",
              " ['최고'],\n",
              " [],\n",
              " [],\n",
              " [],\n",
              " [],\n",
              " [],\n",
              " [],\n",
              " [],\n",
              " [],\n",
              " [],\n",
              " [],\n",
              " [],\n",
              " [],\n",
              " [],\n",
              " [],\n",
              " [],\n",
              " [],\n",
              " [],\n",
              " [],\n",
              " [],\n",
              " ['최고'],\n",
              " [],\n",
              " [],\n",
              " [],\n",
              " ['최고'],\n",
              " [],\n",
              " [],\n",
              " [],\n",
              " [],\n",
              " [],\n",
              " [],\n",
              " [],\n",
              " [],\n",
              " [],\n",
              " [],\n",
              " [],\n",
              " [],\n",
              " [],\n",
              " [],\n",
              " [],\n",
              " [],\n",
              " ['최고'],\n",
              " [],\n",
              " [],\n",
              " [],\n",
              " [],\n",
              " [],\n",
              " [],\n",
              " [],\n",
              " [],\n",
              " [],\n",
              " [],\n",
              " [],\n",
              " [],\n",
              " [],\n",
              " [],\n",
              " [],\n",
              " [],\n",
              " [],\n",
              " [],\n",
              " [],\n",
              " [],\n",
              " [],\n",
              " [],\n",
              " [],\n",
              " [],\n",
              " [],\n",
              " [],\n",
              " [],\n",
              " [],\n",
              " [],\n",
              " [],\n",
              " [],\n",
              " [],\n",
              " ['최고'],\n",
              " [],\n",
              " [],\n",
              " [],\n",
              " [],\n",
              " [],\n",
              " [],\n",
              " [],\n",
              " [],\n",
              " [],\n",
              " [],\n",
              " [],\n",
              " [],\n",
              " [],\n",
              " [],\n",
              " [],\n",
              " ['최고'],\n",
              " [],\n",
              " ['최고', '최고'],\n",
              " [],\n",
              " [],\n",
              " [],\n",
              " [],\n",
              " [],\n",
              " [],\n",
              " [],\n",
              " [],\n",
              " [],\n",
              " [],\n",
              " [],\n",
              " [],\n",
              " [],\n",
              " [],\n",
              " [],\n",
              " [],\n",
              " [],\n",
              " [],\n",
              " [],\n",
              " [],\n",
              " [],\n",
              " [],\n",
              " [],\n",
              " [],\n",
              " [],\n",
              " [],\n",
              " [],\n",
              " [],\n",
              " [],\n",
              " [],\n",
              " ['최고'],\n",
              " [],\n",
              " [],\n",
              " [],\n",
              " [],\n",
              " [],\n",
              " [],\n",
              " [],\n",
              " [],\n",
              " [],\n",
              " [],\n",
              " [],\n",
              " [],\n",
              " [],\n",
              " [],\n",
              " [],\n",
              " [],\n",
              " [],\n",
              " ['최고'],\n",
              " [],\n",
              " [],\n",
              " [],\n",
              " [],\n",
              " [],\n",
              " [],\n",
              " [],\n",
              " [],\n",
              " [],\n",
              " [],\n",
              " [],\n",
              " [],\n",
              " ['최고'],\n",
              " [],\n",
              " [],\n",
              " [],\n",
              " [],\n",
              " [],\n",
              " [],\n",
              " [],\n",
              " [],\n",
              " [],\n",
              " ['최고', '최고'],\n",
              " [],\n",
              " [],\n",
              " [],\n",
              " [],\n",
              " [],\n",
              " [],\n",
              " [],\n",
              " [],\n",
              " [],\n",
              " [],\n",
              " [],\n",
              " [],\n",
              " [],\n",
              " [],\n",
              " [],\n",
              " [],\n",
              " [],\n",
              " [],\n",
              " [],\n",
              " [],\n",
              " [],\n",
              " [],\n",
              " [],\n",
              " [],\n",
              " [],\n",
              " [],\n",
              " [],\n",
              " [],\n",
              " ['최고'],\n",
              " [],\n",
              " [],\n",
              " [],\n",
              " [],\n",
              " [],\n",
              " [],\n",
              " [],\n",
              " [],\n",
              " [],\n",
              " [],\n",
              " [],\n",
              " [],\n",
              " [],\n",
              " ['최고'],\n",
              " ['최고'],\n",
              " [],\n",
              " [],\n",
              " [],\n",
              " [],\n",
              " [],\n",
              " [],\n",
              " [],\n",
              " [],\n",
              " [],\n",
              " [],\n",
              " [],\n",
              " ['최고'],\n",
              " [],\n",
              " [],\n",
              " [],\n",
              " [],\n",
              " [],\n",
              " [],\n",
              " [],\n",
              " [],\n",
              " ['최고'],\n",
              " [],\n",
              " [],\n",
              " [],\n",
              " [],\n",
              " [],\n",
              " [],\n",
              " [],\n",
              " [],\n",
              " [],\n",
              " [],\n",
              " [],\n",
              " [],\n",
              " [],\n",
              " [],\n",
              " [],\n",
              " [],\n",
              " [],\n",
              " [],\n",
              " [],\n",
              " [],\n",
              " [],\n",
              " [],\n",
              " [],\n",
              " [],\n",
              " [],\n",
              " [],\n",
              " [],\n",
              " [],\n",
              " [],\n",
              " [],\n",
              " [],\n",
              " [],\n",
              " [],\n",
              " [],\n",
              " [],\n",
              " [],\n",
              " [],\n",
              " [],\n",
              " [],\n",
              " [],\n",
              " [],\n",
              " ['최고'],\n",
              " [],\n",
              " [],\n",
              " [],\n",
              " [],\n",
              " [],\n",
              " [],\n",
              " [],\n",
              " [],\n",
              " [],\n",
              " [],\n",
              " [],\n",
              " [],\n",
              " [],\n",
              " [],\n",
              " [],\n",
              " [],\n",
              " [],\n",
              " [],\n",
              " [],\n",
              " [],\n",
              " [],\n",
              " [],\n",
              " [],\n",
              " ['최고'],\n",
              " [],\n",
              " [],\n",
              " [],\n",
              " [],\n",
              " [],\n",
              " [],\n",
              " [],\n",
              " [],\n",
              " [],\n",
              " [],\n",
              " [],\n",
              " [],\n",
              " [],\n",
              " [],\n",
              " [],\n",
              " [],\n",
              " [],\n",
              " ['최고'],\n",
              " [],\n",
              " [],\n",
              " [],\n",
              " [],\n",
              " [],\n",
              " [],\n",
              " [],\n",
              " [],\n",
              " [],\n",
              " [],\n",
              " [],\n",
              " [],\n",
              " [],\n",
              " [],\n",
              " [],\n",
              " [],\n",
              " [],\n",
              " [],\n",
              " ['최고'],\n",
              " [],\n",
              " [],\n",
              " [],\n",
              " [],\n",
              " [],\n",
              " [],\n",
              " [],\n",
              " [],\n",
              " [],\n",
              " [],\n",
              " [],\n",
              " [],\n",
              " [],\n",
              " ['최고'],\n",
              " [],\n",
              " [],\n",
              " [],\n",
              " [],\n",
              " [],\n",
              " [],\n",
              " [],\n",
              " [],\n",
              " [],\n",
              " [],\n",
              " [],\n",
              " [],\n",
              " [],\n",
              " [],\n",
              " [],\n",
              " [],\n",
              " ['최고', '최고'],\n",
              " [],\n",
              " [],\n",
              " [],\n",
              " [],\n",
              " [],\n",
              " [],\n",
              " [],\n",
              " [],\n",
              " [],\n",
              " [],\n",
              " [],\n",
              " [],\n",
              " [],\n",
              " [],\n",
              " [],\n",
              " [],\n",
              " [],\n",
              " [],\n",
              " [],\n",
              " [],\n",
              " [],\n",
              " [],\n",
              " [],\n",
              " [],\n",
              " [],\n",
              " [],\n",
              " [],\n",
              " [],\n",
              " [],\n",
              " [],\n",
              " [],\n",
              " [],\n",
              " [],\n",
              " [],\n",
              " [],\n",
              " [],\n",
              " [],\n",
              " [],\n",
              " [],\n",
              " [],\n",
              " [],\n",
              " [],\n",
              " [],\n",
              " [],\n",
              " [],\n",
              " [],\n",
              " [],\n",
              " [],\n",
              " [],\n",
              " [],\n",
              " [],\n",
              " [],\n",
              " [],\n",
              " [],\n",
              " [],\n",
              " [],\n",
              " [],\n",
              " ['최고'],\n",
              " [],\n",
              " [],\n",
              " ['최고'],\n",
              " [],\n",
              " [],\n",
              " ['최고'],\n",
              " [],\n",
              " [],\n",
              " [],\n",
              " [],\n",
              " [],\n",
              " [],\n",
              " [],\n",
              " [],\n",
              " [],\n",
              " [],\n",
              " [],\n",
              " [],\n",
              " [],\n",
              " [],\n",
              " [],\n",
              " [],\n",
              " [],\n",
              " [],\n",
              " [],\n",
              " [],\n",
              " [],\n",
              " [],\n",
              " [],\n",
              " ['최고'],\n",
              " [],\n",
              " [],\n",
              " [],\n",
              " ['최고'],\n",
              " [],\n",
              " [],\n",
              " [],\n",
              " [],\n",
              " [],\n",
              " ['최고'],\n",
              " [],\n",
              " [],\n",
              " [],\n",
              " [],\n",
              " [],\n",
              " [],\n",
              " [],\n",
              " [],\n",
              " [],\n",
              " [],\n",
              " [],\n",
              " [],\n",
              " [],\n",
              " [],\n",
              " [],\n",
              " [],\n",
              " [],\n",
              " [],\n",
              " [],\n",
              " [],\n",
              " [],\n",
              " [],\n",
              " [],\n",
              " [],\n",
              " [],\n",
              " [],\n",
              " [],\n",
              " [],\n",
              " [],\n",
              " [],\n",
              " [],\n",
              " [],\n",
              " [],\n",
              " [],\n",
              " [],\n",
              " [],\n",
              " [],\n",
              " [],\n",
              " [],\n",
              " [],\n",
              " [],\n",
              " [],\n",
              " [],\n",
              " [],\n",
              " [],\n",
              " [],\n",
              " ['최고'],\n",
              " [],\n",
              " [],\n",
              " ['최고'],\n",
              " [],\n",
              " [],\n",
              " [],\n",
              " [],\n",
              " [],\n",
              " [],\n",
              " [],\n",
              " [],\n",
              " [],\n",
              " [],\n",
              " [],\n",
              " [],\n",
              " [],\n",
              " [],\n",
              " [],\n",
              " [],\n",
              " [],\n",
              " [],\n",
              " [],\n",
              " [],\n",
              " [],\n",
              " [],\n",
              " ['최고'],\n",
              " [],\n",
              " [],\n",
              " [],\n",
              " [],\n",
              " [],\n",
              " [],\n",
              " [],\n",
              " [],\n",
              " [],\n",
              " [],\n",
              " [],\n",
              " [],\n",
              " [],\n",
              " [],\n",
              " [],\n",
              " [],\n",
              " [],\n",
              " [],\n",
              " [],\n",
              " [],\n",
              " [],\n",
              " [],\n",
              " [],\n",
              " [],\n",
              " [],\n",
              " [],\n",
              " [],\n",
              " [],\n",
              " [],\n",
              " [],\n",
              " [],\n",
              " [],\n",
              " [],\n",
              " [],\n",
              " [],\n",
              " [],\n",
              " [],\n",
              " [],\n",
              " [],\n",
              " [],\n",
              " [],\n",
              " [],\n",
              " [],\n",
              " [],\n",
              " [],\n",
              " [],\n",
              " [],\n",
              " [],\n",
              " [],\n",
              " [],\n",
              " [],\n",
              " ['최고'],\n",
              " [],\n",
              " [],\n",
              " [],\n",
              " [],\n",
              " [],\n",
              " [],\n",
              " [],\n",
              " [],\n",
              " [],\n",
              " [],\n",
              " ['최고'],\n",
              " [],\n",
              " [],\n",
              " [],\n",
              " [],\n",
              " [],\n",
              " [],\n",
              " [],\n",
              " [],\n",
              " ...]"
            ]
          },
          "execution_count": 60,
          "metadata": {},
          "output_type": "execute_result"
        }
      ],
      "source": [
        "##특정 키워드를 찾을 수 있다.\n",
        "list(df['document'].str.findall('최고'))"
      ]
    },
    {
      "cell_type": "code",
      "execution_count": null,
      "id": "99953c58",
      "metadata": {
        "id": "99953c58"
      },
      "outputs": [],
      "source": [
        "df['document_len']=df['document'].str.len()"
      ]
    },
    {
      "cell_type": "code",
      "execution_count": null,
      "id": "f97a1b24",
      "metadata": {
        "id": "f97a1b24",
        "outputId": "87a0629f-1e5a-464c-e3b9-a2049bc79eec"
      },
      "outputs": [
        {
          "data": {
            "text/plain": [
              "(array([36766., 46098., 33551., 12015.,  6098.,  3990.,  3136.,  2231.,\n",
              "         2361.,  3749.]),\n",
              " array([  1. ,  15.5,  30. ,  44.5,  59. ,  73.5,  88. , 102.5, 117. ,\n",
              "        131.5, 146. ]),\n",
              " <BarContainer object of 10 artists>)"
            ]
          },
          "execution_count": 68,
          "metadata": {},
          "output_type": "execute_result"
        },
        {
          "data": {
            "image/png": "[encoded data removed]",
            "text/plain": [
              "<Figure size 640x480 with 1 Axes>"
            ]
          },
          "metadata": {},
          "output_type": "display_data"
        }
      ],
      "source": [
        "import matplotlib.pyplot as plt\n",
        "plt.hist(df['document_len'])"
      ]
    },
    {
      "cell_type": "code",
      "execution_count": null,
      "id": "58872783",
      "metadata": {
        "id": "58872783",
        "outputId": "b22113a1-85c6-4b95-f219-f1399a9d0109"
      },
      "outputs": [
        {
          "data": {
            "text/plain": [
              "count    149995.000000\n",
              "mean         35.204527\n",
              "std          29.531890\n",
              "min           1.000000\n",
              "25%          16.000000\n",
              "50%          27.000000\n",
              "75%          42.000000\n",
              "max         146.000000\n",
              "Name: document_len, dtype: float64"
            ]
          },
          "execution_count": 70,
          "metadata": {},
          "output_type": "execute_result"
        }
      ],
      "source": [
        "#요약통계치로 확인도 가능하다!\n",
        "df['document_len'].describe()"
      ]
    },
    {
      "cell_type": "code",
      "execution_count": null,
      "id": "f346897d",
      "metadata": {
        "id": "f346897d",
        "outputId": "956e0b43-5d44-49f3-d99d-5a8de2785ca4"
      },
      "outputs": [
        {
          "data": {
            "text/html": [
              "<div>\n",
              "<style scoped>\n",
              "    .dataframe tbody tr th:only-of-type {\n",
              "        vertical-align: middle;\n",
              "    }\n",
              "\n",
              "    .dataframe tbody tr th {\n",
              "        vertical-align: top;\n",
              "    }\n",
              "\n",
              "    .dataframe thead th {\n",
              "        text-align: right;\n",
              "    }\n",
              "</style>\n",
              "<table border=\"1\" class=\"dataframe\">\n",
              "  <thead>\n",
              "    <tr style=\"text-align: right;\">\n",
              "      <th></th>\n",
              "      <th>count</th>\n",
              "      <th>mean</th>\n",
              "      <th>std</th>\n",
              "      <th>min</th>\n",
              "      <th>25%</th>\n",
              "      <th>50%</th>\n",
              "      <th>75%</th>\n",
              "      <th>max</th>\n",
              "    </tr>\n",
              "    <tr>\n",
              "      <th>label</th>\n",
              "      <th></th>\n",
              "      <th></th>\n",
              "      <th></th>\n",
              "      <th></th>\n",
              "      <th></th>\n",
              "      <th></th>\n",
              "      <th></th>\n",
              "      <th></th>\n",
              "    </tr>\n",
              "  </thead>\n",
              "  <tbody>\n",
              "    <tr>\n",
              "      <th>0</th>\n",
              "      <td>75170.0</td>\n",
              "      <td>35.806319</td>\n",
              "      <td>30.343703</td>\n",
              "      <td>1.0</td>\n",
              "      <td>16.0</td>\n",
              "      <td>27.0</td>\n",
              "      <td>43.0</td>\n",
              "      <td>146.0</td>\n",
              "    </tr>\n",
              "    <tr>\n",
              "      <th>1</th>\n",
              "      <td>74825.0</td>\n",
              "      <td>34.599960</td>\n",
              "      <td>28.680707</td>\n",
              "      <td>1.0</td>\n",
              "      <td>16.0</td>\n",
              "      <td>27.0</td>\n",
              "      <td>42.0</td>\n",
              "      <td>146.0</td>\n",
              "    </tr>\n",
              "  </tbody>\n",
              "</table>\n",
              "</div>"
            ],
            "text/plain": [
              "         count       mean        std  min   25%   50%   75%    max\n",
              "label                                                             \n",
              "0      75170.0  35.806319  30.343703  1.0  16.0  27.0  43.0  146.0\n",
              "1      74825.0  34.599960  28.680707  1.0  16.0  27.0  42.0  146.0"
            ]
          },
          "execution_count": 71,
          "metadata": {},
          "output_type": "execute_result"
        }
      ],
      "source": [
        "df.groupby('label')['document_len'].describe()"
      ]
    },
    {
      "cell_type": "markdown",
      "id": "e09c8aa7",
      "metadata": {
        "id": "e09c8aa7"
      },
      "source": [
        "### 필수과제1\n",
        "- 긍정과 부정에 주요 핵심 키워드를 카운팅 하여서 어떤 키워드가 가장 높은 빈도를 차지하는지?\n",
        "- 긍정과 부정 두 개 비교해서 상위 5개 리스트 공유"
      ]
    },
    {
      "cell_type": "markdown",
      "id": "7547cdff",
      "metadata": {
        "id": "7547cdff"
      },
      "source": [
        "## nltk 패키지를 이용해서 영문데이터 텍스트 전처리"
      ]
    },
    {
      "cell_type": "code",
      "execution_count": null,
      "id": "c91a7289",
      "metadata": {
        "scrolled": true,
        "id": "c91a7289",
        "outputId": "cb111897-2c56-4da9-f986-947e5af9cf3e"
      },
      "outputs": [
        {
          "name": "stderr",
          "output_type": "stream",
          "text": [
            "[nltk_data] Downloading package punkt to /Users/jun/nltk_data...\n",
            "[nltk_data]   Package punkt is already up-to-date!\n",
            "[nltk_data] Downloading package webtext to /Users/jun/nltk_data...\n",
            "[nltk_data]   Package webtext is already up-to-date!\n",
            "[nltk_data] Downloading package wordnet to /Users/jun/nltk_data...\n",
            "[nltk_data]   Package wordnet is already up-to-date!\n",
            "[nltk_data] Downloading package stopwords to /Users/jun/nltk_data...\n",
            "[nltk_data]   Package stopwords is already up-to-date!\n",
            "[nltk_data] Downloading package averaged_perceptron_tagger to\n",
            "[nltk_data]     /Users/jun/nltk_data...\n",
            "[nltk_data]   Package averaged_perceptron_tagger is already up-to-\n",
            "[nltk_data]       date!\n"
          ]
        },
        {
          "data": {
            "text/plain": [
              "True"
            ]
          },
          "execution_count": 74,
          "metadata": {},
          "output_type": "execute_result"
        }
      ],
      "source": [
        "import nltk\n",
        "\n",
        "#nltk 라이브러리\n",
        "nltk.download('punkt')\n",
        "nltk.download('webtext')\n",
        "nltk.download('wordnet')\n",
        "nltk.download('stopwords')\n",
        "nltk.download('averaged_perceptron_tagger')"
      ]
    },
    {
      "cell_type": "code",
      "execution_count": null,
      "id": "22fff1b9",
      "metadata": {
        "id": "22fff1b9"
      },
      "outputs": [],
      "source": [
        "df = 'Deep learning is the subset of machine learning methods based on artificial neural networks with representation learning. The adjective \"deep\" refers to the use of multiple layers in the network. Methods used can be either supervised, semi-supervised or unsupervised.'"
      ]
    },
    {
      "cell_type": "code",
      "execution_count": null,
      "id": "46ed596d",
      "metadata": {
        "id": "46ed596d",
        "outputId": "7c27ac81-7040-4b36-9b8a-9267db252106"
      },
      "outputs": [
        {
          "data": {
            "text/plain": [
              "'Deep learning is the subset of machine learning methods based on artificial neural networks with representation learning. The adjective \"deep\" refers to the use of multiple layers in the network. Methods used can be either supervised, semi-supervised or unsupervised.'"
            ]
          },
          "execution_count": 76,
          "metadata": {},
          "output_type": "execute_result"
        }
      ],
      "source": [
        "df"
      ]
    },
    {
      "cell_type": "markdown",
      "id": "4c3b27ab",
      "metadata": {
        "id": "4c3b27ab"
      },
      "source": [
        "- 텍스트 데이터 전처리\n",
        "    - 노이즈, 분석에 불필요한 것들은 제거하고 문장을 살펴보는 것\n",
        "    - 특수문자, 기타 불필요한 단어들 제거하고\n",
        "        - 불용어(의미가 거의 없는 단어들 은,는,이,가 등등 제거한다.)\n",
        "    - 정제(정규표현식 등으로 데이터에 노이즈를 제거한다, 필요한 것들만 추출할 준비를 한다.)\n",
        "    - 토큰화 : 위에 전처리한 정제를 마친 텍스트를 원하는 단위로 자른다. 단어 토큰화, 여러 방식을 토큰화를 하는데 -> 성능을 올리기 위해서는 이러한 토큰화가 중요하다.\n",
        "    - 정규화 : (동사들의 변형, 과거, 미래 등등 변화하고), 어간 추출, 표제어 추출하는 작업을 할 수 있다.\n",
        "    - 품사 태깅 : (명사, 형용사 기타 등등 ) 토큰을 나눈 것에 의미를 부여해서 -> 품사를 통해 더 많은 의미있는 확보할 수 있다.\n",
        "--------\n",
        "- 결국은 수치로 변화 되는 것 -> 임베딩 작업\n",
        "    - 빈도수로 카운팅하는 contVectorizer (Bag of Words)\n",
        "    - TF-IDF\n",
        "    - CBOW (Word2Vec)\n",
        "    - Skip-Gram( Word2Vec)\n",
        "    - Co-occurence( 동시 단어들 임베딩 작업 등 )\n",
        "    - Bert\n",
        "    - Transfomer\n",
        "   "
      ]
    },
    {
      "cell_type": "code",
      "execution_count": null,
      "id": "d23ccee1",
      "metadata": {
        "id": "d23ccee1",
        "outputId": "de20e980-bb28-4977-dff7-0f2a5d525b74"
      },
      "outputs": [
        {
          "name": "stdout",
          "output_type": "stream",
          "text": [
            "['Deep learning is the subset of machine learning methods based on artificial neural networks with representation learning.', 'The adjective \"deep\" refers to the use of multiple layers in the network.', 'Methods used can be either supervised, semi-supervised or unsupervised.']\n"
          ]
        }
      ],
      "source": [
        "## 문장에 대한 토큰화를 진행한다는 것?\n",
        "from nltk.tokenize import sent_tokenize\n",
        "\n",
        "print(sent_tokenize(df))"
      ]
    },
    {
      "cell_type": "code",
      "execution_count": null,
      "id": "fc94e29e",
      "metadata": {
        "id": "fc94e29e",
        "outputId": "a20b833f-4003-42af-8d3d-49f8530b78a0"
      },
      "outputs": [
        {
          "name": "stdout",
          "output_type": "stream",
          "text": [
            "['Deep', 'learning', 'is', 'the', 'subset', 'of', 'machine', 'learning', 'methods', 'based', 'on', 'artificial', 'neural', 'networks', 'with', 'representation', 'learning', '.', 'The', 'adjective', '``', 'deep', \"''\", 'refers', 'to', 'the', 'use', 'of', 'multiple', 'layers', 'in', 'the', 'network', '.', 'Methods', 'used', 'can', 'be', 'either', 'supervised', ',', 'semi-supervised', 'or', 'unsupervised', '.']\n"
          ]
        }
      ],
      "source": [
        "## 단어 토큰화\n",
        "from nltk.tokenize import word_tokenize\n",
        "\n",
        "print(word_tokenize(df))"
      ]
    },
    {
      "cell_type": "code",
      "execution_count": null,
      "id": "c5318eb1",
      "metadata": {
        "id": "c5318eb1",
        "outputId": "0312ef7f-35b8-4941-e2a6-2ba2f1017705"
      },
      "outputs": [
        {
          "name": "stdout",
          "output_type": "stream",
          "text": [
            "['Deep', 'learning', 'is', 'the', 'subset', 'of', 'machine', 'learning', 'methods', 'based', 'on', 'artificial', 'neural', 'networks', 'with', 'representation', 'learning', '.', 'The', 'adjective', '\"', 'deep', '\"', 'refers', 'to', 'the', 'use', 'of', 'multiple', 'layers', 'in', 'the', 'network', '.', 'Methods', 'used', 'can', 'be', 'either', 'supervised', ',', 'semi', '-', 'supervised', 'or', 'unsupervised', '.']\n"
          ]
        }
      ],
      "source": [
        "## 특수문자 제거\n",
        "from nltk.tokenize import WordPunctTokenizer\n",
        "\n",
        "print(WordPunctTokenizer().tokenize(df))"
      ]
    },
    {
      "cell_type": "code",
      "execution_count": null,
      "id": "09b4a454",
      "metadata": {
        "id": "09b4a454"
      },
      "outputs": [],
      "source": [
        "#정규표현식으로 내가 원하는 문자를 전처리 할 수 있다.\n",
        "from nltk.tokenize import RegexpTokenizer\n",
        "rt_tk=RegexpTokenizer('[\\w\"]+')"
      ]
    },
    {
      "cell_type": "code",
      "execution_count": null,
      "id": "891b68da",
      "metadata": {
        "id": "891b68da",
        "outputId": "e9b1614a-eebf-4f4e-8aae-6009d8de3293"
      },
      "outputs": [
        {
          "name": "stdout",
          "output_type": "stream",
          "text": [
            "['Deep', 'learning', 'is', 'the', 'subset', 'of', 'machine', 'learning', 'methods', 'based', 'on', 'artificial', 'neural', 'networks', 'with', 'representation', 'learning', 'The', 'adjective', '\"deep\"', 'refers', 'to', 'the', 'use', 'of', 'multiple', 'layers', 'in', 'the', 'network', 'Methods', 'used', 'can', 'be', 'either', 'supervised', 'semi', 'supervised', 'or', 'unsupervised']\n"
          ]
        }
      ],
      "source": [
        "print(rt_tk.tokenize(df))"
      ]
    },
    {
      "cell_type": "code",
      "execution_count": null,
      "id": "7f9b5a74",
      "metadata": {
        "id": "7f9b5a74"
      },
      "outputs": [],
      "source": [
        "##불용어처리 (노이즈)\n",
        "##stopwords\n",
        "\n",
        "from nltk.corpus import stopwords\n",
        "\n",
        "en_stop=set(stopwords.words('english'))"
      ]
    },
    {
      "cell_type": "code",
      "execution_count": null,
      "id": "49e3bb2d",
      "metadata": {
        "id": "49e3bb2d"
      },
      "outputs": [],
      "source": [
        "tokens=rt_tk.tokenize(df.lower())"
      ]
    },
    {
      "cell_type": "code",
      "execution_count": null,
      "id": "d7e98024",
      "metadata": {
        "id": "d7e98024",
        "outputId": "6e4d9c82-340e-4264-c1f3-70027bdb40bf"
      },
      "outputs": [
        {
          "name": "stdout",
          "output_type": "stream",
          "text": [
            "['deep', 'learning', 'subset', 'machine', 'learning', 'methods', 'based', 'artificial', 'neural', 'networks', 'representation', 'learning', 'adjective', '\"deep\"', 'refers', 'use', 'multiple', 'layers', 'network', 'methods', 'used', 'either', 'supervised', 'semi', 'supervised', 'unsupervised']\n"
          ]
        }
      ],
      "source": [
        "print([word for word in tokens if word not in en_stop])"
      ]
    },
    {
      "cell_type": "code",
      "execution_count": null,
      "id": "67c1b46c",
      "metadata": {
        "id": "67c1b46c",
        "outputId": "b1559a8b-3e75-4611-d303-ee1b8518e9dc"
      },
      "outputs": [
        {
          "data": {
            "text/plain": [
              "'Deep learning is the subset of machine learning methods based on artificial neural networks with representation learning. The adjective \"deep\" refers to the use of multiple layers in the network. Methods used can be either supervised, semi-supervised or unsupervised.'"
            ]
          },
          "execution_count": 98,
          "metadata": {},
          "output_type": "execute_result"
        }
      ],
      "source": [
        "df"
      ]
    },
    {
      "cell_type": "code",
      "execution_count": null,
      "id": "d7a39de4",
      "metadata": {
        "id": "d7a39de4",
        "outputId": "fa7b3a18-91b7-47ab-bd43-a019ff684058"
      },
      "outputs": [
        {
          "data": {
            "text/plain": [
              "['deep',\n",
              " 'learning',\n",
              " 'is',\n",
              " 'the',\n",
              " 'subset',\n",
              " 'of',\n",
              " 'machine',\n",
              " 'learning',\n",
              " 'methods',\n",
              " 'based',\n",
              " 'on',\n",
              " 'artificial',\n",
              " 'neural',\n",
              " 'networks',\n",
              " 'with',\n",
              " 'representation',\n",
              " 'learning',\n",
              " 'the',\n",
              " 'adjective',\n",
              " '\"deep\"',\n",
              " 'refers',\n",
              " 'to',\n",
              " 'the',\n",
              " 'use',\n",
              " 'of',\n",
              " 'multiple',\n",
              " 'layers',\n",
              " 'in',\n",
              " 'the',\n",
              " 'network',\n",
              " 'methods',\n",
              " 'used',\n",
              " 'can',\n",
              " 'be',\n",
              " 'either',\n",
              " 'supervised',\n",
              " 'semi',\n",
              " 'supervised',\n",
              " 'or',\n",
              " 'unsupervised']"
            ]
          },
          "execution_count": 96,
          "metadata": {},
          "output_type": "execute_result"
        }
      ],
      "source": [
        "tokens"
      ]
    },
    {
      "cell_type": "code",
      "execution_count": null,
      "id": "c345e3f7",
      "metadata": {
        "id": "c345e3f7"
      },
      "outputs": [],
      "source": []
    }
  ],
  "metadata": {
    "kernelspec": {
      "display_name": "Python 3 (ipykernel)",
      "language": "python",
      "name": "python3"
    },
    "language_info": {
      "codemirror_mode": {
        "name": "ipython",
        "version": 3
      },
      "file_extension": ".py",
      "mimetype": "text/x-python",
      "name": "python",
      "nbconvert_exporter": "python",
      "pygments_lexer": "ipython3",
      "version": "3.8.16"
    },
    "colab": {
      "provenance": [],
      "include_colab_link": true
    }
  },
  "nbformat": 4,
  "nbformat_minor": 5
}